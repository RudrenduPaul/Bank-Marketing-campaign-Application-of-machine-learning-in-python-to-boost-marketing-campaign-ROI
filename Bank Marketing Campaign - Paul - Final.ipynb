{
 "cells": [
  {
   "cell_type": "markdown",
   "metadata": {},
   "source": [
    "#### Rudrendu Paul, MBA+MS (Analytics), Boston University (May, 2019)"
   ]
  },
  {
   "cell_type": "markdown",
   "metadata": {},
   "source": [
    "## Bank Marketing Case"
   ]
  },
  {
   "cell_type": "markdown",
   "metadata": {},
   "source": [
    "#### Overview: \n",
    "\n",
    "The data set (bank-additional-full.csv) consists of demographics data on 41,188 people.\n",
    "\n",
    "The target variable is y (column # 21) - whether the clients have responded 'yes' or 'no' to term deposit.\n",
    "\n",
    "Steps:\n",
    "1. data exploration\n",
    "2. feature (variable) selection (statistical tests used: difference of mean and chi square test)\n",
    "3. converting the categorical variables to dummy variables for model predictions\n",
    "4. data split into training & test sets in 80-20 ratio\n",
    "5. multiple machine learning models trained on training dataset\n",
    "6. AUC score & other accuracy metrics calculated on the test set\n",
    "7. Best selected on the basis of test set AUC score\n",
    "8. Lift calculated based on the rank scored probabilities of each person in test set\n",
    "9. Business case formulated (assuming some cost and revenue parameters) on how well the model performs better than the baseline (marketing to everyone on the list)\n",
    "\n",
    "#### Snapshot of business case: \n",
    "\n",
    "Assumptions: \n",
    "1) Cost of mailing to each person is USD 2\n",
    "\n",
    "2) Revenue per person who responds positively to marketing campaign is USD 10.\n",
    "\n",
    "##### Model performance vs baseline\n",
    "\n",
    "Average response rate of people on list is 11 % (baseline) and hence, marketing to each person on the list incurs a loss of $ 6,938 with a ROI of negative 45 % (baseline).\n",
    "\n",
    "Marketing to new list of people with high probability of conversion identified by the best machine learning model, improves response rate to 36 % (performance of best model), 3.5X average  lift over the baseline average response rate of 11 % and hence improves ROI from -45 % (baseline) to 79 % (best model)."
   ]
  },
  {
   "cell_type": "markdown",
   "metadata": {},
   "source": [
    "#### Importing Libraries"
   ]
  },
  {
   "cell_type": "code",
   "execution_count": 1,
   "metadata": {},
   "outputs": [],
   "source": [
    "# Importing the libraries\n",
    "\n",
    "import numpy as np\n",
    "import matplotlib.pyplot as plt\n",
    "import pandas as pd\n",
    "\n",
    "import scipy.stats as stats\n",
    "\n",
    "%matplotlib inline\n",
    "plt.style.use(\"ggplot\")\n",
    "\n",
    "# Multiple Output display\n",
    "from IPython.core.interactiveshell import InteractiveShell\n",
    "InteractiveShell.ast_node_interactivity = \"all\""
   ]
  },
  {
   "cell_type": "markdown",
   "metadata": {},
   "source": [
    "#### Marketing campaign dataset\n",
    "\n",
    "Source: https://archive.ics.uci.edu/ml/datasets/bank+marketing"
   ]
  },
  {
   "cell_type": "code",
   "execution_count": 2,
   "metadata": {},
   "outputs": [
    {
     "data": {
      "text/plain": [
       "(41188, 21)"
      ]
     },
     "execution_count": 2,
     "metadata": {},
     "output_type": "execute_result"
    },
    {
     "data": {
      "text/html": [
       "<div>\n",
       "<style scoped>\n",
       "    .dataframe tbody tr th:only-of-type {\n",
       "        vertical-align: middle;\n",
       "    }\n",
       "\n",
       "    .dataframe tbody tr th {\n",
       "        vertical-align: top;\n",
       "    }\n",
       "\n",
       "    .dataframe thead th {\n",
       "        text-align: right;\n",
       "    }\n",
       "</style>\n",
       "<table border=\"1\" class=\"dataframe\">\n",
       "  <thead>\n",
       "    <tr style=\"text-align: right;\">\n",
       "      <th></th>\n",
       "      <th>age</th>\n",
       "      <th>job</th>\n",
       "      <th>marital</th>\n",
       "      <th>education</th>\n",
       "      <th>default</th>\n",
       "      <th>housing</th>\n",
       "      <th>loan</th>\n",
       "      <th>contact</th>\n",
       "      <th>month</th>\n",
       "      <th>day_of_week</th>\n",
       "      <th>...</th>\n",
       "      <th>campaign</th>\n",
       "      <th>pdays</th>\n",
       "      <th>previous</th>\n",
       "      <th>poutcome</th>\n",
       "      <th>emp.var.rate</th>\n",
       "      <th>cons.price.idx</th>\n",
       "      <th>cons.conf.idx</th>\n",
       "      <th>euribor3m</th>\n",
       "      <th>nr.employed</th>\n",
       "      <th>y</th>\n",
       "    </tr>\n",
       "  </thead>\n",
       "  <tbody>\n",
       "    <tr>\n",
       "      <th>0</th>\n",
       "      <td>56</td>\n",
       "      <td>housemaid</td>\n",
       "      <td>married</td>\n",
       "      <td>basic.4y</td>\n",
       "      <td>no</td>\n",
       "      <td>no</td>\n",
       "      <td>no</td>\n",
       "      <td>telephone</td>\n",
       "      <td>may</td>\n",
       "      <td>mon</td>\n",
       "      <td>...</td>\n",
       "      <td>1</td>\n",
       "      <td>999</td>\n",
       "      <td>0</td>\n",
       "      <td>nonexistent</td>\n",
       "      <td>1.1</td>\n",
       "      <td>93.994</td>\n",
       "      <td>-36.4</td>\n",
       "      <td>4.857</td>\n",
       "      <td>5191.0</td>\n",
       "      <td>no</td>\n",
       "    </tr>\n",
       "    <tr>\n",
       "      <th>1</th>\n",
       "      <td>57</td>\n",
       "      <td>services</td>\n",
       "      <td>married</td>\n",
       "      <td>high.school</td>\n",
       "      <td>unknown</td>\n",
       "      <td>no</td>\n",
       "      <td>no</td>\n",
       "      <td>telephone</td>\n",
       "      <td>may</td>\n",
       "      <td>mon</td>\n",
       "      <td>...</td>\n",
       "      <td>1</td>\n",
       "      <td>999</td>\n",
       "      <td>0</td>\n",
       "      <td>nonexistent</td>\n",
       "      <td>1.1</td>\n",
       "      <td>93.994</td>\n",
       "      <td>-36.4</td>\n",
       "      <td>4.857</td>\n",
       "      <td>5191.0</td>\n",
       "      <td>no</td>\n",
       "    </tr>\n",
       "    <tr>\n",
       "      <th>2</th>\n",
       "      <td>37</td>\n",
       "      <td>services</td>\n",
       "      <td>married</td>\n",
       "      <td>high.school</td>\n",
       "      <td>no</td>\n",
       "      <td>yes</td>\n",
       "      <td>no</td>\n",
       "      <td>telephone</td>\n",
       "      <td>may</td>\n",
       "      <td>mon</td>\n",
       "      <td>...</td>\n",
       "      <td>1</td>\n",
       "      <td>999</td>\n",
       "      <td>0</td>\n",
       "      <td>nonexistent</td>\n",
       "      <td>1.1</td>\n",
       "      <td>93.994</td>\n",
       "      <td>-36.4</td>\n",
       "      <td>4.857</td>\n",
       "      <td>5191.0</td>\n",
       "      <td>no</td>\n",
       "    </tr>\n",
       "    <tr>\n",
       "      <th>3</th>\n",
       "      <td>40</td>\n",
       "      <td>admin.</td>\n",
       "      <td>married</td>\n",
       "      <td>basic.6y</td>\n",
       "      <td>no</td>\n",
       "      <td>no</td>\n",
       "      <td>no</td>\n",
       "      <td>telephone</td>\n",
       "      <td>may</td>\n",
       "      <td>mon</td>\n",
       "      <td>...</td>\n",
       "      <td>1</td>\n",
       "      <td>999</td>\n",
       "      <td>0</td>\n",
       "      <td>nonexistent</td>\n",
       "      <td>1.1</td>\n",
       "      <td>93.994</td>\n",
       "      <td>-36.4</td>\n",
       "      <td>4.857</td>\n",
       "      <td>5191.0</td>\n",
       "      <td>no</td>\n",
       "    </tr>\n",
       "    <tr>\n",
       "      <th>4</th>\n",
       "      <td>56</td>\n",
       "      <td>services</td>\n",
       "      <td>married</td>\n",
       "      <td>high.school</td>\n",
       "      <td>no</td>\n",
       "      <td>no</td>\n",
       "      <td>yes</td>\n",
       "      <td>telephone</td>\n",
       "      <td>may</td>\n",
       "      <td>mon</td>\n",
       "      <td>...</td>\n",
       "      <td>1</td>\n",
       "      <td>999</td>\n",
       "      <td>0</td>\n",
       "      <td>nonexistent</td>\n",
       "      <td>1.1</td>\n",
       "      <td>93.994</td>\n",
       "      <td>-36.4</td>\n",
       "      <td>4.857</td>\n",
       "      <td>5191.0</td>\n",
       "      <td>no</td>\n",
       "    </tr>\n",
       "    <tr>\n",
       "      <th>5</th>\n",
       "      <td>45</td>\n",
       "      <td>services</td>\n",
       "      <td>married</td>\n",
       "      <td>basic.9y</td>\n",
       "      <td>unknown</td>\n",
       "      <td>no</td>\n",
       "      <td>no</td>\n",
       "      <td>telephone</td>\n",
       "      <td>may</td>\n",
       "      <td>mon</td>\n",
       "      <td>...</td>\n",
       "      <td>1</td>\n",
       "      <td>999</td>\n",
       "      <td>0</td>\n",
       "      <td>nonexistent</td>\n",
       "      <td>1.1</td>\n",
       "      <td>93.994</td>\n",
       "      <td>-36.4</td>\n",
       "      <td>4.857</td>\n",
       "      <td>5191.0</td>\n",
       "      <td>no</td>\n",
       "    </tr>\n",
       "    <tr>\n",
       "      <th>6</th>\n",
       "      <td>59</td>\n",
       "      <td>admin.</td>\n",
       "      <td>married</td>\n",
       "      <td>professional.course</td>\n",
       "      <td>no</td>\n",
       "      <td>no</td>\n",
       "      <td>no</td>\n",
       "      <td>telephone</td>\n",
       "      <td>may</td>\n",
       "      <td>mon</td>\n",
       "      <td>...</td>\n",
       "      <td>1</td>\n",
       "      <td>999</td>\n",
       "      <td>0</td>\n",
       "      <td>nonexistent</td>\n",
       "      <td>1.1</td>\n",
       "      <td>93.994</td>\n",
       "      <td>-36.4</td>\n",
       "      <td>4.857</td>\n",
       "      <td>5191.0</td>\n",
       "      <td>no</td>\n",
       "    </tr>\n",
       "    <tr>\n",
       "      <th>7</th>\n",
       "      <td>41</td>\n",
       "      <td>blue-collar</td>\n",
       "      <td>married</td>\n",
       "      <td>unknown</td>\n",
       "      <td>unknown</td>\n",
       "      <td>no</td>\n",
       "      <td>no</td>\n",
       "      <td>telephone</td>\n",
       "      <td>may</td>\n",
       "      <td>mon</td>\n",
       "      <td>...</td>\n",
       "      <td>1</td>\n",
       "      <td>999</td>\n",
       "      <td>0</td>\n",
       "      <td>nonexistent</td>\n",
       "      <td>1.1</td>\n",
       "      <td>93.994</td>\n",
       "      <td>-36.4</td>\n",
       "      <td>4.857</td>\n",
       "      <td>5191.0</td>\n",
       "      <td>no</td>\n",
       "    </tr>\n",
       "    <tr>\n",
       "      <th>8</th>\n",
       "      <td>24</td>\n",
       "      <td>technician</td>\n",
       "      <td>single</td>\n",
       "      <td>professional.course</td>\n",
       "      <td>no</td>\n",
       "      <td>yes</td>\n",
       "      <td>no</td>\n",
       "      <td>telephone</td>\n",
       "      <td>may</td>\n",
       "      <td>mon</td>\n",
       "      <td>...</td>\n",
       "      <td>1</td>\n",
       "      <td>999</td>\n",
       "      <td>0</td>\n",
       "      <td>nonexistent</td>\n",
       "      <td>1.1</td>\n",
       "      <td>93.994</td>\n",
       "      <td>-36.4</td>\n",
       "      <td>4.857</td>\n",
       "      <td>5191.0</td>\n",
       "      <td>no</td>\n",
       "    </tr>\n",
       "    <tr>\n",
       "      <th>9</th>\n",
       "      <td>25</td>\n",
       "      <td>services</td>\n",
       "      <td>single</td>\n",
       "      <td>high.school</td>\n",
       "      <td>no</td>\n",
       "      <td>yes</td>\n",
       "      <td>no</td>\n",
       "      <td>telephone</td>\n",
       "      <td>may</td>\n",
       "      <td>mon</td>\n",
       "      <td>...</td>\n",
       "      <td>1</td>\n",
       "      <td>999</td>\n",
       "      <td>0</td>\n",
       "      <td>nonexistent</td>\n",
       "      <td>1.1</td>\n",
       "      <td>93.994</td>\n",
       "      <td>-36.4</td>\n",
       "      <td>4.857</td>\n",
       "      <td>5191.0</td>\n",
       "      <td>no</td>\n",
       "    </tr>\n",
       "  </tbody>\n",
       "</table>\n",
       "<p>10 rows × 21 columns</p>\n",
       "</div>"
      ],
      "text/plain": [
       "   age          job  marital            education  default housing loan  \\\n",
       "0   56    housemaid  married             basic.4y       no      no   no   \n",
       "1   57     services  married          high.school  unknown      no   no   \n",
       "2   37     services  married          high.school       no     yes   no   \n",
       "3   40       admin.  married             basic.6y       no      no   no   \n",
       "4   56     services  married          high.school       no      no  yes   \n",
       "5   45     services  married             basic.9y  unknown      no   no   \n",
       "6   59       admin.  married  professional.course       no      no   no   \n",
       "7   41  blue-collar  married              unknown  unknown      no   no   \n",
       "8   24   technician   single  professional.course       no     yes   no   \n",
       "9   25     services   single          high.school       no     yes   no   \n",
       "\n",
       "     contact month day_of_week ...  campaign  pdays  previous     poutcome  \\\n",
       "0  telephone   may         mon ...         1    999         0  nonexistent   \n",
       "1  telephone   may         mon ...         1    999         0  nonexistent   \n",
       "2  telephone   may         mon ...         1    999         0  nonexistent   \n",
       "3  telephone   may         mon ...         1    999         0  nonexistent   \n",
       "4  telephone   may         mon ...         1    999         0  nonexistent   \n",
       "5  telephone   may         mon ...         1    999         0  nonexistent   \n",
       "6  telephone   may         mon ...         1    999         0  nonexistent   \n",
       "7  telephone   may         mon ...         1    999         0  nonexistent   \n",
       "8  telephone   may         mon ...         1    999         0  nonexistent   \n",
       "9  telephone   may         mon ...         1    999         0  nonexistent   \n",
       "\n",
       "  emp.var.rate  cons.price.idx  cons.conf.idx  euribor3m  nr.employed   y  \n",
       "0          1.1          93.994          -36.4      4.857       5191.0  no  \n",
       "1          1.1          93.994          -36.4      4.857       5191.0  no  \n",
       "2          1.1          93.994          -36.4      4.857       5191.0  no  \n",
       "3          1.1          93.994          -36.4      4.857       5191.0  no  \n",
       "4          1.1          93.994          -36.4      4.857       5191.0  no  \n",
       "5          1.1          93.994          -36.4      4.857       5191.0  no  \n",
       "6          1.1          93.994          -36.4      4.857       5191.0  no  \n",
       "7          1.1          93.994          -36.4      4.857       5191.0  no  \n",
       "8          1.1          93.994          -36.4      4.857       5191.0  no  \n",
       "9          1.1          93.994          -36.4      4.857       5191.0  no  \n",
       "\n",
       "[10 rows x 21 columns]"
      ]
     },
     "execution_count": 2,
     "metadata": {},
     "output_type": "execute_result"
    }
   ],
   "source": [
    "dataset = pd.read_csv('bank-additional-full.csv', delimiter = \";\")\n",
    "dataset.shape\n",
    "dataset.head(10)"
   ]
  },
  {
   "cell_type": "markdown",
   "metadata": {},
   "source": [
    "#### Exploring the distribution of output (predictor) variable"
   ]
  },
  {
   "cell_type": "code",
   "execution_count": 3,
   "metadata": {},
   "outputs": [
    {
     "data": {
      "text/plain": [
       "Text(0.5,1,'yes/no (overall)')"
      ]
     },
     "execution_count": 3,
     "metadata": {},
     "output_type": "execute_result"
    },
    {
     "data": {
      "text/plain": [
       "<matplotlib.axes._subplots.AxesSubplot at 0x252a91b3ac8>"
      ]
     },
     "execution_count": 3,
     "metadata": {},
     "output_type": "execute_result"
    },
    {
     "data": {
      "image/png": "[encoded data removed]",
      "text/plain": [
       "<Figure size 432x288 with 1 Axes>"
      ]
     },
     "metadata": {},
     "output_type": "display_data"
    }
   ],
   "source": [
    "f = plt.figure(figsize=(6,4))\n",
    "\n",
    "plt.title('yes/no (overall)')\n",
    "dataset[\"y\"].value_counts().plot(kind = \"pie\", autopct='%1.1f%%')\n",
    "plt.savefig('overall_repsonse.png', dpi=80)"
   ]
  },
  {
   "cell_type": "markdown",
   "metadata": {},
   "source": [
    "#### Analysis: \n",
    "\n",
    "Average response rate is 11.3 %."
   ]
  },
  {
   "cell_type": "markdown",
   "metadata": {},
   "source": [
    "### Exploring the model input variables"
   ]
  },
  {
   "cell_type": "markdown",
   "metadata": {},
   "source": [
    "#### Age"
   ]
  },
  {
   "cell_type": "code",
   "execution_count": 4,
   "metadata": {},
   "outputs": [
    {
     "data": {
      "text/plain": [
       "<matplotlib.axes._subplots.AxesSubplot at 0x252a94acfd0>"
      ]
     },
     "execution_count": 4,
     "metadata": {},
     "output_type": "execute_result"
    },
    {
     "data": {
      "text/plain": [
       "Text(0.5,1,'age (overall)')"
      ]
     },
     "execution_count": 4,
     "metadata": {},
     "output_type": "execute_result"
    },
    {
     "data": {
      "text/plain": [
       "<matplotlib.axes._subplots.AxesSubplot at 0x252a94acfd0>"
      ]
     },
     "execution_count": 4,
     "metadata": {},
     "output_type": "execute_result"
    },
    {
     "data": {
      "text/plain": [
       "<matplotlib.axes._subplots.AxesSubplot at 0x252a94d0ef0>"
      ]
     },
     "execution_count": 4,
     "metadata": {},
     "output_type": "execute_result"
    },
    {
     "data": {
      "text/plain": [
       "Text(0.5,1,'age (yes)')"
      ]
     },
     "execution_count": 4,
     "metadata": {},
     "output_type": "execute_result"
    },
    {
     "data": {
      "text/plain": [
       "<matplotlib.axes._subplots.AxesSubplot at 0x252a94d0ef0>"
      ]
     },
     "execution_count": 4,
     "metadata": {},
     "output_type": "execute_result"
    },
    {
     "data": {
      "text/plain": [
       "<matplotlib.axes._subplots.AxesSubplot at 0x252a9552ef0>"
      ]
     },
     "execution_count": 4,
     "metadata": {},
     "output_type": "execute_result"
    },
    {
     "data": {
      "text/plain": [
       "Text(0.5,1,'age (no)')"
      ]
     },
     "execution_count": 4,
     "metadata": {},
     "output_type": "execute_result"
    },
    {
     "data": {
      "text/plain": [
       "<matplotlib.axes._subplots.AxesSubplot at 0x252a9552ef0>"
      ]
     },
     "execution_count": 4,
     "metadata": {},
     "output_type": "execute_result"
    },
    {
     "data": {
      "image/png": "[encoded data removed]",
      "text/plain": [
       "<Figure size 720x432 with 3 Axes>"
      ]
     },
     "metadata": {
      "needs_background": "light"
     },
     "output_type": "display_data"
    }
   ],
   "source": [
    "f = plt.figure(figsize=(10,6))\n",
    "\n",
    "plt.subplot(131)\n",
    "plt.title('age (overall)')\n",
    "Output = None\n",
    "dataset[\"age\"].plot(kind = \"hist\", bins = 20)\n",
    "\n",
    "plt.subplot(132)\n",
    "plt.title('age (yes)')\n",
    "dataset[\"age\"][dataset[\"y\"] == \"yes\"].plot(kind = \"hist\", bins = 20)\n",
    "\n",
    "plt.subplot(133)\n",
    "plt.title('age (no)')\n",
    "dataset[\"age\"][dataset[\"y\"] == \"no\"].plot(kind = \"hist\", bins = 20)\n",
    "plt.tight_layout()\n",
    "\n",
    "plt.savefig('age_distribution.png', dpi=1000)"
   ]
  },
  {
   "cell_type": "markdown",
   "metadata": {},
   "source": [
    "#### Difference of mean test on Age (yes) and Age (No)"
   ]
  },
  {
   "cell_type": "code",
   "execution_count": 5,
   "metadata": {},
   "outputs": [
    {
     "name": "stdout",
     "output_type": "stream",
     "text": [
      "The 95% confidence interval of the difference of means is [ 0.591 ,  1.413 ]\n"
     ]
    }
   ],
   "source": [
    "dataset_age_yes = dataset[\"age\"][dataset[\"y\"] == \"yes\"]\n",
    "dataset_age_no = dataset[\"age\"][dataset[\"y\"] == \"no\"]\n",
    "\n",
    "rows_yes = dataset_age_yes.shape[0]\n",
    "rows_no = dataset_age_no.shape[0]\n",
    "\n",
    "mean_age_yes = np.mean(dataset_age_yes)\n",
    "mean_age_no = np.mean(dataset_age_no)\n",
    "\n",
    "std_dev_age_yes = np.std(dataset_age_yes)\n",
    "std_dev_age_no = np.std(dataset_age_no)\n",
    "\n",
    "\n",
    "std_error = (std_dev_age_yes**2/rows_yes + std_dev_age_no**2/rows_no)**0.5\n",
    "Difference_mean = mean_age_yes - mean_age_no\n",
    "\n",
    "Upper_bound_95_confidence_Interval = round(Difference_mean + 1.96*std_error, 3)\n",
    "Lower_bound_95_confidence_Interval = round(Difference_mean - 1.96*std_error, 3)\n",
    "print(\"The 95% confidence interval of the difference of means is [\", Lower_bound_95_confidence_Interval, \", \", Upper_bound_95_confidence_Interval, \"]\")"
   ]
  },
  {
   "cell_type": "markdown",
   "metadata": {},
   "source": [
    "##### Analysis: \n",
    "\n",
    "Difference of the mean of Age is statistically significant at 95% confidence interval because the 95% confidence interval does not include 0."
   ]
  },
  {
   "cell_type": "markdown",
   "metadata": {},
   "source": [
    "##### Job"
   ]
  },
  {
   "cell_type": "code",
   "execution_count": 6,
   "metadata": {
    "scrolled": true
   },
   "outputs": [
    {
     "data": {
      "text/plain": [
       "<matplotlib.axes._subplots.AxesSubplot at 0x252a978f278>"
      ]
     },
     "execution_count": 6,
     "metadata": {},
     "output_type": "execute_result"
    },
    {
     "data": {
      "text/plain": [
       "Text(0.5,1,'% Job (overall)')"
      ]
     },
     "execution_count": 6,
     "metadata": {},
     "output_type": "execute_result"
    },
    {
     "data": {
      "text/plain": [
       "<matplotlib.axes._subplots.AxesSubplot at 0x252a978f278>"
      ]
     },
     "execution_count": 6,
     "metadata": {},
     "output_type": "execute_result"
    },
    {
     "data": {
      "text/plain": [
       "<matplotlib.axes._subplots.AxesSubplot at 0x252a9627198>"
      ]
     },
     "execution_count": 6,
     "metadata": {},
     "output_type": "execute_result"
    },
    {
     "data": {
      "text/plain": [
       "Text(0.5,1,'% Job (no)')"
      ]
     },
     "execution_count": 6,
     "metadata": {},
     "output_type": "execute_result"
    },
    {
     "data": {
      "text/plain": [
       "<matplotlib.axes._subplots.AxesSubplot at 0x252a9627198>"
      ]
     },
     "execution_count": 6,
     "metadata": {},
     "output_type": "execute_result"
    },
    {
     "data": {
      "text/plain": [
       "<matplotlib.axes._subplots.AxesSubplot at 0x252a9714c88>"
      ]
     },
     "execution_count": 6,
     "metadata": {},
     "output_type": "execute_result"
    },
    {
     "data": {
      "text/plain": [
       "Text(0.5,1,'% Job (yes)')"
      ]
     },
     "execution_count": 6,
     "metadata": {},
     "output_type": "execute_result"
    },
    {
     "data": {
      "text/plain": [
       "<matplotlib.axes._subplots.AxesSubplot at 0x252a9714c88>"
      ]
     },
     "execution_count": 6,
     "metadata": {},
     "output_type": "execute_result"
    },
    {
     "data": {
      "image/png": "[encoded data removed]",
      "text/plain": [
       "<Figure size 1080x720 with 3 Axes>"
      ]
     },
     "metadata": {
      "needs_background": "light"
     },
     "output_type": "display_data"
    }
   ],
   "source": [
    "f = plt.figure(figsize=(15,10))\n",
    "\n",
    "plt.subplot(221)\n",
    "plt.title('% Job (overall)')\n",
    "jobs_dist = dataset[\"job\"].value_counts()\n",
    "jobs_overall = round(jobs_dist/(jobs_dist.sum())*100,1)\n",
    "jobs_overall.plot(kind = \"barh\")\n",
    "\n",
    "plt.subplot(223)\n",
    "plt.title('% Job (no)')\n",
    "jobs_dist_no = dataset[\"job\"][dataset[\"y\"] == \"no\"].value_counts()\n",
    "jobs_no = round(jobs_dist_no/(jobs_dist_no.sum())*100,1)\n",
    "jobs_no.plot(kind = \"barh\")\n",
    "\n",
    "plt.subplot(224)\n",
    "plt.title('% Job (yes)')\n",
    "jobs_dist_yes = dataset[\"job\"][dataset[\"y\"] == \"yes\"].value_counts()\n",
    "jobs_yes = round(jobs_dist_yes/(jobs_dist_yes.sum())*100,1)\n",
    "jobs_yes.plot(kind = \"barh\")\n",
    "\n",
    "plt.savefig('job.png', dpi=1000)\n",
    "\n",
    "plt.tight_layout()"
   ]
  },
  {
   "cell_type": "markdown",
   "metadata": {},
   "source": [
    "#### Chi square test on job category"
   ]
  },
  {
   "cell_type": "code",
   "execution_count": 7,
   "metadata": {},
   "outputs": [
    {
     "data": {
      "text/plain": [
       "admin.           1352\n",
       "technician        730\n",
       "blue-collar       638\n",
       "retired           434\n",
       "management        328\n",
       "services          323\n",
       "student           275\n",
       "self-employed     149\n",
       "unemployed        144\n",
       "entrepreneur      124\n",
       "housemaid         106\n",
       "unknown            37\n",
       "Name: job, dtype: int64"
      ]
     },
     "execution_count": 7,
     "metadata": {},
     "output_type": "execute_result"
    },
    {
     "data": {
      "text/plain": [
       "admin.           9070\n",
       "blue-collar      8616\n",
       "technician       6013\n",
       "services         3646\n",
       "management       2596\n",
       "entrepreneur     1332\n",
       "retired          1286\n",
       "self-employed    1272\n",
       "housemaid         954\n",
       "unemployed        870\n",
       "student           600\n",
       "unknown           293\n",
       "Name: job, dtype: int64"
      ]
     },
     "execution_count": 7,
     "metadata": {},
     "output_type": "execute_result"
    },
    {
     "data": {
      "text/plain": [
       "array([[1352,  730,  638,  434,  328,  323,  275,  149,  144,  124,  106],\n",
       "       [9070, 6013, 8616, 1286, 2596, 3646,  600, 1272,  870, 1332,  954]],\n",
       "      dtype=int64)"
      ]
     },
     "execution_count": 7,
     "metadata": {},
     "output_type": "execute_result"
    },
    {
     "name": "stdout",
     "output_type": "stream",
     "text": [
      "p value of chi-square test:  4.232405679993378e-200\n"
     ]
    }
   ],
   "source": [
    "job_yes = dataset[\"job\"][dataset[\"y\"] == \"yes\"].value_counts()\n",
    "job_yes\n",
    "job_no = dataset[\"job\"][dataset[\"y\"] == \"no\"].value_counts()\n",
    "job_no\n",
    "\n",
    "job_yes_arranged = [job_yes[\"admin.\"], job_yes[\"technician\"], job_yes[\"blue-collar\"], job_yes[\"retired\"], job_yes[\"management\"], job_yes[\"services\"],\n",
    "job_yes[\"student\"], job_yes[\"self-employed\"], job_yes[\"unemployed\"], job_yes[\"entrepreneur\"], job_yes[\"housemaid\"]]\n",
    "\n",
    "job_no_arranged = [job_no[\"admin.\"], job_no[\"technician\"], job_no[\"blue-collar\"], job_no[\"retired\"], job_no[\"management\"], job_no[\"services\"],\n",
    "job_no[\"student\"], job_no[\"self-employed\"], job_no[\"unemployed\"], job_no[\"entrepreneur\"], job_no[\"housemaid\"]]\n",
    "                                                      \n",
    "obs = np.array([job_yes_arranged, job_no_arranged])\n",
    "obs\n",
    "chi2, p, dof, expected = stats.chi2_contingency(obs)\n",
    "print(\"p value of chi-square test: \", p)"
   ]
  },
  {
   "cell_type": "markdown",
   "metadata": {},
   "source": [
    "#### Analysis: \n",
    "\n",
    "The chi square test shows that job is statistically significant at 95% confidence interval is whether people responded yes or no to the marketing campaign as the p value of the chi square is less than 5 %.\n",
    "\n",
    "From the chart shown above for the proportion of each job type in each groups, for people with the following job types had a higher % of responding \"yes\" than those who responded \"no\", \n",
    "\n",
    "1. Admin jobs,\n",
    "2. Retired \n",
    "3. Students."
   ]
  },
  {
   "cell_type": "markdown",
   "metadata": {},
   "source": [
    "##### Marital Status"
   ]
  },
  {
   "cell_type": "code",
   "execution_count": 8,
   "metadata": {},
   "outputs": [
    {
     "data": {
      "text/plain": [
       "<matplotlib.axes._subplots.AxesSubplot at 0x252a995f9e8>"
      ]
     },
     "execution_count": 8,
     "metadata": {},
     "output_type": "execute_result"
    },
    {
     "data": {
      "text/plain": [
       "Text(0.5,1,'marital (overall)')"
      ]
     },
     "execution_count": 8,
     "metadata": {},
     "output_type": "execute_result"
    },
    {
     "data": {
      "text/plain": [
       "<matplotlib.axes._subplots.AxesSubplot at 0x252a995f9e8>"
      ]
     },
     "execution_count": 8,
     "metadata": {},
     "output_type": "execute_result"
    },
    {
     "data": {
      "text/plain": [
       "<matplotlib.axes._subplots.AxesSubplot at 0x252a9640cc0>"
      ]
     },
     "execution_count": 8,
     "metadata": {},
     "output_type": "execute_result"
    },
    {
     "data": {
      "text/plain": [
       "Text(0.5,1,'marital (yes)')"
      ]
     },
     "execution_count": 8,
     "metadata": {},
     "output_type": "execute_result"
    },
    {
     "data": {
      "text/plain": [
       "<matplotlib.axes._subplots.AxesSubplot at 0x252a9640cc0>"
      ]
     },
     "execution_count": 8,
     "metadata": {},
     "output_type": "execute_result"
    },
    {
     "data": {
      "text/plain": [
       "Text(0.5,1,'marital (no)')"
      ]
     },
     "execution_count": 8,
     "metadata": {},
     "output_type": "execute_result"
    },
    {
     "data": {
      "text/plain": [
       "<matplotlib.axes._subplots.AxesSubplot at 0x252a99cb630>"
      ]
     },
     "execution_count": 8,
     "metadata": {},
     "output_type": "execute_result"
    },
    {
     "data": {
      "image/png": "[encoded data removed]",
      "text/plain": [
       "<Figure size 720x576 with 3 Axes>"
      ]
     },
     "metadata": {},
     "output_type": "display_data"
    }
   ],
   "source": [
    "f = plt.figure(figsize=(10,8))\n",
    "\n",
    "plt.subplot(221)\n",
    "plt.title('marital (overall)')\n",
    "dataset[\"marital\"].value_counts().plot(kind = \"pie\", autopct='%1.1f%%')\n",
    "\n",
    "plt.subplot(223)\n",
    "plt.title('marital (yes)')\n",
    "dataset[\"marital\"][dataset[\"y\"] == \"yes\"].value_counts().plot(kind = \"pie\", autopct='%1.1f%%')\n",
    "\n",
    "ax2 = plt.subplot(224)\n",
    "plt.title('marital (no)')\n",
    "dataset[\"marital\"][dataset[\"y\"] == \"no\"].value_counts().plot(kind = \"pie\", autopct='%1.1f%%')\n",
    "plt.tight_layout()\n",
    "\n"
   ]
  },
  {
   "cell_type": "code",
   "execution_count": 9,
   "metadata": {},
   "outputs": [
    {
     "data": {
      "text/plain": [
       "pandas.core.frame.DataFrame"
      ]
     },
     "execution_count": 9,
     "metadata": {},
     "output_type": "execute_result"
    }
   ],
   "source": [
    "pd.DataFrame"
   ]
  },
  {
   "cell_type": "markdown",
   "metadata": {},
   "source": [
    "#### Chi square test on marital status"
   ]
  },
  {
   "cell_type": "code",
   "execution_count": 10,
   "metadata": {},
   "outputs": [
    {
     "data": {
      "text/plain": [
       "married     2532\n",
       "single      1620\n",
       "divorced     476\n",
       "unknown       12\n",
       "Name: marital, dtype: int64"
      ]
     },
     "execution_count": 10,
     "metadata": {},
     "output_type": "execute_result"
    },
    {
     "data": {
      "text/plain": [
       "married     22396\n",
       "single       9948\n",
       "divorced     4136\n",
       "unknown        68\n",
       "Name: marital, dtype: int64"
      ]
     },
     "execution_count": 10,
     "metadata": {},
     "output_type": "execute_result"
    },
    {
     "data": {
      "text/plain": [
       "array([[ 1620,  2532,   476],\n",
       "       [ 9948, 22396,  4136]], dtype=int64)"
      ]
     },
     "execution_count": 10,
     "metadata": {},
     "output_type": "execute_result"
    },
    {
     "name": "stdout",
     "output_type": "stream",
     "text": [
      "p value of chi-square test:  3.924141589479533e-27\n"
     ]
    }
   ],
   "source": [
    "marital_yes = dataset[\"marital\"][dataset[\"y\"] == \"yes\"].value_counts()\n",
    "marital_yes\n",
    "marital_no = dataset[\"marital\"][dataset[\"y\"] == \"no\"].value_counts()\n",
    "marital_no\n",
    "\n",
    "marital_yes_arranged = [marital_yes[\"single\"], marital_yes[\"married\"], marital_yes[\"divorced\"]]\n",
    "\n",
    "marital_no_arranged = [marital_no[\"single\"], marital_no[\"married\"], marital_no[\"divorced\"]]\n",
    "\n",
    "obs = np.array([marital_yes_arranged, marital_no_arranged])\n",
    "obs\n",
    "chi2, p, dof, expected = stats.chi2_contingency(obs)\n",
    "print(\"p value of chi-square test: \", p)"
   ]
  },
  {
   "cell_type": "markdown",
   "metadata": {},
   "source": [
    "##### Analysis: \n",
    "\n",
    "Chi-square test reveals that marital status is statistically significant at 95% confidence interval as the p value is less than 5 %. \n",
    "\n",
    "We can see from the charts above that \"singles\" are on average more likely to positively respond to the campaign than those married or divorced. "
   ]
  },
  {
   "cell_type": "markdown",
   "metadata": {},
   "source": [
    "##### Education level"
   ]
  },
  {
   "cell_type": "code",
   "execution_count": 11,
   "metadata": {},
   "outputs": [
    {
     "data": {
      "text/plain": [
       "<matplotlib.axes._subplots.AxesSubplot at 0x252a9a4ce80>"
      ]
     },
     "execution_count": 11,
     "metadata": {},
     "output_type": "execute_result"
    },
    {
     "data": {
      "text/plain": [
       "Text(0.5,1,'% education (overall distribution)')"
      ]
     },
     "execution_count": 11,
     "metadata": {},
     "output_type": "execute_result"
    },
    {
     "data": {
      "text/plain": [
       "<matplotlib.axes._subplots.AxesSubplot at 0x252a9a4ce80>"
      ]
     },
     "execution_count": 11,
     "metadata": {},
     "output_type": "execute_result"
    },
    {
     "data": {
      "text/plain": [
       "<matplotlib.axes._subplots.AxesSubplot at 0x252a9a6e5c0>"
      ]
     },
     "execution_count": 11,
     "metadata": {},
     "output_type": "execute_result"
    },
    {
     "data": {
      "text/plain": [
       "Text(0.5,1,'% education (yes)')"
      ]
     },
     "execution_count": 11,
     "metadata": {},
     "output_type": "execute_result"
    },
    {
     "data": {
      "text/plain": [
       "<matplotlib.axes._subplots.AxesSubplot at 0x252a9a6e5c0>"
      ]
     },
     "execution_count": 11,
     "metadata": {},
     "output_type": "execute_result"
    },
    {
     "data": {
      "text/plain": [
       "<matplotlib.axes._subplots.AxesSubplot at 0x252a9acf5c0>"
      ]
     },
     "execution_count": 11,
     "metadata": {},
     "output_type": "execute_result"
    },
    {
     "data": {
      "text/plain": [
       "Text(0.5,1,'% education (no)')"
      ]
     },
     "execution_count": 11,
     "metadata": {},
     "output_type": "execute_result"
    },
    {
     "data": {
      "text/plain": [
       "<matplotlib.axes._subplots.AxesSubplot at 0x252a9acf5c0>"
      ]
     },
     "execution_count": 11,
     "metadata": {},
     "output_type": "execute_result"
    },
    {
     "data": {
      "image/png": "[encoded data removed]",
      "text/plain": [
       "<Figure size 1080x720 with 3 Axes>"
      ]
     },
     "metadata": {
      "needs_background": "light"
     },
     "output_type": "display_data"
    }
   ],
   "source": [
    "f = plt.figure(figsize=(15,10))\n",
    "\n",
    "plt.subplot(221)\n",
    "plt.title('% education (overall distribution)')\n",
    "Total_counts = dataset[\"education\"].value_counts()\n",
    "Edu = round(Total_counts/(Total_counts.sum())*100,1)\n",
    "Edu.plot(kind = \"bar\")\n",
    "\n",
    "plt.subplot(223)\n",
    "plt.title('% education (yes)')\n",
    "Total_counts_yes = dataset[\"education\"][dataset[\"y\"] == \"yes\"].value_counts()\n",
    "Edu_yes = round(Total_counts_yes/(Total_counts_yes.sum())*100,1)\n",
    "Edu_yes.plot(kind = \"bar\")\n",
    "\n",
    "plt.subplot(224)\n",
    "plt.title('% education (no)')\n",
    "Total_counts_no = dataset[\"education\"][dataset[\"y\"] == \"no\"].value_counts()\n",
    "Edu_no = round(Total_counts_yes/(Total_counts_no.sum())*100,1)\n",
    "Edu_no.plot(kind = \"bar\")\n",
    "\n",
    "plt.savefig('education.png', dpi=1000)\n",
    "\n",
    "plt.tight_layout()"
   ]
  },
  {
   "cell_type": "markdown",
   "metadata": {},
   "source": [
    "#### % of poeple with higher education in each of those who responded with \"yes\" vs. those with \"no\"\n"
   ]
  },
  {
   "cell_type": "code",
   "execution_count": 12,
   "metadata": {},
   "outputs": [
    {
     "name": "stdout",
     "output_type": "stream",
     "text": [
      "% Education_yes\n"
     ]
    },
    {
     "data": {
      "text/plain": [
       "university.degree      36.0\n",
       "high.school            22.2\n",
       "professional.course    12.8\n",
       "basic.9y               10.2\n",
       "basic.4y                9.2\n",
       "unknown                 5.4\n",
       "basic.6y                4.1\n",
       "illiterate              0.1\n",
       "Name: education, dtype: float64"
      ]
     },
     "execution_count": 12,
     "metadata": {},
     "output_type": "execute_result"
    },
    {
     "name": "stdout",
     "output_type": "stream",
     "text": [
      "% Education_no\n"
     ]
    },
    {
     "data": {
      "text/plain": [
       "university.degree      4.6\n",
       "high.school            2.8\n",
       "professional.course    1.6\n",
       "basic.9y               1.3\n",
       "basic.4y               1.2\n",
       "unknown                0.7\n",
       "basic.6y               0.5\n",
       "illiterate             0.0\n",
       "Name: education, dtype: float64"
      ]
     },
     "execution_count": 12,
     "metadata": {},
     "output_type": "execute_result"
    }
   ],
   "source": [
    "print(\"% Education_yes\")\n",
    "Edu_yes\n",
    "\n",
    "print(\"% Education_no\")\n",
    "Edu_no"
   ]
  },
  {
   "cell_type": "markdown",
   "metadata": {},
   "source": [
    "#### Chi square test on education"
   ]
  },
  {
   "cell_type": "code",
   "execution_count": 13,
   "metadata": {},
   "outputs": [
    {
     "data": {
      "text/plain": [
       "university.degree      1670\n",
       "high.school            1031\n",
       "professional.course     595\n",
       "basic.9y                473\n",
       "basic.4y                428\n",
       "unknown                 251\n",
       "basic.6y                188\n",
       "illiterate                4\n",
       "Name: education, dtype: int64"
      ]
     },
     "execution_count": 13,
     "metadata": {},
     "output_type": "execute_result"
    },
    {
     "data": {
      "text/plain": [
       "university.degree      10498\n",
       "high.school             8484\n",
       "basic.9y                5572\n",
       "professional.course     4648\n",
       "basic.4y                3748\n",
       "basic.6y                2104\n",
       "unknown                 1480\n",
       "illiterate                14\n",
       "Name: education, dtype: int64"
      ]
     },
     "execution_count": 13,
     "metadata": {},
     "output_type": "execute_result"
    },
    {
     "data": {
      "text/plain": [
       "array([[ 1670,  1031,   595,   473,   188,   428,     4],\n",
       "       [10498,  8484,  4648,  5572,  2104,  3748,    14]], dtype=int64)"
      ]
     },
     "execution_count": 13,
     "metadata": {},
     "output_type": "execute_result"
    },
    {
     "name": "stdout",
     "output_type": "stream",
     "text": [
      "p value of chi-square test:  2.2494049169426562e-35\n"
     ]
    }
   ],
   "source": [
    "education_yes = dataset[\"education\"][dataset[\"y\"] == \"yes\"].value_counts()\n",
    "education_yes\n",
    "education_no = dataset[\"education\"][dataset[\"y\"] == \"no\"].value_counts()\n",
    "education_no\n",
    "\n",
    "education_yes_arranged = [education_yes[\"university.degree\"], education_yes[\"high.school\"], education_yes[\"professional.course\"], education_yes[\"basic.9y\"], education_yes[\"basic.6y\"], education_yes[\"basic.4y\"], education_yes[\"illiterate\"]]\n",
    "\n",
    "education_no_arranged = [education_no[\"university.degree\"], education_no[\"high.school\"], education_no[\"professional.course\"], education_no[\"basic.9y\"], education_no[\"basic.6y\"], education_no[\"basic.4y\"], education_no[\"illiterate\"]]\n",
    "\n",
    "obs = np.array([education_yes_arranged, education_no_arranged])\n",
    "obs\n",
    "chi2, p, dof, expected = stats.chi2_contingency(obs)\n",
    "print(\"p value of chi-square test: \", p)"
   ]
  },
  {
   "cell_type": "markdown",
   "metadata": {},
   "source": [
    "#### Analysis: \n",
    "\n",
    "The chi square test reveals that education level is statistically significant at 95% confidence interval as p value is less than 5 %. From the chart above, those who responded \"yes\" had a much higher proportion of people with higher education \n",
    "(university.degree, high.school & professional.course) than those who responded \"no\"."
   ]
  },
  {
   "cell_type": "markdown",
   "metadata": {},
   "source": [
    "##### Default on past loans"
   ]
  },
  {
   "cell_type": "code",
   "execution_count": 14,
   "metadata": {},
   "outputs": [
    {
     "data": {
      "text/plain": [
       "<matplotlib.axes._subplots.AxesSubplot at 0x252a9ed8588>"
      ]
     },
     "execution_count": 14,
     "metadata": {},
     "output_type": "execute_result"
    },
    {
     "data": {
      "text/plain": [
       "Text(0.5,1,'default (overall)')"
      ]
     },
     "execution_count": 14,
     "metadata": {},
     "output_type": "execute_result"
    },
    {
     "data": {
      "text/plain": [
       "<matplotlib.axes._subplots.AxesSubplot at 0x252a9ed8588>"
      ]
     },
     "execution_count": 14,
     "metadata": {},
     "output_type": "execute_result"
    },
    {
     "data": {
      "text/plain": [
       "<matplotlib.axes._subplots.AxesSubplot at 0x252a9f2f400>"
      ]
     },
     "execution_count": 14,
     "metadata": {},
     "output_type": "execute_result"
    },
    {
     "data": {
      "text/plain": [
       "Text(0.5,1,'default (yes)')"
      ]
     },
     "execution_count": 14,
     "metadata": {},
     "output_type": "execute_result"
    },
    {
     "data": {
      "text/plain": [
       "<matplotlib.axes._subplots.AxesSubplot at 0x252a9f2f400>"
      ]
     },
     "execution_count": 14,
     "metadata": {},
     "output_type": "execute_result"
    },
    {
     "data": {
      "text/plain": [
       "<matplotlib.axes._subplots.AxesSubplot at 0x252a9f72ac8>"
      ]
     },
     "execution_count": 14,
     "metadata": {},
     "output_type": "execute_result"
    },
    {
     "data": {
      "text/plain": [
       "Text(0.5,1,'default (no)')"
      ]
     },
     "execution_count": 14,
     "metadata": {},
     "output_type": "execute_result"
    },
    {
     "data": {
      "text/plain": [
       "<matplotlib.axes._subplots.AxesSubplot at 0x252a9f72ac8>"
      ]
     },
     "execution_count": 14,
     "metadata": {},
     "output_type": "execute_result"
    },
    {
     "name": "stdout",
     "output_type": "stream",
     "text": [
      "Distribution of variables in loan default: \n"
     ]
    },
    {
     "data": {
      "text/plain": [
       "no         32588\n",
       "unknown     8597\n",
       "yes            3\n",
       "Name: default, dtype: int64"
      ]
     },
     "execution_count": 14,
     "metadata": {},
     "output_type": "execute_result"
    },
    {
     "data": {
      "image/png": "[encoded data removed]",
      "text/plain": [
       "<Figure size 432x576 with 3 Axes>"
      ]
     },
     "metadata": {
      "needs_background": "light"
     },
     "output_type": "display_data"
    }
   ],
   "source": [
    "f = plt.figure(figsize=(6,8))\n",
    "\n",
    "plt.subplot(221)\n",
    "plt.title('default (overall)')\n",
    "dataset[\"default\"].value_counts().plot(kind = \"bar\")\n",
    "\n",
    "plt.subplot(223)\n",
    "plt.title('default (yes)')\n",
    "dataset[\"default\"][dataset[\"y\"] == \"yes\"].value_counts().plot(kind = \"bar\")\n",
    "\n",
    "plt.subplot(224)\n",
    "plt.title('default (no)')\n",
    "dataset[\"default\"][dataset[\"y\"] == \"no\"].value_counts().plot(kind = \"bar\")\n",
    "plt.tight_layout()\n",
    "\n",
    "print(\"Distribution of variables in loan default: \")\n",
    "dataset[\"default\"].value_counts()"
   ]
  },
  {
   "cell_type": "markdown",
   "metadata": {},
   "source": [
    "#### Analysis: \n",
    "\n",
    "We can drop the Loan default variable as it does not add any new information to our models. From the above table and the plots, it is observed that the most of the values are either \"no\" or \"unknown\" ie, missing. Only 3 people in the entire dataset of 41,188 have defaulted in their previous loans.  "
   ]
  },
  {
   "cell_type": "markdown",
   "metadata": {},
   "source": [
    "#### Housing"
   ]
  },
  {
   "cell_type": "code",
   "execution_count": 15,
   "metadata": {},
   "outputs": [
    {
     "data": {
      "text/plain": [
       "<matplotlib.axes._subplots.AxesSubplot at 0x252a9ffa860>"
      ]
     },
     "execution_count": 15,
     "metadata": {},
     "output_type": "execute_result"
    },
    {
     "data": {
      "text/plain": [
       "Text(0.5,1,'housing (overall)')"
      ]
     },
     "execution_count": 15,
     "metadata": {},
     "output_type": "execute_result"
    },
    {
     "data": {
      "text/plain": [
       "<matplotlib.axes._subplots.AxesSubplot at 0x252a9ffa860>"
      ]
     },
     "execution_count": 15,
     "metadata": {},
     "output_type": "execute_result"
    },
    {
     "data": {
      "text/plain": [
       "<matplotlib.axes._subplots.AxesSubplot at 0x252a9fced68>"
      ]
     },
     "execution_count": 15,
     "metadata": {},
     "output_type": "execute_result"
    },
    {
     "data": {
      "text/plain": [
       "Text(0.5,1,'housing (yes)')"
      ]
     },
     "execution_count": 15,
     "metadata": {},
     "output_type": "execute_result"
    },
    {
     "data": {
      "text/plain": [
       "<matplotlib.axes._subplots.AxesSubplot at 0x252a9fced68>"
      ]
     },
     "execution_count": 15,
     "metadata": {},
     "output_type": "execute_result"
    },
    {
     "data": {
      "text/plain": [
       "<matplotlib.axes._subplots.AxesSubplot at 0x252aa524fd0>"
      ]
     },
     "execution_count": 15,
     "metadata": {},
     "output_type": "execute_result"
    },
    {
     "data": {
      "text/plain": [
       "Text(0.5,1,'housing (no)')"
      ]
     },
     "execution_count": 15,
     "metadata": {},
     "output_type": "execute_result"
    },
    {
     "data": {
      "text/plain": [
       "<matplotlib.axes._subplots.AxesSubplot at 0x252aa524fd0>"
      ]
     },
     "execution_count": 15,
     "metadata": {},
     "output_type": "execute_result"
    },
    {
     "data": {
      "image/png": "[encoded data removed]",
      "text/plain": [
       "<Figure size 720x576 with 3 Axes>"
      ]
     },
     "metadata": {},
     "output_type": "display_data"
    }
   ],
   "source": [
    "f = plt.figure(figsize=(10,8))\n",
    "\n",
    "plt.subplot(221)\n",
    "plt.title('housing (overall)')\n",
    "dataset[\"housing\"].value_counts().plot(kind = \"pie\", autopct='%1.1f%%')\n",
    "\n",
    "plt.subplot(223)\n",
    "plt.title('housing (yes)')\n",
    "dataset[\"housing\"][dataset[\"y\"] == \"yes\"].value_counts().plot(kind = \"pie\", autopct='%1.1f%%')\n",
    "\n",
    "plt.subplot(224)\n",
    "plt.title('housing (no)')\n",
    "dataset[\"housing\"][dataset[\"y\"] == \"no\"].value_counts().plot(kind = \"pie\", autopct='%1.1f%%')\n",
    "plt.tight_layout()"
   ]
  },
  {
   "cell_type": "markdown",
   "metadata": {},
   "source": [
    "#### Chi square test on housing"
   ]
  },
  {
   "cell_type": "code",
   "execution_count": 16,
   "metadata": {},
   "outputs": [
    {
     "data": {
      "text/plain": [
       "yes        2507\n",
       "no         2026\n",
       "unknown     107\n",
       "Name: housing, dtype: int64"
      ]
     },
     "execution_count": 16,
     "metadata": {},
     "output_type": "execute_result"
    },
    {
     "data": {
      "text/plain": [
       "yes        19069\n",
       "no         16596\n",
       "unknown      883\n",
       "Name: housing, dtype: int64"
      ]
     },
     "execution_count": 16,
     "metadata": {},
     "output_type": "execute_result"
    },
    {
     "data": {
      "text/plain": [
       "array([[ 1670,  1031,   595,   473,   188,   428,     4],\n",
       "       [10498,  8484,  4648,  5572,  2104,  3748,    14]], dtype=int64)"
      ]
     },
     "execution_count": 16,
     "metadata": {},
     "output_type": "execute_result"
    },
    {
     "name": "stdout",
     "output_type": "stream",
     "text": [
      "p value of chi-square test:  2.2494049169426562e-35\n"
     ]
    }
   ],
   "source": [
    "housing_yes = dataset[\"housing\"][dataset[\"y\"] == \"yes\"].value_counts()\n",
    "housing_yes\n",
    "housing_no = dataset[\"housing\"][dataset[\"y\"] == \"no\"].value_counts()\n",
    "housing_no\n",
    "\n",
    "housing_yes_arranged = [housing_yes[\"yes\"], housing_yes[\"no\"]]\n",
    "\n",
    "housing_no_arranged = [housing_no[\"yes\"], housing_no[\"no\"]]\n",
    "\n",
    "obs = np.array([education_yes_arranged, education_no_arranged])\n",
    "obs\n",
    "chi2, p, dof, expected = stats.chi2_contingency(obs)\n",
    "print(\"p value of chi-square test: \", p)"
   ]
  },
  {
   "cell_type": "markdown",
   "metadata": {},
   "source": [
    "#### Analysis:\n",
    "\n",
    "The chi square test reveals that housing is statistically significant at 95% confidence interval as p value is less than 5 %."
   ]
  },
  {
   "cell_type": "markdown",
   "metadata": {},
   "source": [
    "##### Personal Loan"
   ]
  },
  {
   "cell_type": "code",
   "execution_count": 17,
   "metadata": {},
   "outputs": [
    {
     "data": {
      "text/plain": [
       "<matplotlib.axes._subplots.AxesSubplot at 0x252a9ed8f60>"
      ]
     },
     "execution_count": 17,
     "metadata": {},
     "output_type": "execute_result"
    },
    {
     "data": {
      "text/plain": [
       "Text(0.5,1,'loan (overall)')"
      ]
     },
     "execution_count": 17,
     "metadata": {},
     "output_type": "execute_result"
    },
    {
     "data": {
      "text/plain": [
       "<matplotlib.axes._subplots.AxesSubplot at 0x252a9ed8f60>"
      ]
     },
     "execution_count": 17,
     "metadata": {},
     "output_type": "execute_result"
    },
    {
     "data": {
      "text/plain": [
       "<matplotlib.axes._subplots.AxesSubplot at 0x252a9ffa2b0>"
      ]
     },
     "execution_count": 17,
     "metadata": {},
     "output_type": "execute_result"
    },
    {
     "data": {
      "text/plain": [
       "Text(0.5,1,'loan (yes)')"
      ]
     },
     "execution_count": 17,
     "metadata": {},
     "output_type": "execute_result"
    },
    {
     "data": {
      "text/plain": [
       "<matplotlib.axes._subplots.AxesSubplot at 0x252a9ffa2b0>"
      ]
     },
     "execution_count": 17,
     "metadata": {},
     "output_type": "execute_result"
    },
    {
     "data": {
      "text/plain": [
       "<matplotlib.axes._subplots.AxesSubplot at 0x252aa5bff28>"
      ]
     },
     "execution_count": 17,
     "metadata": {},
     "output_type": "execute_result"
    },
    {
     "data": {
      "text/plain": [
       "Text(0.5,1,'loan (no)')"
      ]
     },
     "execution_count": 17,
     "metadata": {},
     "output_type": "execute_result"
    },
    {
     "data": {
      "text/plain": [
       "<matplotlib.axes._subplots.AxesSubplot at 0x252aa5bff28>"
      ]
     },
     "execution_count": 17,
     "metadata": {},
     "output_type": "execute_result"
    },
    {
     "data": {
      "image/png": "[encoded data removed]",
      "text/plain": [
       "<Figure size 720x576 with 3 Axes>"
      ]
     },
     "metadata": {},
     "output_type": "display_data"
    }
   ],
   "source": [
    "f = plt.figure(figsize=(10,8))\n",
    "\n",
    "plt.subplot(221)\n",
    "plt.title('loan (overall)')\n",
    "dataset[\"loan\"].value_counts().plot(kind = \"pie\", autopct='%1.1f%%')\n",
    "\n",
    "plt.subplot(223)\n",
    "plt.title('loan (yes)')\n",
    "dataset[\"loan\"][dataset[\"y\"] == \"yes\"].value_counts().plot(kind = \"pie\", autopct='%1.1f%%')\n",
    "\n",
    "plt.subplot(224)\n",
    "plt.title('loan (no)')\n",
    "dataset[\"loan\"][dataset[\"y\"] == \"no\"].value_counts().plot(kind = \"pie\", autopct='%1.1f%%')\n",
    "plt.tight_layout()"
   ]
  },
  {
   "cell_type": "markdown",
   "metadata": {},
   "source": [
    "#### Chi square test on personal loans"
   ]
  },
  {
   "cell_type": "code",
   "execution_count": 18,
   "metadata": {},
   "outputs": [
    {
     "data": {
      "text/plain": [
       "no         3850\n",
       "yes         683\n",
       "unknown     107\n",
       "Name: loan, dtype: int64"
      ]
     },
     "execution_count": 18,
     "metadata": {},
     "output_type": "execute_result"
    },
    {
     "data": {
      "text/plain": [
       "no         30100\n",
       "yes         5565\n",
       "unknown      883\n",
       "Name: loan, dtype: int64"
      ]
     },
     "execution_count": 18,
     "metadata": {},
     "output_type": "execute_result"
    },
    {
     "data": {
      "text/plain": [
       "array([[  683,  3850],\n",
       "       [ 5565, 30100]], dtype=int64)"
      ]
     },
     "execution_count": 18,
     "metadata": {},
     "output_type": "execute_result"
    },
    {
     "name": "stdout",
     "output_type": "stream",
     "text": [
      "p value of chi-square test:  0.35921398426348206\n"
     ]
    }
   ],
   "source": [
    "loan_yes = dataset[\"loan\"][dataset[\"y\"] == \"yes\"].value_counts()\n",
    "loan_yes\n",
    "loan_no = dataset[\"loan\"][dataset[\"y\"] == \"no\"].value_counts()\n",
    "loan_no\n",
    "\n",
    "loan_yes_arranged = [loan_yes[\"yes\"], loan_yes[\"no\"]]\n",
    "\n",
    "loan_no_arranged = [loan_no[\"yes\"], loan_no[\"no\"]]\n",
    "\n",
    "obs = np.array([loan_yes_arranged, loan_no_arranged])\n",
    "obs\n",
    "chi2, p, dof, expected = stats.chi2_contingency(obs)\n",
    "print(\"p value of chi-square test: \", p)"
   ]
  },
  {
   "cell_type": "markdown",
   "metadata": {},
   "source": [
    "#### Analysis:\n",
    "\n",
    "Loan variable shall be dropped as it does not add any additional information. The p value of chi-square test is greater than 0.05, hence it is not statistically significant at 95% confidence level."
   ]
  },
  {
   "cell_type": "markdown",
   "metadata": {},
   "source": [
    "##### Contact"
   ]
  },
  {
   "cell_type": "code",
   "execution_count": 19,
   "metadata": {},
   "outputs": [
    {
     "data": {
      "text/plain": [
       "<matplotlib.axes._subplots.AxesSubplot at 0x252aa63af98>"
      ]
     },
     "execution_count": 19,
     "metadata": {},
     "output_type": "execute_result"
    },
    {
     "data": {
      "text/plain": [
       "Text(0.5,1,'contact (overall)')"
      ]
     },
     "execution_count": 19,
     "metadata": {},
     "output_type": "execute_result"
    },
    {
     "data": {
      "text/plain": [
       "<matplotlib.axes._subplots.AxesSubplot at 0x252aa63af98>"
      ]
     },
     "execution_count": 19,
     "metadata": {},
     "output_type": "execute_result"
    },
    {
     "data": {
      "text/plain": [
       "<matplotlib.axes._subplots.AxesSubplot at 0x252aa653d68>"
      ]
     },
     "execution_count": 19,
     "metadata": {},
     "output_type": "execute_result"
    },
    {
     "data": {
      "text/plain": [
       "Text(0.5,1,'contact (yes)')"
      ]
     },
     "execution_count": 19,
     "metadata": {},
     "output_type": "execute_result"
    },
    {
     "data": {
      "text/plain": [
       "<matplotlib.axes._subplots.AxesSubplot at 0x252aa653d68>"
      ]
     },
     "execution_count": 19,
     "metadata": {},
     "output_type": "execute_result"
    },
    {
     "data": {
      "text/plain": [
       "<matplotlib.axes._subplots.AxesSubplot at 0x252aa67a2e8>"
      ]
     },
     "execution_count": 19,
     "metadata": {},
     "output_type": "execute_result"
    },
    {
     "data": {
      "text/plain": [
       "Text(0.5,1,'contact (no)')"
      ]
     },
     "execution_count": 19,
     "metadata": {},
     "output_type": "execute_result"
    },
    {
     "data": {
      "text/plain": [
       "<matplotlib.axes._subplots.AxesSubplot at 0x252aa67a2e8>"
      ]
     },
     "execution_count": 19,
     "metadata": {},
     "output_type": "execute_result"
    },
    {
     "data": {
      "image/png": "[encoded data removed]",
      "text/plain": [
       "<Figure size 720x576 with 3 Axes>"
      ]
     },
     "metadata": {},
     "output_type": "display_data"
    }
   ],
   "source": [
    "f = plt.figure(figsize=(10,8))\n",
    "\n",
    "plt.subplot(221)\n",
    "plt.title('contact (overall)')\n",
    "dataset[\"contact\"].value_counts().plot(kind = \"pie\", autopct='%1.1f%%')\n",
    "\n",
    "plt.subplot(223)\n",
    "plt.title('contact (yes)')\n",
    "dataset[\"contact\"][dataset[\"y\"] == \"yes\"].value_counts().plot(kind = \"pie\", autopct='%1.1f%%')\n",
    "\n",
    "plt.subplot(224)\n",
    "plt.title('contact (no)')\n",
    "dataset[\"contact\"][dataset[\"y\"] == \"no\"].value_counts().plot(kind = \"pie\", autopct='%1.1f%%')\n",
    "plt.tight_layout()"
   ]
  },
  {
   "cell_type": "markdown",
   "metadata": {},
   "source": [
    "#### Chi square test on contact communication type"
   ]
  },
  {
   "cell_type": "code",
   "execution_count": 20,
   "metadata": {},
   "outputs": [
    {
     "data": {
      "text/plain": [
       "cellular     3853\n",
       "telephone     787\n",
       "Name: contact, dtype: int64"
      ]
     },
     "execution_count": 20,
     "metadata": {},
     "output_type": "execute_result"
    },
    {
     "data": {
      "text/plain": [
       "cellular     22291\n",
       "telephone    14257\n",
       "Name: contact, dtype: int64"
      ]
     },
     "execution_count": 20,
     "metadata": {},
     "output_type": "execute_result"
    },
    {
     "data": {
      "text/plain": [
       "array([[ 3853,   787],\n",
       "       [22291, 14257]], dtype=int64)"
      ]
     },
     "execution_count": 20,
     "metadata": {},
     "output_type": "execute_result"
    },
    {
     "name": "stdout",
     "output_type": "stream",
     "text": [
      "p value of chi-square test:  1.5259856523129964e-189\n"
     ]
    }
   ],
   "source": [
    "contact_yes = dataset[\"contact\"][dataset[\"y\"] == \"yes\"].value_counts()\n",
    "contact_yes\n",
    "contact_no = dataset[\"contact\"][dataset[\"y\"] == \"no\"].value_counts()\n",
    "contact_no\n",
    "\n",
    "obs = np.array([contact_yes, contact_no])\n",
    "obs\n",
    "chi2, p, dof, expected = stats.chi2_contingency(obs)\n",
    "print(\"p value of chi-square test: \", p)"
   ]
  },
  {
   "cell_type": "markdown",
   "metadata": {},
   "source": [
    "##### Analysis: \n",
    "\n",
    "Contact (communication type is statistically significant at 95% confidence interval from chi squeare test. Also, from the above charts, it can be concluded that a people who were contacted by cell phone, higher prportion of them responded more positively to the campaign."
   ]
  },
  {
   "cell_type": "markdown",
   "metadata": {},
   "source": [
    "##### Month"
   ]
  },
  {
   "cell_type": "code",
   "execution_count": 21,
   "metadata": {},
   "outputs": [
    {
     "data": {
      "text/plain": [
       "<matplotlib.axes._subplots.AxesSubplot at 0x252aa701ef0>"
      ]
     },
     "execution_count": 21,
     "metadata": {},
     "output_type": "execute_result"
    },
    {
     "data": {
      "text/plain": [
       "Text(0.5,1,'% month (overall)')"
      ]
     },
     "execution_count": 21,
     "metadata": {},
     "output_type": "execute_result"
    },
    {
     "data": {
      "text/plain": [
       "<matplotlib.axes._subplots.AxesSubplot at 0x252aa701ef0>"
      ]
     },
     "execution_count": 21,
     "metadata": {},
     "output_type": "execute_result"
    },
    {
     "data": {
      "text/plain": [
       "<matplotlib.axes._subplots.AxesSubplot at 0x252a9fbb400>"
      ]
     },
     "execution_count": 21,
     "metadata": {},
     "output_type": "execute_result"
    },
    {
     "data": {
      "text/plain": [
       "Text(0.5,1,'% month (no)')"
      ]
     },
     "execution_count": 21,
     "metadata": {},
     "output_type": "execute_result"
    },
    {
     "data": {
      "text/plain": [
       "<matplotlib.axes._subplots.AxesSubplot at 0x252a9fbb400>"
      ]
     },
     "execution_count": 21,
     "metadata": {},
     "output_type": "execute_result"
    },
    {
     "data": {
      "text/plain": [
       "<matplotlib.axes._subplots.AxesSubplot at 0x252a9edfd30>"
      ]
     },
     "execution_count": 21,
     "metadata": {},
     "output_type": "execute_result"
    },
    {
     "data": {
      "text/plain": [
       "Text(0.5,1,'% month (yes)')"
      ]
     },
     "execution_count": 21,
     "metadata": {},
     "output_type": "execute_result"
    },
    {
     "data": {
      "text/plain": [
       "<matplotlib.axes._subplots.AxesSubplot at 0x252a9edfd30>"
      ]
     },
     "execution_count": 21,
     "metadata": {},
     "output_type": "execute_result"
    },
    {
     "data": {
      "image/png": "[encoded data removed]",
      "text/plain": [
       "<Figure size 720x576 with 3 Axes>"
      ]
     },
     "metadata": {
      "needs_background": "light"
     },
     "output_type": "display_data"
    }
   ],
   "source": [
    "f = plt.figure(figsize=(10,8))\n",
    "plt.subplot(221)\n",
    "plt.title('% month (overall)')\n",
    "month_contact_overall = dataset[\"month\"].value_counts()\n",
    "month_overall = round(month_contact_overall/(month_contact_overall.sum())*100,1)\n",
    "month_overall.plot(kind = \"barh\")\n",
    "\n",
    "plt.subplot(223)\n",
    "plt.title('% month (no)')\n",
    "month_contact_no = dataset[\"month\"][dataset[\"y\"] == \"no\"].value_counts()\n",
    "month_no = round(month_contact_no/(month_contact_no.sum())*100,1)\n",
    "month_no.plot(kind = \"barh\")\n",
    "\n",
    "\n",
    "plt.subplot(224)\n",
    "plt.title('% month (yes)')\n",
    "month_contact_yes = dataset[\"month\"][dataset[\"y\"] == \"yes\"].value_counts()\n",
    "month_yes = round(month_contact_yes/(month_contact_yes.sum())*100,1)\n",
    "month_yes.plot(kind = \"barh\")\n",
    "\n",
    "plt.tight_layout()"
   ]
  },
  {
   "cell_type": "markdown",
   "metadata": {},
   "source": [
    "#### Chi square test on month contacted"
   ]
  },
  {
   "cell_type": "code",
   "execution_count": 22,
   "metadata": {},
   "outputs": [
    {
     "data": {
      "text/plain": [
       "may    886\n",
       "aug    655\n",
       "jul    649\n",
       "jun    559\n",
       "apr    539\n",
       "nov    416\n",
       "oct    315\n",
       "mar    276\n",
       "sep    256\n",
       "dec     89\n",
       "Name: month, dtype: int64"
      ]
     },
     "execution_count": 22,
     "metadata": {},
     "output_type": "execute_result"
    },
    {
     "data": {
      "text/plain": [
       "may    12883\n",
       "jul     6525\n",
       "aug     5523\n",
       "jun     4759\n",
       "nov     3685\n",
       "apr     2093\n",
       "oct      403\n",
       "sep      314\n",
       "mar      270\n",
       "dec       93\n",
       "Name: month, dtype: int64"
      ]
     },
     "execution_count": 22,
     "metadata": {},
     "output_type": "execute_result"
    },
    {
     "data": {
      "text/plain": [
       "array([[  886,   655,   649,   559,   539,   416,   315,   276,   256,\n",
       "           89],\n",
       "       [12883,  5523,  6525,  4759,  2093,  3685,   403,   276,   314,\n",
       "           93]], dtype=int64)"
      ]
     },
     "execution_count": 22,
     "metadata": {},
     "output_type": "execute_result"
    },
    {
     "name": "stdout",
     "output_type": "stream",
     "text": [
      "p value of chi-square test:  0.0\n"
     ]
    }
   ],
   "source": [
    "month_yes = dataset[\"month\"][dataset[\"y\"] == \"yes\"].value_counts()\n",
    "month_yes\n",
    "month_no = dataset[\"month\"][dataset[\"y\"] == \"no\"].value_counts()\n",
    "month_no\n",
    "\n",
    "month_yes_arranged = [month_yes[\"may\"], month_yes[\"aug\"], month_yes[\"jul\"], month_yes[\"jun\"], month_yes[\"apr\"], month_yes[\"nov\"], month_yes[\"oct\"], month_yes[\"mar\"], month_yes[\"sep\"], month_yes[\"dec\"]]\n",
    "\n",
    "month_no_arranged = [month_no[\"may\"], month_no[\"aug\"], month_no[\"jul\"], month_no[\"jun\"], month_no[\"apr\"], month_no[\"nov\"], month_no[\"oct\"], month_yes[\"mar\"], month_no[\"sep\"], month_no[\"dec\"]]\n",
    "\n",
    "obs = np.array([month_yes_arranged, month_no_arranged])\n",
    "obs\n",
    "chi2, p, dof, expected = stats.chi2_contingency(obs)\n",
    "print(\"p value of chi-square test: \", p)"
   ]
  },
  {
   "cell_type": "markdown",
   "metadata": {},
   "source": [
    "##### Day_of_week"
   ]
  },
  {
   "cell_type": "code",
   "execution_count": 23,
   "metadata": {},
   "outputs": [
    {
     "data": {
      "text/plain": [
       "<matplotlib.axes._subplots.AxesSubplot at 0x252aafd1550>"
      ]
     },
     "execution_count": 23,
     "metadata": {},
     "output_type": "execute_result"
    },
    {
     "data": {
      "text/plain": [
       "Text(0.5,1,'% day_of_week (overall)')"
      ]
     },
     "execution_count": 23,
     "metadata": {},
     "output_type": "execute_result"
    },
    {
     "data": {
      "text/plain": [
       "<matplotlib.axes._subplots.AxesSubplot at 0x252aafd1550>"
      ]
     },
     "execution_count": 23,
     "metadata": {},
     "output_type": "execute_result"
    },
    {
     "data": {
      "text/plain": [
       "<matplotlib.axes._subplots.AxesSubplot at 0x252aa900390>"
      ]
     },
     "execution_count": 23,
     "metadata": {},
     "output_type": "execute_result"
    },
    {
     "data": {
      "text/plain": [
       "Text(0.5,1,'% day_of_week (no)')"
      ]
     },
     "execution_count": 23,
     "metadata": {},
     "output_type": "execute_result"
    },
    {
     "data": {
      "text/plain": [
       "<matplotlib.axes._subplots.AxesSubplot at 0x252aa900390>"
      ]
     },
     "execution_count": 23,
     "metadata": {},
     "output_type": "execute_result"
    },
    {
     "data": {
      "text/plain": [
       "<matplotlib.axes._subplots.AxesSubplot at 0x252aa930a20>"
      ]
     },
     "execution_count": 23,
     "metadata": {},
     "output_type": "execute_result"
    },
    {
     "data": {
      "text/plain": [
       "Text(0.5,1,'% day_of_week (yes)')"
      ]
     },
     "execution_count": 23,
     "metadata": {},
     "output_type": "execute_result"
    },
    {
     "data": {
      "text/plain": [
       "<matplotlib.axes._subplots.AxesSubplot at 0x252aa930a20>"
      ]
     },
     "execution_count": 23,
     "metadata": {},
     "output_type": "execute_result"
    },
    {
     "data": {
      "image/png": "[encoded data removed]",
      "text/plain": [
       "<Figure size 720x432 with 3 Axes>"
      ]
     },
     "metadata": {
      "needs_background": "light"
     },
     "output_type": "display_data"
    }
   ],
   "source": [
    "f = plt.figure(figsize=(10,6))\n",
    "\n",
    "plt.subplot(221)\n",
    "plt.title('% day_of_week (overall)')\n",
    "day_of_week_overall = dataset[\"day_of_week\"].value_counts()\n",
    "day_of_week_overall = round(day_of_week_overall/(day_of_week_overall.sum())*100,1)\n",
    "day_of_week_overall.plot(kind = \"barh\")\n",
    "\n",
    "plt.subplot(223)\n",
    "plt.title('% day_of_week (no)')\n",
    "day_of_week_no = dataset[\"day_of_week\"][dataset[\"y\"] == \"no\"].value_counts()\n",
    "day_of_week_no = round(day_of_week_no/(day_of_week_no.sum())*100,1)\n",
    "day_of_week_no.plot(kind = \"barh\")\n",
    "\n",
    "\n",
    "plt.subplot(224)\n",
    "plt.title('% day_of_week (yes)')\n",
    "day_of_week_yes = dataset[\"day_of_week\"][dataset[\"y\"] == \"yes\"].value_counts()\n",
    "day_of_week_yes = round(day_of_week_yes/(day_of_week_yes.sum())*100,1)\n",
    "day_of_week_yes.plot(kind = \"barh\")\n",
    "\n",
    "plt.tight_layout()"
   ]
  },
  {
   "cell_type": "markdown",
   "metadata": {},
   "source": [
    "#### Chi square test on day of week contacted"
   ]
  },
  {
   "cell_type": "code",
   "execution_count": 24,
   "metadata": {},
   "outputs": [
    {
     "data": {
      "text/plain": [
       "thu    1045\n",
       "tue     953\n",
       "wed     949\n",
       "mon     847\n",
       "fri     846\n",
       "Name: day_of_week, dtype: int64"
      ]
     },
     "execution_count": 24,
     "metadata": {},
     "output_type": "execute_result"
    },
    {
     "data": {
      "text/plain": [
       "mon    7667\n",
       "thu    7578\n",
       "wed    7185\n",
       "tue    7137\n",
       "fri    6981\n",
       "Name: day_of_week, dtype: int64"
      ]
     },
     "execution_count": 24,
     "metadata": {},
     "output_type": "execute_result"
    },
    {
     "data": {
      "text/plain": [
       "array([[ 847,  953,  949, 1045,  846],\n",
       "       [7667, 7137, 7185, 7578, 6981]], dtype=int64)"
      ]
     },
     "execution_count": 24,
     "metadata": {},
     "output_type": "execute_result"
    },
    {
     "name": "stdout",
     "output_type": "stream",
     "text": [
      "p value of chi-square test:  2.9584820052785324e-05\n"
     ]
    }
   ],
   "source": [
    "day_of_week_yes = dataset[\"day_of_week\"][dataset[\"y\"] == \"yes\"].value_counts()\n",
    "day_of_week_yes\n",
    "day_of_week_no = dataset[\"day_of_week\"][dataset[\"y\"] == \"no\"].value_counts()\n",
    "day_of_week_no\n",
    "\n",
    "day_of_week_yes_arranged = [day_of_week_yes[\"mon\"], day_of_week_yes[\"tue\"], day_of_week_yes[\"wed\"], day_of_week_yes[\"thu\"], day_of_week_yes[\"fri\"]]\n",
    "day_of_week_no_arranged = [day_of_week_no[\"mon\"], day_of_week_no[\"tue\"], day_of_week_no[\"wed\"], day_of_week_no[\"thu\"], day_of_week_no[\"fri\"]]\n",
    "\n",
    "obs = np.array([day_of_week_yes_arranged, day_of_week_no_arranged])\n",
    "obs\n",
    "chi2, p, dof, expected = stats.chi2_contingency(obs)\n",
    "print(\"p value of chi-square test: \", p)"
   ]
  },
  {
   "cell_type": "markdown",
   "metadata": {},
   "source": [
    "##### Analysis: \n",
    "\n",
    "Day of week contacted is statistically significant at 95% confidence interval from chi squeare test as p value is less than 5 %. \n",
    "\n",
    "From the above charts, Thursday, Tuesday and Wednesday had a higher proportion of positive response."
   ]
  },
  {
   "cell_type": "markdown",
   "metadata": {},
   "source": [
    "##### Duration"
   ]
  },
  {
   "cell_type": "code",
   "execution_count": 25,
   "metadata": {
    "scrolled": true
   },
   "outputs": [
    {
     "data": {
      "text/plain": [
       "<matplotlib.axes._subplots.AxesSubplot at 0x252aa6f5198>"
      ]
     },
     "execution_count": 25,
     "metadata": {},
     "output_type": "execute_result"
    },
    {
     "data": {
      "text/plain": [
       "Text(0.5,1,'duration (overall)')"
      ]
     },
     "execution_count": 25,
     "metadata": {},
     "output_type": "execute_result"
    },
    {
     "data": {
      "text/plain": [
       "<matplotlib.axes._subplots.AxesSubplot at 0x252aa6f5198>"
      ]
     },
     "execution_count": 25,
     "metadata": {},
     "output_type": "execute_result"
    },
    {
     "data": {
      "text/plain": [
       "<matplotlib.axes._subplots.AxesSubplot at 0x252aaa17550>"
      ]
     },
     "execution_count": 25,
     "metadata": {},
     "output_type": "execute_result"
    },
    {
     "data": {
      "text/plain": [
       "Text(0.5,1,'duration (yes)')"
      ]
     },
     "execution_count": 25,
     "metadata": {},
     "output_type": "execute_result"
    },
    {
     "data": {
      "text/plain": [
       "<matplotlib.axes._subplots.AxesSubplot at 0x252aaa17550>"
      ]
     },
     "execution_count": 25,
     "metadata": {},
     "output_type": "execute_result"
    },
    {
     "data": {
      "text/plain": [
       "<matplotlib.axes._subplots.AxesSubplot at 0x252ab0bd128>"
      ]
     },
     "execution_count": 25,
     "metadata": {},
     "output_type": "execute_result"
    },
    {
     "data": {
      "text/plain": [
       "Text(0.5,1,'duration (no)')"
      ]
     },
     "execution_count": 25,
     "metadata": {},
     "output_type": "execute_result"
    },
    {
     "data": {
      "text/plain": [
       "<matplotlib.axes._subplots.AxesSubplot at 0x252ab0bd128>"
      ]
     },
     "execution_count": 25,
     "metadata": {},
     "output_type": "execute_result"
    },
    {
     "data": {
      "image/png": "[encoded data removed]",
      "text/plain": [
       "<Figure size 720x576 with 3 Axes>"
      ]
     },
     "metadata": {
      "needs_background": "light"
     },
     "output_type": "display_data"
    }
   ],
   "source": [
    "f = plt.figure(figsize=(10,8))\n",
    "\n",
    "plt.subplot(221)\n",
    "plt.title('duration (overall)')\n",
    "dataset[\"duration\"].value_counts().plot(kind = \"hist\", bins = 40)\n",
    "\n",
    "plt.subplot(223)\n",
    "plt.title('duration (yes)')\n",
    "dataset[\"duration\"][dataset[\"y\"] == \"yes\"].value_counts().plot(kind = \"hist\", bins = 40)\n",
    "\n",
    "plt.subplot(224)\n",
    "plt.title('duration (no)')\n",
    "dataset[\"duration\"][dataset[\"y\"] == \"no\"].value_counts().plot(kind = \"hist\", bins = 40)\n",
    "plt.tight_layout()"
   ]
  },
  {
   "cell_type": "markdown",
   "metadata": {},
   "source": [
    "#### Analysis: \n",
    "\n",
    "On average default rate was lower among people who responded positively, note the long tail in \"duration (no)\".\n",
    "\n",
    "The call duration variable could not be known ahead of the call. Hence, this variable needs to be dropped for predictive purposes. "
   ]
  },
  {
   "cell_type": "markdown",
   "metadata": {},
   "source": [
    "##### Campaign"
   ]
  },
  {
   "cell_type": "code",
   "execution_count": 26,
   "metadata": {},
   "outputs": [
    {
     "data": {
      "text/plain": [
       "<matplotlib.axes._subplots.AxesSubplot at 0x252ab472da0>"
      ]
     },
     "execution_count": 26,
     "metadata": {},
     "output_type": "execute_result"
    },
    {
     "data": {
      "text/plain": [
       "Text(0.5,1,'% campaign (overall)')"
      ]
     },
     "execution_count": 26,
     "metadata": {},
     "output_type": "execute_result"
    },
    {
     "data": {
      "text/plain": [
       "<matplotlib.axes._subplots.AxesSubplot at 0x252ab472da0>"
      ]
     },
     "execution_count": 26,
     "metadata": {},
     "output_type": "execute_result"
    },
    {
     "data": {
      "text/plain": [
       "<matplotlib.axes._subplots.AxesSubplot at 0x252ab4cdd30>"
      ]
     },
     "execution_count": 26,
     "metadata": {},
     "output_type": "execute_result"
    },
    {
     "data": {
      "text/plain": [
       "Text(0.5,1,'% campaign (yes)')"
      ]
     },
     "execution_count": 26,
     "metadata": {},
     "output_type": "execute_result"
    },
    {
     "data": {
      "text/plain": [
       "<matplotlib.axes._subplots.AxesSubplot at 0x252ab4cdd30>"
      ]
     },
     "execution_count": 26,
     "metadata": {},
     "output_type": "execute_result"
    },
    {
     "data": {
      "text/plain": [
       "<matplotlib.axes._subplots.AxesSubplot at 0x252ab39f400>"
      ]
     },
     "execution_count": 26,
     "metadata": {},
     "output_type": "execute_result"
    },
    {
     "data": {
      "text/plain": [
       "Text(0.5,1,'% campaign (no)')"
      ]
     },
     "execution_count": 26,
     "metadata": {},
     "output_type": "execute_result"
    },
    {
     "data": {
      "text/plain": [
       "<matplotlib.axes._subplots.AxesSubplot at 0x252ab39f400>"
      ]
     },
     "execution_count": 26,
     "metadata": {},
     "output_type": "execute_result"
    },
    {
     "data": {
      "image/png": "[encoded data removed]",
      "text/plain": [
       "<Figure size 1440x1080 with 3 Axes>"
      ]
     },
     "metadata": {
      "needs_background": "light"
     },
     "output_type": "display_data"
    }
   ],
   "source": [
    "f = plt.figure(figsize=(20,15))\n",
    "\n",
    "plt.subplot(221)\n",
    "plt.title('% campaign (overall)')\n",
    "campaign_overall_contact = dataset[\"campaign\"].value_counts()\n",
    "campaign_overall = round(campaign_overall_contact /(campaign_overall_contact.sum())*100,1)\n",
    "campaign_overall.plot(kind = \"bar\")\n",
    "\n",
    "plt.subplot(223)\n",
    "plt.title('% campaign (yes)')\n",
    "campaign_yes_contact = dataset[\"campaign\"][dataset[\"y\"] == \"yes\"].value_counts()\n",
    "campaign_yes = round(campaign_yes_contact /(campaign_yes_contact.sum())*100,1)\n",
    "campaign_yes.plot(kind = \"bar\")\n",
    "\n",
    "plt.subplot(224)\n",
    "plt.title('% campaign (no)')\n",
    "campaign_no_contact = dataset[\"campaign\"][dataset[\"y\"] == \"no\"].value_counts()\n",
    "campaign_no = round(campaign_no_contact /(campaign_no_contact.sum())*100,1)\n",
    "campaign_no.plot(kind = \"bar\")\n",
    "\n",
    "plt.tight_layout()"
   ]
  },
  {
   "cell_type": "markdown",
   "metadata": {},
   "source": [
    "#### Applying Difference of mean test on campaigns (# of contacts with clients)"
   ]
  },
  {
   "cell_type": "code",
   "execution_count": 27,
   "metadata": {},
   "outputs": [
    {
     "name": "stdout",
     "output_type": "stream",
     "text": [
      "The 95% confidence interval of the difference of means is [ -2.033 ,  2.562 ]\n"
     ]
    }
   ],
   "source": [
    "campaign_yes = dataset[\"campaign\"][dataset[\"y\"] == \"yes\"]\n",
    "campaign_yes = dataset[\"campaign\"][dataset[\"y\"] == \"no\"]\n",
    "\n",
    "rows_yes = campaign_yes.shape[0]\n",
    "rows_no = campaign_no.shape[0]\n",
    "\n",
    "mean_campaign_yes = np.mean(campaign_yes)\n",
    "mean_campaign_no = np.mean(campaign_no)\n",
    "\n",
    "std_dev_campaign_yes = np.std(campaign_yes)\n",
    "std_dev_campaign_no = np.std(campaign_no)\n",
    "\n",
    "std_error = (std_dev_campaign_yes**2/rows_yes + std_dev_campaign_no**2/rows_no)**0.5\n",
    "Difference_mean = mean_campaign_yes - mean_campaign_no\n",
    "\n",
    "\n",
    "Upper_bound_95_confidence_Interval = round(Difference_mean + 1.96*std_error, 3)\n",
    "Lower_bound_95_confidence_Interval = round(Difference_mean - 1.96*std_error, 3)\n",
    "\n",
    "print(\"The 95% confidence interval of the difference of means is [\", Lower_bound_95_confidence_Interval, \", \", Upper_bound_95_confidence_Interval, \"]\")"
   ]
  },
  {
   "cell_type": "markdown",
   "metadata": {},
   "source": [
    "#### Analysis: \n",
    "     \n",
    "\"#\" of Campaign contact is not statistically significant at 95% confidence interval as the 95% confidence interval includes 0. "
   ]
  },
  {
   "cell_type": "markdown",
   "metadata": {},
   "source": [
    "#### Client last contacted (pdays)"
   ]
  },
  {
   "cell_type": "code",
   "execution_count": 28,
   "metadata": {},
   "outputs": [
    {
     "name": "stdout",
     "output_type": "stream",
     "text": [
      "Number of different values in pdays (overall):  27\n",
      "% of clients (overall) never contacted before:  96.3  %\n",
      "Number of different values in pdays (yes):  26\n",
      "% of clients (yes) never contacted before:  79.2  %\n",
      "Number of different values in pdays (no):  23\n",
      "% of clients (no) never contacted before:  98.5  %\n"
     ]
    },
    {
     "data": {
      "text/plain": [
       "<matplotlib.axes._subplots.AxesSubplot at 0x252ab440e80>"
      ]
     },
     "execution_count": 28,
     "metadata": {},
     "output_type": "execute_result"
    },
    {
     "data": {
      "text/plain": [
       "Text(0.5,1,'pdays (overall)')"
      ]
     },
     "execution_count": 28,
     "metadata": {},
     "output_type": "execute_result"
    },
    {
     "data": {
      "text/plain": [
       "<matplotlib.axes._subplots.AxesSubplot at 0x252ab440e80>"
      ]
     },
     "execution_count": 28,
     "metadata": {},
     "output_type": "execute_result"
    },
    {
     "data": {
      "text/plain": [
       "<matplotlib.axes._subplots.AxesSubplot at 0x252abdefda0>"
      ]
     },
     "execution_count": 28,
     "metadata": {},
     "output_type": "execute_result"
    },
    {
     "data": {
      "text/plain": [
       "Text(0.5,1,'pdays (yes)')"
      ]
     },
     "execution_count": 28,
     "metadata": {},
     "output_type": "execute_result"
    },
    {
     "data": {
      "text/plain": [
       "<matplotlib.axes._subplots.AxesSubplot at 0x252abdefda0>"
      ]
     },
     "execution_count": 28,
     "metadata": {},
     "output_type": "execute_result"
    },
    {
     "data": {
      "text/plain": [
       "<matplotlib.axes._subplots.AxesSubplot at 0x252abe8d400>"
      ]
     },
     "execution_count": 28,
     "metadata": {},
     "output_type": "execute_result"
    },
    {
     "data": {
      "text/plain": [
       "Text(0.5,1,'pdays (no)')"
      ]
     },
     "execution_count": 28,
     "metadata": {},
     "output_type": "execute_result"
    },
    {
     "data": {
      "text/plain": [
       "<matplotlib.axes._subplots.AxesSubplot at 0x252abe8d400>"
      ]
     },
     "execution_count": 28,
     "metadata": {},
     "output_type": "execute_result"
    },
    {
     "data": {
      "image/png": "[encoded data removed]",
      "text/plain": [
       "<Figure size 1008x720 with 3 Axes>"
      ]
     },
     "metadata": {
      "needs_background": "light"
     },
     "output_type": "display_data"
    }
   ],
   "source": [
    "f = plt.figure(figsize=(14,10))\n",
    "\n",
    "pdays_overall = dataset[\"pdays\"].value_counts()\n",
    "print(\"Number of different values in pdays (overall): \", pdays_overall.shape[0])\n",
    "pdays_overall_999 =  round(pdays_overall[999]/(pdays_overall.sum())*100, 1)\n",
    "print(\"% of clients (overall) never contacted before: \", pdays_overall_999, \" %\")\n",
    "\n",
    "pdays_yes = dataset[\"pdays\"][dataset[\"y\"] == \"yes\"].value_counts()\n",
    "print(\"Number of different values in pdays (yes): \", pdays_yes.shape[0])\n",
    "pdays_yes_999 =  round(pdays_yes[999]/(pdays_yes.sum())*100, 1)\n",
    "print(\"% of clients (yes) never contacted before: \", pdays_yes_999, \" %\")\n",
    "\n",
    "pdays_no = dataset[\"pdays\"][dataset[\"y\"] == \"no\"].value_counts()\n",
    "print(\"Number of different values in pdays (no): \", pdays_no.shape[0])\n",
    "pdays_no_999 =  round(pdays_no[999]/(pdays_no.sum())*100, 1)\n",
    "print(\"% of clients (no) never contacted before: \", pdays_no_999, \" %\")\n",
    "\n",
    "plt.subplot(221)\n",
    "plt.title('pdays (overall)')\n",
    "dataset[\"pdays\"].value_counts().plot(kind = \"bar\")\n",
    "\n",
    "plt.subplot(223)\n",
    "plt.title('pdays (yes)')\n",
    "dataset[\"pdays\"][dataset[\"y\"] == \"yes\"].value_counts().plot(kind = \"bar\")\n",
    "\n",
    "plt.subplot(224)\n",
    "plt.title('pdays (no)')\n",
    "dataset[\"pdays\"][dataset[\"y\"] == \"no\"].value_counts().plot(kind = \"bar\")\n",
    "plt.tight_layout()"
   ]
  },
  {
   "cell_type": "markdown",
   "metadata": {},
   "source": [
    "#### Analysis: \n",
    "    \n",
    "It is observed that most of the values (> 98 %) of all the values are 999, ie, the clients are being contacted for the first time, hence this column does not add any new information. This variable can be dropped."
   ]
  },
  {
   "cell_type": "markdown",
   "metadata": {},
   "source": [
    "##### Previous (contact)"
   ]
  },
  {
   "cell_type": "code",
   "execution_count": 29,
   "metadata": {
    "scrolled": true
   },
   "outputs": [
    {
     "data": {
      "text/plain": [
       "<matplotlib.axes._subplots.AxesSubplot at 0x252ad8d0128>"
      ]
     },
     "execution_count": 29,
     "metadata": {},
     "output_type": "execute_result"
    },
    {
     "data": {
      "text/plain": [
       "Text(0.5,1,'% previously contacted (overall)')"
      ]
     },
     "execution_count": 29,
     "metadata": {},
     "output_type": "execute_result"
    },
    {
     "data": {
      "text/plain": [
       "<matplotlib.axes._subplots.AxesSubplot at 0x252ad8d0128>"
      ]
     },
     "execution_count": 29,
     "metadata": {},
     "output_type": "execute_result"
    },
    {
     "data": {
      "text/plain": [
       "<matplotlib.axes._subplots.AxesSubplot at 0x252ad5a79b0>"
      ]
     },
     "execution_count": 29,
     "metadata": {},
     "output_type": "execute_result"
    },
    {
     "data": {
      "text/plain": [
       "Text(0.5,1,'% previously contacted (yes)')"
      ]
     },
     "execution_count": 29,
     "metadata": {},
     "output_type": "execute_result"
    },
    {
     "data": {
      "text/plain": [
       "<matplotlib.axes._subplots.AxesSubplot at 0x252ad5a79b0>"
      ]
     },
     "execution_count": 29,
     "metadata": {},
     "output_type": "execute_result"
    },
    {
     "data": {
      "text/plain": [
       "<matplotlib.axes._subplots.AxesSubplot at 0x252ad5f6860>"
      ]
     },
     "execution_count": 29,
     "metadata": {},
     "output_type": "execute_result"
    },
    {
     "data": {
      "text/plain": [
       "Text(0.5,1,'% previously contacted (no)')"
      ]
     },
     "execution_count": 29,
     "metadata": {},
     "output_type": "execute_result"
    },
    {
     "data": {
      "text/plain": [
       "<matplotlib.axes._subplots.AxesSubplot at 0x252ad5f6860>"
      ]
     },
     "execution_count": 29,
     "metadata": {},
     "output_type": "execute_result"
    },
    {
     "data": {
      "image/png": "[encoded data removed]",
      "text/plain": [
       "<Figure size 864x432 with 3 Axes>"
      ]
     },
     "metadata": {
      "needs_background": "light"
     },
     "output_type": "display_data"
    }
   ],
   "source": [
    "f = plt.figure(figsize=(12,6))\n",
    "\n",
    "plt.subplot(131)\n",
    "plt.title('% previously contacted (overall)')\n",
    "previous_contact_overall = dataset[\"previous\"].value_counts()\n",
    "previous_overall = round(previous_contact_overall/(previous_contact_overall.sum())*100,1)\n",
    "previous_overall.plot(kind = \"bar\")\n",
    "\n",
    "plt.subplot(132)\n",
    "plt.title('% previously contacted (yes)')\n",
    "previous_contact_yes = dataset[\"previous\"][dataset[\"y\"] == \"yes\"].value_counts()\n",
    "previous_yes = round(previous_contact_yes/(previous_contact_yes.sum())*100,1)\n",
    "previous_yes.plot(kind = \"bar\")\n",
    "\n",
    "plt.subplot(133)\n",
    "plt.title('% previously contacted (no)')\n",
    "previous_contact_no = dataset[\"previous\"][dataset[\"y\"] == \"no\"].value_counts()\n",
    "previous_no = round(previous_contact_no/(previous_contact_no.sum())*100,1)\n",
    "previous_no.plot(kind = \"bar\")\n",
    "\n",
    "plt.tight_layout()"
   ]
  },
  {
   "cell_type": "markdown",
   "metadata": {},
   "source": [
    "#### Difference of mean test on number of times contacted previously"
   ]
  },
  {
   "cell_type": "code",
   "execution_count": 30,
   "metadata": {},
   "outputs": [
    {
     "name": "stdout",
     "output_type": "stream",
     "text": [
      "The 95% confidence interval of the difference of means is [ 0.335 ,  0.385 ]\n"
     ]
    }
   ],
   "source": [
    "previous_yes = dataset[\"previous\"][dataset[\"y\"] == \"yes\"]\n",
    "previous_no = dataset[\"previous\"][dataset[\"y\"] == \"no\"]\n",
    "\n",
    "rows_yes = previous_yes.shape[0]\n",
    "rows_no = previous_no.shape[0]\n",
    "\n",
    "mean_previous_yes = np.mean(previous_yes)\n",
    "mean_previous_no = np.mean(previous_no)\n",
    "\n",
    "std_dev_previous_yes = np.std(previous_yes)\n",
    "std_dev_previous_no = np.std(previous_no)\n",
    "\n",
    "std_error = (std_dev_previous_yes**2/rows_yes + std_dev_previous_no**2/rows_no)**0.5\n",
    "Difference_mean = mean_previous_yes - mean_previous_no\n",
    "\n",
    "Upper_bound_95_confidence_Interval = round(Difference_mean + 1.96*std_error, 3)\n",
    "Lower_bound_95_confidence_Interval = round(Difference_mean - 1.96*std_error, 3)\n",
    "\n",
    "print(\"The 95% confidence interval of the difference of means is [\", Lower_bound_95_confidence_Interval, \", \", Upper_bound_95_confidence_Interval, \"]\")"
   ]
  },
  {
   "cell_type": "markdown",
   "metadata": {},
   "source": [
    "##### Analysis: \n",
    "\n",
    "The difference of mean test reveals that the number of times previously contacted is statistically significant at 95% confidence interval as the 95% confidence interval does not include 0. Also, from the above charts, people who were contacted more than once had a higher likelihood of converting."
   ]
  },
  {
   "cell_type": "markdown",
   "metadata": {},
   "source": [
    "#### Outcome of the previous marketing campaign (poutcome)"
   ]
  },
  {
   "cell_type": "code",
   "execution_count": 31,
   "metadata": {
    "scrolled": true
   },
   "outputs": [
    {
     "data": {
      "text/plain": [
       "<matplotlib.axes._subplots.AxesSubplot at 0x252ad843ba8>"
      ]
     },
     "execution_count": 31,
     "metadata": {},
     "output_type": "execute_result"
    },
    {
     "data": {
      "text/plain": [
       "Text(0.5,1,'% poutcome (overall)')"
      ]
     },
     "execution_count": 31,
     "metadata": {},
     "output_type": "execute_result"
    },
    {
     "data": {
      "text/plain": [
       "<matplotlib.axes._subplots.AxesSubplot at 0x252ad843ba8>"
      ]
     },
     "execution_count": 31,
     "metadata": {},
     "output_type": "execute_result"
    },
    {
     "data": {
      "text/plain": [
       "<matplotlib.axes._subplots.AxesSubplot at 0x252ad6ab2e8>"
      ]
     },
     "execution_count": 31,
     "metadata": {},
     "output_type": "execute_result"
    },
    {
     "data": {
      "text/plain": [
       "Text(0.5,1,'% poutcome (yes)')"
      ]
     },
     "execution_count": 31,
     "metadata": {},
     "output_type": "execute_result"
    },
    {
     "data": {
      "text/plain": [
       "<matplotlib.axes._subplots.AxesSubplot at 0x252ad6ab2e8>"
      ]
     },
     "execution_count": 31,
     "metadata": {},
     "output_type": "execute_result"
    },
    {
     "data": {
      "text/plain": [
       "<matplotlib.axes._subplots.AxesSubplot at 0x252ad6ed630>"
      ]
     },
     "execution_count": 31,
     "metadata": {},
     "output_type": "execute_result"
    },
    {
     "data": {
      "text/plain": [
       "Text(0.5,1,'% poutcome (no)')"
      ]
     },
     "execution_count": 31,
     "metadata": {},
     "output_type": "execute_result"
    },
    {
     "data": {
      "text/plain": [
       "<matplotlib.axes._subplots.AxesSubplot at 0x252ad6ed630>"
      ]
     },
     "execution_count": 31,
     "metadata": {},
     "output_type": "execute_result"
    },
    {
     "data": {
      "image/png": "[encoded data removed]",
      "text/plain": [
       "<Figure size 720x360 with 3 Axes>"
      ]
     },
     "metadata": {
      "needs_background": "light"
     },
     "output_type": "display_data"
    }
   ],
   "source": [
    "f = plt.figure(figsize=(10,5))\n",
    "\n",
    "plt.subplot(131)\n",
    "plt.title('% poutcome (overall)')\n",
    "poutcome_past_overall = dataset[\"poutcome\"].value_counts()\n",
    "poutcome_overall = round(poutcome_past_overall/(poutcome_past_overall.sum())*100,1)\n",
    "poutcome_overall.plot(kind = \"bar\")\n",
    "\n",
    "plt.subplot(132)\n",
    "plt.title('% poutcome (yes)')\n",
    "poutcome_past_yes = dataset[\"poutcome\"][dataset[\"y\"] == \"yes\"].value_counts()\n",
    "poutcome_yes = round(poutcome_past_yes/(poutcome_past_yes.sum())*100,1)\n",
    "poutcome_yes.plot(kind = \"bar\")\n",
    "\n",
    "plt.subplot(133)\n",
    "plt.title('% poutcome (no)')\n",
    "poutcome_past_no = dataset[\"poutcome\"][dataset[\"y\"] == \"no\"].value_counts()\n",
    "poutcome_no = round(poutcome_past_no/(poutcome_past_no.sum())*100,1)\n",
    "poutcome_no.plot(kind = \"bar\")\n",
    "\n",
    "plt.tight_layout()"
   ]
  },
  {
   "cell_type": "markdown",
   "metadata": {},
   "source": [
    "#### Chi square test on previous marketing campaigns (poutcome)"
   ]
  },
  {
   "cell_type": "code",
   "execution_count": 32,
   "metadata": {},
   "outputs": [
    {
     "data": {
      "text/plain": [
       "nonexistent    3141\n",
       "success         894\n",
       "failure         605\n",
       "Name: poutcome, dtype: int64"
      ]
     },
     "execution_count": 32,
     "metadata": {},
     "output_type": "execute_result"
    },
    {
     "data": {
      "text/plain": [
       "nonexistent    32422\n",
       "failure         3647\n",
       "success          479\n",
       "Name: poutcome, dtype: int64"
      ]
     },
     "execution_count": 32,
     "metadata": {},
     "output_type": "execute_result"
    },
    {
     "data": {
      "text/plain": [
       "array([[ 3141,   894,   605],\n",
       "       [32422,   479,  3647]], dtype=int64)"
      ]
     },
     "execution_count": 32,
     "metadata": {},
     "output_type": "execute_result"
    },
    {
     "name": "stdout",
     "output_type": "stream",
     "text": [
      "p value of chi-square test:  0.0\n"
     ]
    }
   ],
   "source": [
    "poutcome_yes = dataset[\"poutcome\"][dataset[\"y\"] == \"yes\"].value_counts()\n",
    "poutcome_yes\n",
    "poutcome_no = dataset[\"poutcome\"][dataset[\"y\"] == \"no\"].value_counts()\n",
    "poutcome_no\n",
    "\n",
    "poutcome_yes_arranged = [poutcome_yes[\"nonexistent\"], poutcome_yes[\"success\"], poutcome_yes[\"failure\"]]\n",
    "poutcome_no_arranged = [poutcome_no[\"nonexistent\"], poutcome_no[\"success\"], poutcome_no[\"failure\"]]\n",
    "\n",
    "obs = np.array([poutcome_yes_arranged, poutcome_no_arranged])\n",
    "obs\n",
    "chi2, p, dof, expected = stats.chi2_contingency(obs)\n",
    "print(\"p value of chi-square test: \", p)"
   ]
  },
  {
   "cell_type": "markdown",
   "metadata": {},
   "source": [
    "##### Analysis: \n",
    "\n",
    "Success of previous marketing campaigns is statistically significant at 95% confidence interval from chi squeare test as p value is less than 5 %."
   ]
  },
  {
   "cell_type": "markdown",
   "metadata": {},
   "source": [
    "### Summary of variable analysis:\n",
    "\n",
    "\n",
    "1) age (Difference of means is statistically significant at 95% confidence interval),\n",
    "\n",
    "2) Job (Statistically signicant at 95% confidence level, proportionally higher response rate from job categories: Admin, Retired, Students),\n",
    "\n",
    "3) marital status (statistically signicant at 95% confidence level, singles are proportionally more responsive),\n",
    "\n",
    "4) education level (statistically significant at 95% confidence level, people with higher education; university.degree, high.school & professional.course responded more positively) \n",
    "\n",
    "5) default (to be dropped, not statistical significant at 95% confidence interval.)\n",
    "\n",
    "6) housing (statistically signicant at 95% confidence level)\n",
    "\n",
    "7) loan (to be dropped, not statistically significant at 95% confidence interval)\n",
    "\n",
    "8) contact (statistically significant at 95% confidence level, higher conversion rates for cellular phone),\n",
    "\n",
    "9) Months contacted (statistically significant at 95% confidence level, higher conversion rates in May, June, July and August)\n",
    "\n",
    "10) Day of week: (statistically significant at 95% confidence level, higher conversion rates: Thursday, Tuesday and Wednesday)\n",
    "\n",
    "11) Duration of call (to be dropped as variable cannot be know ahead of call)\n",
    "\n",
    "12) campaign (It is not statistically significant at 95% confidence interval and so it can be dropped)\n",
    "\n",
    "13) pdays (To be dropped as it is not statistically significant at 95% confidence interval)\n",
    "\n",
    "14) previous (statistically significant at 95% confidence level, people who were contacted more than once had a higher likelihood of converting.)\n",
    "\n",
    "15) poutcome (success in previous campaigns is statistically significant at 95% confidence level)\n",
    "\n",
    "16) Economic Indicators: To be converted to levels (categorical variables) into models\n"
   ]
  },
  {
   "cell_type": "markdown",
   "metadata": {},
   "source": [
    "### Feature Selection"
   ]
  },
  {
   "cell_type": "markdown",
   "metadata": {},
   "source": [
    "#### Missing values\n",
    "\n",
    "Missing values are present as \"unknown\". Lets check how many missibg values are there in each column of the dataframe."
   ]
  },
  {
   "cell_type": "code",
   "execution_count": 33,
   "metadata": {},
   "outputs": [
    {
     "name": "stdout",
     "output_type": "stream",
     "text": [
      "Total rows in data set:  41188\n",
      "Number of missing values in each column:\n",
      "age : 0.0 %\n",
      "job : 0.8 %\n",
      "marital : 0.2 %\n",
      "education : 4.2 %\n",
      "default : 20.9 %\n",
      "housing : 2.4 %\n",
      "loan : 2.4 %\n",
      "contact : 0.0 %\n",
      "month : 0.0 %\n",
      "day_of_week : 0.0 %\n",
      "duration : 0.0 %\n",
      "campaign : 0.0 %\n",
      "pdays : 0.0 %\n",
      "previous : 0.0 %\n",
      "poutcome : 0.0 %\n",
      "emp.var.rate : 0.0 %\n",
      "cons.price.idx : 0.0 %\n",
      "cons.conf.idx : 0.0 %\n",
      "euribor3m : 0.0 %\n",
      "nr.employed : 0.0 %\n",
      "y : 0.0 %\n"
     ]
    }
   ],
   "source": [
    "dataset1 = dataset.astype(str)\n",
    "print(\"Total rows in data set: \", dataset1.shape[0])  \n",
    "\n",
    "print(\"Number of missing values in each column:\")\n",
    "\n",
    "for i in range(dataset1.shape[1]):\n",
    "    a = dataset1.iloc[:,i][dataset1.iloc[:,i] == 'unknown'].shape[0]\n",
    "    print(dataset1.columns.get_values()[i], \":\", round(a/dataset.shape[0]*100, 1), \"%\")"
   ]
  },
  {
   "cell_type": "markdown",
   "metadata": {},
   "source": [
    "#### Analysis: \n",
    "    \n",
    "Most of the missing values are concentrated in the column \"default\". I have already stated above that the variable \"default\" will be dropped.\n",
    "\n",
    "After \"default\" and \"loan\" (to be removed from dataset), the missing values are concentrated in \n",
    "\n",
    "'job': 0.8 % ,\n",
    "'marital' : 0.2 % ,\n",
    "'education' : 4.2 % ,\n",
    "'housing' : 2.4 % ."
   ]
  },
  {
   "cell_type": "markdown",
   "metadata": {},
   "source": [
    "##### Droping unecessary columns"
   ]
  },
  {
   "cell_type": "code",
   "execution_count": 34,
   "metadata": {},
   "outputs": [
    {
     "name": "stdout",
     "output_type": "stream",
     "text": [
      "<class 'pandas.core.frame.DataFrame'>\n",
      "RangeIndex: 41188 entries, 0 to 41187\n",
      "Data columns (total 16 columns):\n",
      "age               41188 non-null int64\n",
      "job               41188 non-null object\n",
      "marital           41188 non-null object\n",
      "education         41188 non-null object\n",
      "housing           41188 non-null object\n",
      "contact           41188 non-null object\n",
      "month             41188 non-null object\n",
      "day_of_week       41188 non-null object\n",
      "previous          41188 non-null int64\n",
      "poutcome          41188 non-null object\n",
      "emp.var.rate      41188 non-null float64\n",
      "cons.price.idx    41188 non-null float64\n",
      "cons.conf.idx     41188 non-null float64\n",
      "euribor3m         41188 non-null float64\n",
      "nr.employed       41188 non-null float64\n",
      "y                 41188 non-null object\n",
      "dtypes: float64(5), int64(2), object(9)\n",
      "memory usage: 5.0+ MB\n"
     ]
    }
   ],
   "source": [
    "dataset = dataset.drop([\"default\", \"loan\", \"duration\", \"campaign\", \"pdays\"], axis = \"columns\")\n",
    "dataset.info()"
   ]
  },
  {
   "cell_type": "markdown",
   "metadata": {},
   "source": [
    "##### Dropping Missing data"
   ]
  },
  {
   "cell_type": "code",
   "execution_count": 35,
   "metadata": {},
   "outputs": [
    {
     "name": "stdout",
     "output_type": "stream",
     "text": [
      "<class 'pandas.core.frame.DataFrame'>\n",
      "Int64Index: 38245 entries, 0 to 41187\n",
      "Data columns (total 16 columns):\n",
      "age               38245 non-null int64\n",
      "job               38245 non-null object\n",
      "marital           38245 non-null object\n",
      "education         38245 non-null object\n",
      "housing           38245 non-null object\n",
      "contact           38245 non-null object\n",
      "month             38245 non-null object\n",
      "day_of_week       38245 non-null object\n",
      "previous          38245 non-null int64\n",
      "poutcome          38245 non-null object\n",
      "emp.var.rate      38245 non-null float64\n",
      "cons.price.idx    38245 non-null float64\n",
      "cons.conf.idx     38245 non-null float64\n",
      "euribor3m         38245 non-null float64\n",
      "nr.employed       38245 non-null float64\n",
      "y                 38245 non-null object\n",
      "dtypes: float64(5), int64(2), object(9)\n",
      "memory usage: 5.0+ MB\n"
     ]
    }
   ],
   "source": [
    "dataset = dataset[dataset != 'unknown']\n",
    "dataset = dataset.dropna()\n",
    "\n",
    "dataset.info()"
   ]
  },
  {
   "cell_type": "markdown",
   "metadata": {},
   "source": [
    "#### Analysis: \n",
    "\n",
    "Deleting all the missing data resulted in 38245 rows vs total 41188 rows in the original dataset, total of (41188 - 38245  =) 2943 rows; (7.1 %) of total data were removed from the original dataset."
   ]
  },
  {
   "cell_type": "markdown",
   "metadata": {},
   "source": [
    "##### Encoding the output/ predictor variable"
   ]
  },
  {
   "cell_type": "code",
   "execution_count": 36,
   "metadata": {},
   "outputs": [
    {
     "data": {
      "text/plain": [
       "<matplotlib.axes._subplots.AxesSubplot at 0x252abf40748>"
      ]
     },
     "execution_count": 36,
     "metadata": {},
     "output_type": "execute_result"
    },
    {
     "data": {
      "image/png": "[encoded data removed]",
      "text/plain": [
       "<Figure size 432x432 with 1 Axes>"
      ]
     },
     "metadata": {
      "needs_background": "light"
     },
     "output_type": "display_data"
    }
   ],
   "source": [
    "# Encoding the predictor variable to 1 for yes and 0 for no\n",
    "\n",
    "mask = dataset[\"y\"] == \"yes\"\n",
    "dataset.loc[mask, \"y\"] = 1\n",
    "\n",
    "mask = dataset[\"y\"] == \"no\"\n",
    "dataset.loc[mask, \"y\"] = 0\n",
    "\n",
    "f = plt.figure(figsize=(6,6))\n",
    "dataset[\"y\"].value_counts().plot(kind = \"bar\")\n",
    "dataset[\"y\"] = dataset[\"y\"].astype(int)"
   ]
  },
  {
   "cell_type": "markdown",
   "metadata": {},
   "source": [
    "#####  Predictor variable for regression model"
   ]
  },
  {
   "cell_type": "code",
   "execution_count": 37,
   "metadata": {},
   "outputs": [
    {
     "data": {
      "text/plain": [
       "0    0\n",
       "1    0\n",
       "2    0\n",
       "3    0\n",
       "4    0\n",
       "Name: y, dtype: int32"
      ]
     },
     "execution_count": 37,
     "metadata": {},
     "output_type": "execute_result"
    }
   ],
   "source": [
    "y = dataset[\"y\"]\n",
    "y.head(5)"
   ]
  },
  {
   "cell_type": "markdown",
   "metadata": {},
   "source": [
    "#####  Numerical variables"
   ]
  },
  {
   "cell_type": "code",
   "execution_count": 38,
   "metadata": {},
   "outputs": [
    {
     "data": {
      "text/html": [
       "<div>\n",
       "<style scoped>\n",
       "    .dataframe tbody tr th:only-of-type {\n",
       "        vertical-align: middle;\n",
       "    }\n",
       "\n",
       "    .dataframe tbody tr th {\n",
       "        vertical-align: top;\n",
       "    }\n",
       "\n",
       "    .dataframe thead th {\n",
       "        text-align: right;\n",
       "    }\n",
       "</style>\n",
       "<table border=\"1\" class=\"dataframe\">\n",
       "  <thead>\n",
       "    <tr style=\"text-align: right;\">\n",
       "      <th></th>\n",
       "      <th>age</th>\n",
       "      <th>previous</th>\n",
       "    </tr>\n",
       "  </thead>\n",
       "  <tbody>\n",
       "    <tr>\n",
       "      <th>0</th>\n",
       "      <td>56</td>\n",
       "      <td>0</td>\n",
       "    </tr>\n",
       "    <tr>\n",
       "      <th>1</th>\n",
       "      <td>57</td>\n",
       "      <td>0</td>\n",
       "    </tr>\n",
       "    <tr>\n",
       "      <th>2</th>\n",
       "      <td>37</td>\n",
       "      <td>0</td>\n",
       "    </tr>\n",
       "    <tr>\n",
       "      <th>3</th>\n",
       "      <td>40</td>\n",
       "      <td>0</td>\n",
       "    </tr>\n",
       "    <tr>\n",
       "      <th>4</th>\n",
       "      <td>56</td>\n",
       "      <td>0</td>\n",
       "    </tr>\n",
       "  </tbody>\n",
       "</table>\n",
       "</div>"
      ],
      "text/plain": [
       "   age  previous\n",
       "0   56         0\n",
       "1   57         0\n",
       "2   37         0\n",
       "3   40         0\n",
       "4   56         0"
      ]
     },
     "execution_count": 38,
     "metadata": {},
     "output_type": "execute_result"
    }
   ],
   "source": [
    "num_cols = [\"age\", \"previous\"]\n",
    "dataset[num_cols].head(5)"
   ]
  },
  {
   "cell_type": "markdown",
   "metadata": {},
   "source": [
    "#####  Categorical variables"
   ]
  },
  {
   "cell_type": "code",
   "execution_count": 39,
   "metadata": {},
   "outputs": [
    {
     "data": {
      "text/html": [
       "<div>\n",
       "<style scoped>\n",
       "    .dataframe tbody tr th:only-of-type {\n",
       "        vertical-align: middle;\n",
       "    }\n",
       "\n",
       "    .dataframe tbody tr th {\n",
       "        vertical-align: top;\n",
       "    }\n",
       "\n",
       "    .dataframe thead th {\n",
       "        text-align: right;\n",
       "    }\n",
       "</style>\n",
       "<table border=\"1\" class=\"dataframe\">\n",
       "  <thead>\n",
       "    <tr style=\"text-align: right;\">\n",
       "      <th></th>\n",
       "      <th>job</th>\n",
       "      <th>marital</th>\n",
       "      <th>education</th>\n",
       "      <th>housing</th>\n",
       "      <th>contact</th>\n",
       "      <th>month</th>\n",
       "      <th>day_of_week</th>\n",
       "      <th>poutcome</th>\n",
       "      <th>emp.var.rate</th>\n",
       "      <th>cons.price.idx</th>\n",
       "      <th>cons.conf.idx</th>\n",
       "      <th>euribor3m</th>\n",
       "      <th>nr.employed</th>\n",
       "    </tr>\n",
       "  </thead>\n",
       "  <tbody>\n",
       "    <tr>\n",
       "      <th>0</th>\n",
       "      <td>housemaid</td>\n",
       "      <td>married</td>\n",
       "      <td>basic.4y</td>\n",
       "      <td>no</td>\n",
       "      <td>telephone</td>\n",
       "      <td>may</td>\n",
       "      <td>mon</td>\n",
       "      <td>nonexistent</td>\n",
       "      <td>1.1</td>\n",
       "      <td>93.994</td>\n",
       "      <td>-36.4</td>\n",
       "      <td>4.857</td>\n",
       "      <td>5191.0</td>\n",
       "    </tr>\n",
       "    <tr>\n",
       "      <th>1</th>\n",
       "      <td>services</td>\n",
       "      <td>married</td>\n",
       "      <td>high.school</td>\n",
       "      <td>no</td>\n",
       "      <td>telephone</td>\n",
       "      <td>may</td>\n",
       "      <td>mon</td>\n",
       "      <td>nonexistent</td>\n",
       "      <td>1.1</td>\n",
       "      <td>93.994</td>\n",
       "      <td>-36.4</td>\n",
       "      <td>4.857</td>\n",
       "      <td>5191.0</td>\n",
       "    </tr>\n",
       "    <tr>\n",
       "      <th>2</th>\n",
       "      <td>services</td>\n",
       "      <td>married</td>\n",
       "      <td>high.school</td>\n",
       "      <td>yes</td>\n",
       "      <td>telephone</td>\n",
       "      <td>may</td>\n",
       "      <td>mon</td>\n",
       "      <td>nonexistent</td>\n",
       "      <td>1.1</td>\n",
       "      <td>93.994</td>\n",
       "      <td>-36.4</td>\n",
       "      <td>4.857</td>\n",
       "      <td>5191.0</td>\n",
       "    </tr>\n",
       "    <tr>\n",
       "      <th>3</th>\n",
       "      <td>admin.</td>\n",
       "      <td>married</td>\n",
       "      <td>basic.6y</td>\n",
       "      <td>no</td>\n",
       "      <td>telephone</td>\n",
       "      <td>may</td>\n",
       "      <td>mon</td>\n",
       "      <td>nonexistent</td>\n",
       "      <td>1.1</td>\n",
       "      <td>93.994</td>\n",
       "      <td>-36.4</td>\n",
       "      <td>4.857</td>\n",
       "      <td>5191.0</td>\n",
       "    </tr>\n",
       "    <tr>\n",
       "      <th>4</th>\n",
       "      <td>services</td>\n",
       "      <td>married</td>\n",
       "      <td>high.school</td>\n",
       "      <td>no</td>\n",
       "      <td>telephone</td>\n",
       "      <td>may</td>\n",
       "      <td>mon</td>\n",
       "      <td>nonexistent</td>\n",
       "      <td>1.1</td>\n",
       "      <td>93.994</td>\n",
       "      <td>-36.4</td>\n",
       "      <td>4.857</td>\n",
       "      <td>5191.0</td>\n",
       "    </tr>\n",
       "  </tbody>\n",
       "</table>\n",
       "</div>"
      ],
      "text/plain": [
       "         job  marital    education housing    contact month day_of_week  \\\n",
       "0  housemaid  married     basic.4y      no  telephone   may         mon   \n",
       "1   services  married  high.school      no  telephone   may         mon   \n",
       "2   services  married  high.school     yes  telephone   may         mon   \n",
       "3     admin.  married     basic.6y      no  telephone   may         mon   \n",
       "4   services  married  high.school      no  telephone   may         mon   \n",
       "\n",
       "      poutcome  emp.var.rate  cons.price.idx  cons.conf.idx  euribor3m  \\\n",
       "0  nonexistent           1.1          93.994          -36.4      4.857   \n",
       "1  nonexistent           1.1          93.994          -36.4      4.857   \n",
       "2  nonexistent           1.1          93.994          -36.4      4.857   \n",
       "3  nonexistent           1.1          93.994          -36.4      4.857   \n",
       "4  nonexistent           1.1          93.994          -36.4      4.857   \n",
       "\n",
       "   nr.employed  \n",
       "0       5191.0  \n",
       "1       5191.0  \n",
       "2       5191.0  \n",
       "3       5191.0  \n",
       "4       5191.0  "
      ]
     },
     "execution_count": 39,
     "metadata": {},
     "output_type": "execute_result"
    }
   ],
   "source": [
    "cat_cols = [\"job\", \"marital\", \"education\", \"housing\", \"contact\", \"month\", \"day_of_week\", \"poutcome\", \"emp.var.rate\", \"cons.price.idx\", \"cons.conf.idx\", \"euribor3m\", \"nr.employed\"]\n",
    "dataset[cat_cols].head(5)"
   ]
  },
  {
   "cell_type": "code",
   "execution_count": 40,
   "metadata": {},
   "outputs": [
    {
     "data": {
      "text/html": [
       "<div>\n",
       "<style scoped>\n",
       "    .dataframe tbody tr th:only-of-type {\n",
       "        vertical-align: middle;\n",
       "    }\n",
       "\n",
       "    .dataframe tbody tr th {\n",
       "        vertical-align: top;\n",
       "    }\n",
       "\n",
       "    .dataframe thead th {\n",
       "        text-align: right;\n",
       "    }\n",
       "</style>\n",
       "<table border=\"1\" class=\"dataframe\">\n",
       "  <thead>\n",
       "    <tr style=\"text-align: right;\">\n",
       "      <th></th>\n",
       "      <th>job</th>\n",
       "      <th>marital</th>\n",
       "      <th>education</th>\n",
       "      <th>housing</th>\n",
       "      <th>contact</th>\n",
       "      <th>month</th>\n",
       "      <th>day_of_week</th>\n",
       "      <th>poutcome</th>\n",
       "      <th>emp.var.rate</th>\n",
       "      <th>cons.price.idx</th>\n",
       "      <th>cons.conf.idx</th>\n",
       "      <th>euribor3m</th>\n",
       "      <th>nr.employed</th>\n",
       "    </tr>\n",
       "  </thead>\n",
       "  <tbody>\n",
       "    <tr>\n",
       "      <th>0</th>\n",
       "      <td>housemaid</td>\n",
       "      <td>married</td>\n",
       "      <td>basic.4y</td>\n",
       "      <td>no</td>\n",
       "      <td>telephone</td>\n",
       "      <td>may</td>\n",
       "      <td>mon</td>\n",
       "      <td>nonexistent</td>\n",
       "      <td>1.1</td>\n",
       "      <td>93.994</td>\n",
       "      <td>-36.4</td>\n",
       "      <td>4.857</td>\n",
       "      <td>5191.0</td>\n",
       "    </tr>\n",
       "    <tr>\n",
       "      <th>1</th>\n",
       "      <td>services</td>\n",
       "      <td>married</td>\n",
       "      <td>high.school</td>\n",
       "      <td>no</td>\n",
       "      <td>telephone</td>\n",
       "      <td>may</td>\n",
       "      <td>mon</td>\n",
       "      <td>nonexistent</td>\n",
       "      <td>1.1</td>\n",
       "      <td>93.994</td>\n",
       "      <td>-36.4</td>\n",
       "      <td>4.857</td>\n",
       "      <td>5191.0</td>\n",
       "    </tr>\n",
       "    <tr>\n",
       "      <th>2</th>\n",
       "      <td>services</td>\n",
       "      <td>married</td>\n",
       "      <td>high.school</td>\n",
       "      <td>yes</td>\n",
       "      <td>telephone</td>\n",
       "      <td>may</td>\n",
       "      <td>mon</td>\n",
       "      <td>nonexistent</td>\n",
       "      <td>1.1</td>\n",
       "      <td>93.994</td>\n",
       "      <td>-36.4</td>\n",
       "      <td>4.857</td>\n",
       "      <td>5191.0</td>\n",
       "    </tr>\n",
       "    <tr>\n",
       "      <th>3</th>\n",
       "      <td>admin.</td>\n",
       "      <td>married</td>\n",
       "      <td>basic.6y</td>\n",
       "      <td>no</td>\n",
       "      <td>telephone</td>\n",
       "      <td>may</td>\n",
       "      <td>mon</td>\n",
       "      <td>nonexistent</td>\n",
       "      <td>1.1</td>\n",
       "      <td>93.994</td>\n",
       "      <td>-36.4</td>\n",
       "      <td>4.857</td>\n",
       "      <td>5191.0</td>\n",
       "    </tr>\n",
       "    <tr>\n",
       "      <th>4</th>\n",
       "      <td>services</td>\n",
       "      <td>married</td>\n",
       "      <td>high.school</td>\n",
       "      <td>no</td>\n",
       "      <td>telephone</td>\n",
       "      <td>may</td>\n",
       "      <td>mon</td>\n",
       "      <td>nonexistent</td>\n",
       "      <td>1.1</td>\n",
       "      <td>93.994</td>\n",
       "      <td>-36.4</td>\n",
       "      <td>4.857</td>\n",
       "      <td>5191.0</td>\n",
       "    </tr>\n",
       "  </tbody>\n",
       "</table>\n",
       "</div>"
      ],
      "text/plain": [
       "         job  marital    education housing    contact month day_of_week  \\\n",
       "0  housemaid  married     basic.4y      no  telephone   may         mon   \n",
       "1   services  married  high.school      no  telephone   may         mon   \n",
       "2   services  married  high.school     yes  telephone   may         mon   \n",
       "3     admin.  married     basic.6y      no  telephone   may         mon   \n",
       "4   services  married  high.school      no  telephone   may         mon   \n",
       "\n",
       "      poutcome emp.var.rate cons.price.idx cons.conf.idx euribor3m nr.employed  \n",
       "0  nonexistent          1.1         93.994         -36.4     4.857      5191.0  \n",
       "1  nonexistent          1.1         93.994         -36.4     4.857      5191.0  \n",
       "2  nonexistent          1.1         93.994         -36.4     4.857      5191.0  \n",
       "3  nonexistent          1.1         93.994         -36.4     4.857      5191.0  \n",
       "4  nonexistent          1.1         93.994         -36.4     4.857      5191.0  "
      ]
     },
     "execution_count": 40,
     "metadata": {},
     "output_type": "execute_result"
    }
   ],
   "source": [
    "for i in range(len(cat_cols)):\n",
    "    dataset[cat_cols[i]] = dataset[cat_cols[i]].astype('category')\n",
    "    \n",
    "dataset[cat_cols].head(5)"
   ]
  },
  {
   "cell_type": "markdown",
   "metadata": {},
   "source": [
    "#####  Dummy variables"
   ]
  },
  {
   "cell_type": "code",
   "execution_count": 41,
   "metadata": {
    "scrolled": true
   },
   "outputs": [
    {
     "data": {
      "text/plain": [
       "(38245, 433)"
      ]
     },
     "execution_count": 41,
     "metadata": {},
     "output_type": "execute_result"
    },
    {
     "data": {
      "text/html": [
       "<div>\n",
       "<style scoped>\n",
       "    .dataframe tbody tr th:only-of-type {\n",
       "        vertical-align: middle;\n",
       "    }\n",
       "\n",
       "    .dataframe tbody tr th {\n",
       "        vertical-align: top;\n",
       "    }\n",
       "\n",
       "    .dataframe thead th {\n",
       "        text-align: right;\n",
       "    }\n",
       "</style>\n",
       "<table border=\"1\" class=\"dataframe\">\n",
       "  <thead>\n",
       "    <tr style=\"text-align: right;\">\n",
       "      <th></th>\n",
       "      <th>age</th>\n",
       "      <th>previous</th>\n",
       "      <th>job_admin.</th>\n",
       "      <th>job_blue-collar</th>\n",
       "      <th>job_entrepreneur</th>\n",
       "      <th>job_housemaid</th>\n",
       "      <th>job_management</th>\n",
       "      <th>job_retired</th>\n",
       "      <th>job_self-employed</th>\n",
       "      <th>job_services</th>\n",
       "      <th>...</th>\n",
       "      <th>nr.employed_5008.7</th>\n",
       "      <th>nr.employed_5017.5</th>\n",
       "      <th>nr.employed_5023.5</th>\n",
       "      <th>nr.employed_5076.2</th>\n",
       "      <th>nr.employed_5099.1</th>\n",
       "      <th>nr.employed_5176.3</th>\n",
       "      <th>nr.employed_5191.0</th>\n",
       "      <th>nr.employed_5195.8</th>\n",
       "      <th>nr.employed_5228.1</th>\n",
       "      <th>y</th>\n",
       "    </tr>\n",
       "  </thead>\n",
       "  <tbody>\n",
       "    <tr>\n",
       "      <th>0</th>\n",
       "      <td>56</td>\n",
       "      <td>0</td>\n",
       "      <td>0</td>\n",
       "      <td>0</td>\n",
       "      <td>0</td>\n",
       "      <td>1</td>\n",
       "      <td>0</td>\n",
       "      <td>0</td>\n",
       "      <td>0</td>\n",
       "      <td>0</td>\n",
       "      <td>...</td>\n",
       "      <td>0</td>\n",
       "      <td>0</td>\n",
       "      <td>0</td>\n",
       "      <td>0</td>\n",
       "      <td>0</td>\n",
       "      <td>0</td>\n",
       "      <td>1</td>\n",
       "      <td>0</td>\n",
       "      <td>0</td>\n",
       "      <td>0</td>\n",
       "    </tr>\n",
       "    <tr>\n",
       "      <th>1</th>\n",
       "      <td>57</td>\n",
       "      <td>0</td>\n",
       "      <td>0</td>\n",
       "      <td>0</td>\n",
       "      <td>0</td>\n",
       "      <td>0</td>\n",
       "      <td>0</td>\n",
       "      <td>0</td>\n",
       "      <td>0</td>\n",
       "      <td>1</td>\n",
       "      <td>...</td>\n",
       "      <td>0</td>\n",
       "      <td>0</td>\n",
       "      <td>0</td>\n",
       "      <td>0</td>\n",
       "      <td>0</td>\n",
       "      <td>0</td>\n",
       "      <td>1</td>\n",
       "      <td>0</td>\n",
       "      <td>0</td>\n",
       "      <td>0</td>\n",
       "    </tr>\n",
       "    <tr>\n",
       "      <th>2</th>\n",
       "      <td>37</td>\n",
       "      <td>0</td>\n",
       "      <td>0</td>\n",
       "      <td>0</td>\n",
       "      <td>0</td>\n",
       "      <td>0</td>\n",
       "      <td>0</td>\n",
       "      <td>0</td>\n",
       "      <td>0</td>\n",
       "      <td>1</td>\n",
       "      <td>...</td>\n",
       "      <td>0</td>\n",
       "      <td>0</td>\n",
       "      <td>0</td>\n",
       "      <td>0</td>\n",
       "      <td>0</td>\n",
       "      <td>0</td>\n",
       "      <td>1</td>\n",
       "      <td>0</td>\n",
       "      <td>0</td>\n",
       "      <td>0</td>\n",
       "    </tr>\n",
       "    <tr>\n",
       "      <th>3</th>\n",
       "      <td>40</td>\n",
       "      <td>0</td>\n",
       "      <td>1</td>\n",
       "      <td>0</td>\n",
       "      <td>0</td>\n",
       "      <td>0</td>\n",
       "      <td>0</td>\n",
       "      <td>0</td>\n",
       "      <td>0</td>\n",
       "      <td>0</td>\n",
       "      <td>...</td>\n",
       "      <td>0</td>\n",
       "      <td>0</td>\n",
       "      <td>0</td>\n",
       "      <td>0</td>\n",
       "      <td>0</td>\n",
       "      <td>0</td>\n",
       "      <td>1</td>\n",
       "      <td>0</td>\n",
       "      <td>0</td>\n",
       "      <td>0</td>\n",
       "    </tr>\n",
       "    <tr>\n",
       "      <th>4</th>\n",
       "      <td>56</td>\n",
       "      <td>0</td>\n",
       "      <td>0</td>\n",
       "      <td>0</td>\n",
       "      <td>0</td>\n",
       "      <td>0</td>\n",
       "      <td>0</td>\n",
       "      <td>0</td>\n",
       "      <td>0</td>\n",
       "      <td>1</td>\n",
       "      <td>...</td>\n",
       "      <td>0</td>\n",
       "      <td>0</td>\n",
       "      <td>0</td>\n",
       "      <td>0</td>\n",
       "      <td>0</td>\n",
       "      <td>0</td>\n",
       "      <td>1</td>\n",
       "      <td>0</td>\n",
       "      <td>0</td>\n",
       "      <td>0</td>\n",
       "    </tr>\n",
       "  </tbody>\n",
       "</table>\n",
       "<p>5 rows × 433 columns</p>\n",
       "</div>"
      ],
      "text/plain": [
       "   age  previous  job_admin.  job_blue-collar  job_entrepreneur  \\\n",
       "0   56         0           0                0                 0   \n",
       "1   57         0           0                0                 0   \n",
       "2   37         0           0                0                 0   \n",
       "3   40         0           1                0                 0   \n",
       "4   56         0           0                0                 0   \n",
       "\n",
       "   job_housemaid  job_management  job_retired  job_self-employed  \\\n",
       "0              1               0            0                  0   \n",
       "1              0               0            0                  0   \n",
       "2              0               0            0                  0   \n",
       "3              0               0            0                  0   \n",
       "4              0               0            0                  0   \n",
       "\n",
       "   job_services ...  nr.employed_5008.7  nr.employed_5017.5  \\\n",
       "0             0 ...                   0                   0   \n",
       "1             1 ...                   0                   0   \n",
       "2             1 ...                   0                   0   \n",
       "3             0 ...                   0                   0   \n",
       "4             1 ...                   0                   0   \n",
       "\n",
       "   nr.employed_5023.5  nr.employed_5076.2  nr.employed_5099.1  \\\n",
       "0                   0                   0                   0   \n",
       "1                   0                   0                   0   \n",
       "2                   0                   0                   0   \n",
       "3                   0                   0                   0   \n",
       "4                   0                   0                   0   \n",
       "\n",
       "   nr.employed_5176.3  nr.employed_5191.0  nr.employed_5195.8  \\\n",
       "0                   0                   1                   0   \n",
       "1                   0                   1                   0   \n",
       "2                   0                   1                   0   \n",
       "3                   0                   1                   0   \n",
       "4                   0                   1                   0   \n",
       "\n",
       "   nr.employed_5228.1  y  \n",
       "0                   0  0  \n",
       "1                   0  0  \n",
       "2                   0  0  \n",
       "3                   0  0  \n",
       "4                   0  0  \n",
       "\n",
       "[5 rows x 433 columns]"
      ]
     },
     "execution_count": 41,
     "metadata": {},
     "output_type": "execute_result"
    }
   ],
   "source": [
    "# Creating dummy variables for categorical types\n",
    "\n",
    "dummies = pd.get_dummies(dataset[cat_cols])\n",
    "#dummies.head(5)\n",
    "\n",
    "# Combining dummy variables and numeric varianbles\n",
    "dataset1 = dataset[num_cols]\n",
    "\n",
    "dataset2 = pd.concat([dataset1, dummies, y], axis=1)\n",
    "dataset = dataset2\n",
    "\n",
    "dataset.shape\n",
    "dataset.head(5)"
   ]
  },
  {
   "cell_type": "markdown",
   "metadata": {},
   "source": [
    "#####  Input and output variables"
   ]
  },
  {
   "cell_type": "code",
   "execution_count": 42,
   "metadata": {
    "scrolled": true
   },
   "outputs": [
    {
     "data": {
      "text/html": [
       "<div>\n",
       "<style scoped>\n",
       "    .dataframe tbody tr th:only-of-type {\n",
       "        vertical-align: middle;\n",
       "    }\n",
       "\n",
       "    .dataframe tbody tr th {\n",
       "        vertical-align: top;\n",
       "    }\n",
       "\n",
       "    .dataframe thead th {\n",
       "        text-align: right;\n",
       "    }\n",
       "</style>\n",
       "<table border=\"1\" class=\"dataframe\">\n",
       "  <thead>\n",
       "    <tr style=\"text-align: right;\">\n",
       "      <th></th>\n",
       "      <th>age</th>\n",
       "      <th>previous</th>\n",
       "      <th>job_admin.</th>\n",
       "      <th>job_blue-collar</th>\n",
       "      <th>job_entrepreneur</th>\n",
       "      <th>job_housemaid</th>\n",
       "      <th>job_management</th>\n",
       "      <th>job_retired</th>\n",
       "      <th>job_self-employed</th>\n",
       "      <th>job_services</th>\n",
       "      <th>...</th>\n",
       "      <th>nr.employed_4991.6</th>\n",
       "      <th>nr.employed_5008.7</th>\n",
       "      <th>nr.employed_5017.5</th>\n",
       "      <th>nr.employed_5023.5</th>\n",
       "      <th>nr.employed_5076.2</th>\n",
       "      <th>nr.employed_5099.1</th>\n",
       "      <th>nr.employed_5176.3</th>\n",
       "      <th>nr.employed_5191.0</th>\n",
       "      <th>nr.employed_5195.8</th>\n",
       "      <th>nr.employed_5228.1</th>\n",
       "    </tr>\n",
       "  </thead>\n",
       "  <tbody>\n",
       "    <tr>\n",
       "      <th>0</th>\n",
       "      <td>56</td>\n",
       "      <td>0</td>\n",
       "      <td>0</td>\n",
       "      <td>0</td>\n",
       "      <td>0</td>\n",
       "      <td>1</td>\n",
       "      <td>0</td>\n",
       "      <td>0</td>\n",
       "      <td>0</td>\n",
       "      <td>0</td>\n",
       "      <td>...</td>\n",
       "      <td>0</td>\n",
       "      <td>0</td>\n",
       "      <td>0</td>\n",
       "      <td>0</td>\n",
       "      <td>0</td>\n",
       "      <td>0</td>\n",
       "      <td>0</td>\n",
       "      <td>1</td>\n",
       "      <td>0</td>\n",
       "      <td>0</td>\n",
       "    </tr>\n",
       "    <tr>\n",
       "      <th>1</th>\n",
       "      <td>57</td>\n",
       "      <td>0</td>\n",
       "      <td>0</td>\n",
       "      <td>0</td>\n",
       "      <td>0</td>\n",
       "      <td>0</td>\n",
       "      <td>0</td>\n",
       "      <td>0</td>\n",
       "      <td>0</td>\n",
       "      <td>1</td>\n",
       "      <td>...</td>\n",
       "      <td>0</td>\n",
       "      <td>0</td>\n",
       "      <td>0</td>\n",
       "      <td>0</td>\n",
       "      <td>0</td>\n",
       "      <td>0</td>\n",
       "      <td>0</td>\n",
       "      <td>1</td>\n",
       "      <td>0</td>\n",
       "      <td>0</td>\n",
       "    </tr>\n",
       "    <tr>\n",
       "      <th>2</th>\n",
       "      <td>37</td>\n",
       "      <td>0</td>\n",
       "      <td>0</td>\n",
       "      <td>0</td>\n",
       "      <td>0</td>\n",
       "      <td>0</td>\n",
       "      <td>0</td>\n",
       "      <td>0</td>\n",
       "      <td>0</td>\n",
       "      <td>1</td>\n",
       "      <td>...</td>\n",
       "      <td>0</td>\n",
       "      <td>0</td>\n",
       "      <td>0</td>\n",
       "      <td>0</td>\n",
       "      <td>0</td>\n",
       "      <td>0</td>\n",
       "      <td>0</td>\n",
       "      <td>1</td>\n",
       "      <td>0</td>\n",
       "      <td>0</td>\n",
       "    </tr>\n",
       "    <tr>\n",
       "      <th>3</th>\n",
       "      <td>40</td>\n",
       "      <td>0</td>\n",
       "      <td>1</td>\n",
       "      <td>0</td>\n",
       "      <td>0</td>\n",
       "      <td>0</td>\n",
       "      <td>0</td>\n",
       "      <td>0</td>\n",
       "      <td>0</td>\n",
       "      <td>0</td>\n",
       "      <td>...</td>\n",
       "      <td>0</td>\n",
       "      <td>0</td>\n",
       "      <td>0</td>\n",
       "      <td>0</td>\n",
       "      <td>0</td>\n",
       "      <td>0</td>\n",
       "      <td>0</td>\n",
       "      <td>1</td>\n",
       "      <td>0</td>\n",
       "      <td>0</td>\n",
       "    </tr>\n",
       "    <tr>\n",
       "      <th>4</th>\n",
       "      <td>56</td>\n",
       "      <td>0</td>\n",
       "      <td>0</td>\n",
       "      <td>0</td>\n",
       "      <td>0</td>\n",
       "      <td>0</td>\n",
       "      <td>0</td>\n",
       "      <td>0</td>\n",
       "      <td>0</td>\n",
       "      <td>1</td>\n",
       "      <td>...</td>\n",
       "      <td>0</td>\n",
       "      <td>0</td>\n",
       "      <td>0</td>\n",
       "      <td>0</td>\n",
       "      <td>0</td>\n",
       "      <td>0</td>\n",
       "      <td>0</td>\n",
       "      <td>1</td>\n",
       "      <td>0</td>\n",
       "      <td>0</td>\n",
       "    </tr>\n",
       "  </tbody>\n",
       "</table>\n",
       "<p>5 rows × 432 columns</p>\n",
       "</div>"
      ],
      "text/plain": [
       "   age  previous  job_admin.  job_blue-collar  job_entrepreneur  \\\n",
       "0   56         0           0                0                 0   \n",
       "1   57         0           0                0                 0   \n",
       "2   37         0           0                0                 0   \n",
       "3   40         0           1                0                 0   \n",
       "4   56         0           0                0                 0   \n",
       "\n",
       "   job_housemaid  job_management  job_retired  job_self-employed  \\\n",
       "0              1               0            0                  0   \n",
       "1              0               0            0                  0   \n",
       "2              0               0            0                  0   \n",
       "3              0               0            0                  0   \n",
       "4              0               0            0                  0   \n",
       "\n",
       "   job_services         ...          nr.employed_4991.6  nr.employed_5008.7  \\\n",
       "0             0         ...                           0                   0   \n",
       "1             1         ...                           0                   0   \n",
       "2             1         ...                           0                   0   \n",
       "3             0         ...                           0                   0   \n",
       "4             1         ...                           0                   0   \n",
       "\n",
       "   nr.employed_5017.5  nr.employed_5023.5  nr.employed_5076.2  \\\n",
       "0                   0                   0                   0   \n",
       "1                   0                   0                   0   \n",
       "2                   0                   0                   0   \n",
       "3                   0                   0                   0   \n",
       "4                   0                   0                   0   \n",
       "\n",
       "   nr.employed_5099.1  nr.employed_5176.3  nr.employed_5191.0  \\\n",
       "0                   0                   0                   1   \n",
       "1                   0                   0                   1   \n",
       "2                   0                   0                   1   \n",
       "3                   0                   0                   1   \n",
       "4                   0                   0                   1   \n",
       "\n",
       "   nr.employed_5195.8  nr.employed_5228.1  \n",
       "0                   0                   0  \n",
       "1                   0                   0  \n",
       "2                   0                   0  \n",
       "3                   0                   0  \n",
       "4                   0                   0  \n",
       "\n",
       "[5 rows x 432 columns]"
      ]
     },
     "execution_count": 42,
     "metadata": {},
     "output_type": "execute_result"
    }
   ],
   "source": [
    "X = dataset.drop(\"y\", axis = \"columns\") # drops the predictor variable from the input dataset\n",
    "y = dataset[\"y\"]\n",
    "X.head(5)"
   ]
  },
  {
   "cell_type": "markdown",
   "metadata": {},
   "source": [
    "#####  Training and test data sets"
   ]
  },
  {
   "cell_type": "code",
   "execution_count": 43,
   "metadata": {},
   "outputs": [
    {
     "data": {
      "text/html": [
       "<div>\n",
       "<style scoped>\n",
       "    .dataframe tbody tr th:only-of-type {\n",
       "        vertical-align: middle;\n",
       "    }\n",
       "\n",
       "    .dataframe tbody tr th {\n",
       "        vertical-align: top;\n",
       "    }\n",
       "\n",
       "    .dataframe thead th {\n",
       "        text-align: right;\n",
       "    }\n",
       "</style>\n",
       "<table border=\"1\" class=\"dataframe\">\n",
       "  <thead>\n",
       "    <tr style=\"text-align: right;\">\n",
       "      <th></th>\n",
       "      <th>age</th>\n",
       "      <th>previous</th>\n",
       "      <th>job_admin.</th>\n",
       "      <th>job_blue-collar</th>\n",
       "      <th>job_entrepreneur</th>\n",
       "      <th>job_housemaid</th>\n",
       "      <th>job_management</th>\n",
       "      <th>job_retired</th>\n",
       "      <th>job_self-employed</th>\n",
       "      <th>job_services</th>\n",
       "      <th>...</th>\n",
       "      <th>nr.employed_4991.6</th>\n",
       "      <th>nr.employed_5008.7</th>\n",
       "      <th>nr.employed_5017.5</th>\n",
       "      <th>nr.employed_5023.5</th>\n",
       "      <th>nr.employed_5076.2</th>\n",
       "      <th>nr.employed_5099.1</th>\n",
       "      <th>nr.employed_5176.3</th>\n",
       "      <th>nr.employed_5191.0</th>\n",
       "      <th>nr.employed_5195.8</th>\n",
       "      <th>nr.employed_5228.1</th>\n",
       "    </tr>\n",
       "  </thead>\n",
       "  <tbody>\n",
       "    <tr>\n",
       "      <th>24572</th>\n",
       "      <td>30</td>\n",
       "      <td>0</td>\n",
       "      <td>0</td>\n",
       "      <td>1</td>\n",
       "      <td>0</td>\n",
       "      <td>0</td>\n",
       "      <td>0</td>\n",
       "      <td>0</td>\n",
       "      <td>0</td>\n",
       "      <td>0</td>\n",
       "      <td>...</td>\n",
       "      <td>0</td>\n",
       "      <td>0</td>\n",
       "      <td>0</td>\n",
       "      <td>0</td>\n",
       "      <td>0</td>\n",
       "      <td>0</td>\n",
       "      <td>0</td>\n",
       "      <td>0</td>\n",
       "      <td>1</td>\n",
       "      <td>0</td>\n",
       "    </tr>\n",
       "    <tr>\n",
       "      <th>38529</th>\n",
       "      <td>58</td>\n",
       "      <td>0</td>\n",
       "      <td>0</td>\n",
       "      <td>0</td>\n",
       "      <td>0</td>\n",
       "      <td>0</td>\n",
       "      <td>0</td>\n",
       "      <td>0</td>\n",
       "      <td>0</td>\n",
       "      <td>0</td>\n",
       "      <td>...</td>\n",
       "      <td>0</td>\n",
       "      <td>0</td>\n",
       "      <td>1</td>\n",
       "      <td>0</td>\n",
       "      <td>0</td>\n",
       "      <td>0</td>\n",
       "      <td>0</td>\n",
       "      <td>0</td>\n",
       "      <td>0</td>\n",
       "      <td>0</td>\n",
       "    </tr>\n",
       "    <tr>\n",
       "      <th>14012</th>\n",
       "      <td>46</td>\n",
       "      <td>0</td>\n",
       "      <td>1</td>\n",
       "      <td>0</td>\n",
       "      <td>0</td>\n",
       "      <td>0</td>\n",
       "      <td>0</td>\n",
       "      <td>0</td>\n",
       "      <td>0</td>\n",
       "      <td>0</td>\n",
       "      <td>...</td>\n",
       "      <td>0</td>\n",
       "      <td>0</td>\n",
       "      <td>0</td>\n",
       "      <td>0</td>\n",
       "      <td>0</td>\n",
       "      <td>0</td>\n",
       "      <td>0</td>\n",
       "      <td>0</td>\n",
       "      <td>0</td>\n",
       "      <td>1</td>\n",
       "    </tr>\n",
       "    <tr>\n",
       "      <th>2206</th>\n",
       "      <td>39</td>\n",
       "      <td>0</td>\n",
       "      <td>0</td>\n",
       "      <td>1</td>\n",
       "      <td>0</td>\n",
       "      <td>0</td>\n",
       "      <td>0</td>\n",
       "      <td>0</td>\n",
       "      <td>0</td>\n",
       "      <td>0</td>\n",
       "      <td>...</td>\n",
       "      <td>0</td>\n",
       "      <td>0</td>\n",
       "      <td>0</td>\n",
       "      <td>0</td>\n",
       "      <td>0</td>\n",
       "      <td>0</td>\n",
       "      <td>0</td>\n",
       "      <td>1</td>\n",
       "      <td>0</td>\n",
       "      <td>0</td>\n",
       "    </tr>\n",
       "    <tr>\n",
       "      <th>30011</th>\n",
       "      <td>46</td>\n",
       "      <td>0</td>\n",
       "      <td>1</td>\n",
       "      <td>0</td>\n",
       "      <td>0</td>\n",
       "      <td>0</td>\n",
       "      <td>0</td>\n",
       "      <td>0</td>\n",
       "      <td>0</td>\n",
       "      <td>0</td>\n",
       "      <td>...</td>\n",
       "      <td>0</td>\n",
       "      <td>0</td>\n",
       "      <td>0</td>\n",
       "      <td>0</td>\n",
       "      <td>0</td>\n",
       "      <td>1</td>\n",
       "      <td>0</td>\n",
       "      <td>0</td>\n",
       "      <td>0</td>\n",
       "      <td>0</td>\n",
       "    </tr>\n",
       "  </tbody>\n",
       "</table>\n",
       "<p>5 rows × 432 columns</p>\n",
       "</div>"
      ],
      "text/plain": [
       "       age  previous  job_admin.  job_blue-collar  job_entrepreneur  \\\n",
       "24572   30         0           0                1                 0   \n",
       "38529   58         0           0                0                 0   \n",
       "14012   46         0           1                0                 0   \n",
       "2206    39         0           0                1                 0   \n",
       "30011   46         0           1                0                 0   \n",
       "\n",
       "       job_housemaid  job_management  job_retired  job_self-employed  \\\n",
       "24572              0               0            0                  0   \n",
       "38529              0               0            0                  0   \n",
       "14012              0               0            0                  0   \n",
       "2206               0               0            0                  0   \n",
       "30011              0               0            0                  0   \n",
       "\n",
       "       job_services         ...          nr.employed_4991.6  \\\n",
       "24572             0         ...                           0   \n",
       "38529             0         ...                           0   \n",
       "14012             0         ...                           0   \n",
       "2206              0         ...                           0   \n",
       "30011             0         ...                           0   \n",
       "\n",
       "       nr.employed_5008.7  nr.employed_5017.5  nr.employed_5023.5  \\\n",
       "24572                   0                   0                   0   \n",
       "38529                   0                   1                   0   \n",
       "14012                   0                   0                   0   \n",
       "2206                    0                   0                   0   \n",
       "30011                   0                   0                   0   \n",
       "\n",
       "       nr.employed_5076.2  nr.employed_5099.1  nr.employed_5176.3  \\\n",
       "24572                   0                   0                   0   \n",
       "38529                   0                   0                   0   \n",
       "14012                   0                   0                   0   \n",
       "2206                    0                   0                   0   \n",
       "30011                   0                   1                   0   \n",
       "\n",
       "       nr.employed_5191.0  nr.employed_5195.8  nr.employed_5228.1  \n",
       "24572                   0                   1                   0  \n",
       "38529                   0                   0                   0  \n",
       "14012                   0                   0                   1  \n",
       "2206                    1                   0                   0  \n",
       "30011                   0                   0                   0  \n",
       "\n",
       "[5 rows x 432 columns]"
      ]
     },
     "execution_count": 43,
     "metadata": {},
     "output_type": "execute_result"
    }
   ],
   "source": [
    "# Splitting the dataset into the training and test sets (80-20 split)\n",
    "\n",
    "from sklearn.model_selection import train_test_split\n",
    "X_train, X_test, y_train, y_test = train_test_split(X, y, test_size = 0.20, random_state = 0)\n",
    "\n",
    "X_test.head(5)"
   ]
  },
  {
   "cell_type": "markdown",
   "metadata": {},
   "source": [
    "#####  Feature scaling"
   ]
  },
  {
   "cell_type": "code",
   "execution_count": 44,
   "metadata": {},
   "outputs": [
    {
     "name": "stderr",
     "output_type": "stream",
     "text": [
      "C:\\Users\\Rudrendu\\Anaconda3\\lib\\site-packages\\ipykernel_launcher.py:6: SettingWithCopyWarning: \n",
      "A value is trying to be set on a copy of a slice from a DataFrame.\n",
      "Try using .loc[row_indexer,col_indexer] = value instead\n",
      "\n",
      "See the caveats in the documentation: http://pandas.pydata.org/pandas-docs/stable/indexing.html#indexing-view-versus-copy\n",
      "  \n",
      "C:\\Users\\Rudrendu\\Anaconda3\\lib\\site-packages\\pandas\\core\\indexing.py:543: SettingWithCopyWarning: \n",
      "A value is trying to be set on a copy of a slice from a DataFrame.\n",
      "Try using .loc[row_indexer,col_indexer] = value instead\n",
      "\n",
      "See the caveats in the documentation: http://pandas.pydata.org/pandas-docs/stable/indexing.html#indexing-view-versus-copy\n",
      "  self.obj[item] = s\n",
      "C:\\Users\\Rudrendu\\Anaconda3\\lib\\site-packages\\ipykernel_launcher.py:7: SettingWithCopyWarning: \n",
      "A value is trying to be set on a copy of a slice from a DataFrame.\n",
      "Try using .loc[row_indexer,col_indexer] = value instead\n",
      "\n",
      "See the caveats in the documentation: http://pandas.pydata.org/pandas-docs/stable/indexing.html#indexing-view-versus-copy\n",
      "  import sys\n"
     ]
    },
    {
     "data": {
      "text/html": [
       "<div>\n",
       "<style scoped>\n",
       "    .dataframe tbody tr th:only-of-type {\n",
       "        vertical-align: middle;\n",
       "    }\n",
       "\n",
       "    .dataframe tbody tr th {\n",
       "        vertical-align: top;\n",
       "    }\n",
       "\n",
       "    .dataframe thead th {\n",
       "        text-align: right;\n",
       "    }\n",
       "</style>\n",
       "<table border=\"1\" class=\"dataframe\">\n",
       "  <thead>\n",
       "    <tr style=\"text-align: right;\">\n",
       "      <th></th>\n",
       "      <th>age</th>\n",
       "      <th>previous</th>\n",
       "      <th>job_admin.</th>\n",
       "      <th>job_blue-collar</th>\n",
       "      <th>job_entrepreneur</th>\n",
       "      <th>job_housemaid</th>\n",
       "      <th>job_management</th>\n",
       "      <th>job_retired</th>\n",
       "      <th>job_self-employed</th>\n",
       "      <th>job_services</th>\n",
       "      <th>...</th>\n",
       "      <th>nr.employed_4991.6</th>\n",
       "      <th>nr.employed_5008.7</th>\n",
       "      <th>nr.employed_5017.5</th>\n",
       "      <th>nr.employed_5023.5</th>\n",
       "      <th>nr.employed_5076.2</th>\n",
       "      <th>nr.employed_5099.1</th>\n",
       "      <th>nr.employed_5176.3</th>\n",
       "      <th>nr.employed_5191.0</th>\n",
       "      <th>nr.employed_5195.8</th>\n",
       "      <th>nr.employed_5228.1</th>\n",
       "    </tr>\n",
       "  </thead>\n",
       "  <tbody>\n",
       "    <tr>\n",
       "      <th>33117</th>\n",
       "      <td>-0.565088</td>\n",
       "      <td>1.688894</td>\n",
       "      <td>1</td>\n",
       "      <td>0</td>\n",
       "      <td>0</td>\n",
       "      <td>0</td>\n",
       "      <td>0</td>\n",
       "      <td>0</td>\n",
       "      <td>0</td>\n",
       "      <td>0</td>\n",
       "      <td>...</td>\n",
       "      <td>0</td>\n",
       "      <td>0</td>\n",
       "      <td>0</td>\n",
       "      <td>0</td>\n",
       "      <td>0</td>\n",
       "      <td>1</td>\n",
       "      <td>0</td>\n",
       "      <td>0</td>\n",
       "      <td>0</td>\n",
       "      <td>0</td>\n",
       "    </tr>\n",
       "    <tr>\n",
       "      <th>22412</th>\n",
       "      <td>0.407031</td>\n",
       "      <td>-0.347496</td>\n",
       "      <td>0</td>\n",
       "      <td>0</td>\n",
       "      <td>0</td>\n",
       "      <td>0</td>\n",
       "      <td>0</td>\n",
       "      <td>0</td>\n",
       "      <td>0</td>\n",
       "      <td>1</td>\n",
       "      <td>...</td>\n",
       "      <td>0</td>\n",
       "      <td>0</td>\n",
       "      <td>0</td>\n",
       "      <td>0</td>\n",
       "      <td>0</td>\n",
       "      <td>0</td>\n",
       "      <td>0</td>\n",
       "      <td>0</td>\n",
       "      <td>0</td>\n",
       "      <td>1</td>\n",
       "    </tr>\n",
       "    <tr>\n",
       "      <th>22278</th>\n",
       "      <td>-0.467876</td>\n",
       "      <td>-0.347496</td>\n",
       "      <td>0</td>\n",
       "      <td>0</td>\n",
       "      <td>0</td>\n",
       "      <td>0</td>\n",
       "      <td>0</td>\n",
       "      <td>0</td>\n",
       "      <td>0</td>\n",
       "      <td>0</td>\n",
       "      <td>...</td>\n",
       "      <td>0</td>\n",
       "      <td>0</td>\n",
       "      <td>0</td>\n",
       "      <td>0</td>\n",
       "      <td>0</td>\n",
       "      <td>0</td>\n",
       "      <td>0</td>\n",
       "      <td>0</td>\n",
       "      <td>0</td>\n",
       "      <td>1</td>\n",
       "    </tr>\n",
       "    <tr>\n",
       "      <th>22795</th>\n",
       "      <td>-0.467876</td>\n",
       "      <td>-0.347496</td>\n",
       "      <td>0</td>\n",
       "      <td>0</td>\n",
       "      <td>0</td>\n",
       "      <td>0</td>\n",
       "      <td>0</td>\n",
       "      <td>0</td>\n",
       "      <td>0</td>\n",
       "      <td>0</td>\n",
       "      <td>...</td>\n",
       "      <td>0</td>\n",
       "      <td>0</td>\n",
       "      <td>0</td>\n",
       "      <td>0</td>\n",
       "      <td>0</td>\n",
       "      <td>0</td>\n",
       "      <td>0</td>\n",
       "      <td>0</td>\n",
       "      <td>0</td>\n",
       "      <td>1</td>\n",
       "    </tr>\n",
       "    <tr>\n",
       "      <th>9713</th>\n",
       "      <td>-0.079028</td>\n",
       "      <td>-0.347496</td>\n",
       "      <td>0</td>\n",
       "      <td>0</td>\n",
       "      <td>0</td>\n",
       "      <td>0</td>\n",
       "      <td>0</td>\n",
       "      <td>0</td>\n",
       "      <td>1</td>\n",
       "      <td>0</td>\n",
       "      <td>...</td>\n",
       "      <td>0</td>\n",
       "      <td>0</td>\n",
       "      <td>0</td>\n",
       "      <td>0</td>\n",
       "      <td>0</td>\n",
       "      <td>0</td>\n",
       "      <td>0</td>\n",
       "      <td>0</td>\n",
       "      <td>0</td>\n",
       "      <td>1</td>\n",
       "    </tr>\n",
       "  </tbody>\n",
       "</table>\n",
       "<p>5 rows × 432 columns</p>\n",
       "</div>"
      ],
      "text/plain": [
       "            age  previous  job_admin.  job_blue-collar  job_entrepreneur  \\\n",
       "33117 -0.565088  1.688894           1                0                 0   \n",
       "22412  0.407031 -0.347496           0                0                 0   \n",
       "22278 -0.467876 -0.347496           0                0                 0   \n",
       "22795 -0.467876 -0.347496           0                0                 0   \n",
       "9713  -0.079028 -0.347496           0                0                 0   \n",
       "\n",
       "       job_housemaid  job_management  job_retired  job_self-employed  \\\n",
       "33117              0               0            0                  0   \n",
       "22412              0               0            0                  0   \n",
       "22278              0               0            0                  0   \n",
       "22795              0               0            0                  0   \n",
       "9713               0               0            0                  1   \n",
       "\n",
       "       job_services         ...          nr.employed_4991.6  \\\n",
       "33117             0         ...                           0   \n",
       "22412             1         ...                           0   \n",
       "22278             0         ...                           0   \n",
       "22795             0         ...                           0   \n",
       "9713              0         ...                           0   \n",
       "\n",
       "       nr.employed_5008.7  nr.employed_5017.5  nr.employed_5023.5  \\\n",
       "33117                   0                   0                   0   \n",
       "22412                   0                   0                   0   \n",
       "22278                   0                   0                   0   \n",
       "22795                   0                   0                   0   \n",
       "9713                    0                   0                   0   \n",
       "\n",
       "       nr.employed_5076.2  nr.employed_5099.1  nr.employed_5176.3  \\\n",
       "33117                   0                   1                   0   \n",
       "22412                   0                   0                   0   \n",
       "22278                   0                   0                   0   \n",
       "22795                   0                   0                   0   \n",
       "9713                    0                   0                   0   \n",
       "\n",
       "       nr.employed_5191.0  nr.employed_5195.8  nr.employed_5228.1  \n",
       "33117                   0                   0                   0  \n",
       "22412                   0                   0                   1  \n",
       "22278                   0                   0                   1  \n",
       "22795                   0                   0                   1  \n",
       "9713                    0                   0                   1  \n",
       "\n",
       "[5 rows x 432 columns]"
      ]
     },
     "execution_count": 44,
     "metadata": {},
     "output_type": "execute_result"
    }
   ],
   "source": [
    "# Scaling test set using the parameters from training set\n",
    "\n",
    "from sklearn.preprocessing import StandardScaler\n",
    "sc = StandardScaler()\n",
    "\n",
    "X_train[num_cols] = sc.fit_transform(X_train[num_cols])\n",
    "X_test[num_cols] = sc.transform(X_test[num_cols])\n",
    "\n",
    "X_train.head(5)"
   ]
  },
  {
   "cell_type": "markdown",
   "metadata": {},
   "source": [
    "### Model fitting and accuracy metrics"
   ]
  },
  {
   "cell_type": "markdown",
   "metadata": {},
   "source": [
    "#### Logistic regression model"
   ]
  },
  {
   "cell_type": "code",
   "execution_count": 45,
   "metadata": {},
   "outputs": [
    {
     "data": {
      "text/plain": [
       "LogisticRegression(C=1.0, class_weight=None, dual=False, fit_intercept=True,\n",
       "          intercept_scaling=1, max_iter=100, multi_class='ovr', n_jobs=1,\n",
       "          penalty='l1', random_state=None, solver='liblinear', tol=0.0001,\n",
       "          verbose=0, warm_start=False)"
      ]
     },
     "execution_count": 45,
     "metadata": {},
     "output_type": "execute_result"
    },
    {
     "name": "stdout",
     "output_type": "stream",
     "text": [
      "Accuracy of model\n",
      "             precision    recall  f1-score   support\n",
      "\n",
      "          0       0.92      0.98      0.95      6813\n",
      "          1       0.67      0.27      0.39       836\n",
      "\n",
      "avg / total       0.89      0.91      0.89      7649\n",
      "\n",
      "-- -- -- -- AUC curve on test dataset -- -- -- --\n"
     ]
    },
    {
     "data": {
      "text/plain": [
       "[<matplotlib.lines.Line2D at 0x252af196cc0>]"
      ]
     },
     "execution_count": 45,
     "metadata": {},
     "output_type": "execute_result"
    },
    {
     "data": {
      "text/plain": [
       "[<matplotlib.lines.Line2D at 0x252af138a90>]"
      ]
     },
     "execution_count": 45,
     "metadata": {},
     "output_type": "execute_result"
    },
    {
     "data": {
      "text/plain": [
       "Text(0.5,1,'ROC curve - Logistic regression')"
      ]
     },
     "execution_count": 45,
     "metadata": {},
     "output_type": "execute_result"
    },
    {
     "data": {
      "image/png": "[encoded data removed]",
      "text/plain": [
       "<Figure size 720x432 with 1 Axes>"
      ]
     },
     "metadata": {
      "needs_background": "light"
     },
     "output_type": "display_data"
    },
    {
     "name": "stdout",
     "output_type": "stream",
     "text": [
      "AUC : 79.0  %\n"
     ]
    }
   ],
   "source": [
    "# Fitting a Lasso model to the Training set\n",
    "\n",
    "from sklearn.linear_model import LogisticRegression\n",
    "classifier = LogisticRegression(penalty='l1')\n",
    "classifier.fit(X_train, y_train)\n",
    "\n",
    "# Predicting the test set results\n",
    "\n",
    "y_pred = classifier.predict(X_test)\n",
    "y_pred = pd.DataFrame(y_pred)\n",
    "\n",
    "from sklearn.metrics import classification_report\n",
    "print(\"Accuracy of model\")\n",
    "print(classification_report(y_test, y_pred))\n",
    "\n",
    "print(\"-- -- -- -- AUC curve on test dataset -- -- -- --\")\n",
    "from sklearn.metrics import roc_auc_score\n",
    "probs1 = classifier.predict_proba(X_test)\n",
    "# keep probabilities for the positive outcome only\n",
    "probs = probs1[:, 1]\n",
    "\n",
    "# calculate roc curve\n",
    "from sklearn.metrics import roc_curve\n",
    "fpr, tpr, thresholds = roc_curve(np.array(y_test), probs)\n",
    "f = plt.figure(figsize=(10,6))\n",
    "plt.plot([0, 1], [0, 1], linestyle='--')\n",
    "# plot the roc curve for the model\n",
    "plt.plot(fpr, tpr)\n",
    "# show the plot\n",
    "plt.title('ROC curve - Logistic regression')\n",
    "plt.show()\n",
    "\n",
    "print(\"AUC :\", round(roc_auc_score(y_test, probs)*100), \" %\")\n",
    "# ---- Summary ----\n",
    "auc_test_logreg = round(roc_auc_score(y_test, probs)*100)\n",
    "\n",
    "classifier1 = classifier\n",
    "y_pred1 = y_pred"
   ]
  },
  {
   "cell_type": "markdown",
   "metadata": {},
   "source": [
    "#### Model Coefficients"
   ]
  },
  {
   "cell_type": "code",
   "execution_count": 46,
   "metadata": {},
   "outputs": [
    {
     "name": "stdout",
     "output_type": "stream",
     "text": [
      "\n",
      "---- Total variables in model ----\n"
     ]
    },
    {
     "data": {
      "text/plain": [
       "432"
      ]
     },
     "execution_count": 46,
     "metadata": {},
     "output_type": "execute_result"
    },
    {
     "data": {
      "text/html": [
       "<div>\n",
       "<style scoped>\n",
       "    .dataframe tbody tr th:only-of-type {\n",
       "        vertical-align: middle;\n",
       "    }\n",
       "\n",
       "    .dataframe tbody tr th {\n",
       "        vertical-align: top;\n",
       "    }\n",
       "\n",
       "    .dataframe thead th {\n",
       "        text-align: right;\n",
       "    }\n",
       "</style>\n",
       "<table border=\"1\" class=\"dataframe\">\n",
       "  <thead>\n",
       "    <tr style=\"text-align: right;\">\n",
       "      <th></th>\n",
       "      <th>variables</th>\n",
       "      <th>coefficients</th>\n",
       "    </tr>\n",
       "  </thead>\n",
       "  <tbody>\n",
       "    <tr>\n",
       "      <th>0</th>\n",
       "      <td>age</td>\n",
       "      <td>-0.049934</td>\n",
       "    </tr>\n",
       "    <tr>\n",
       "      <th>1</th>\n",
       "      <td>previous</td>\n",
       "      <td>0.025804</td>\n",
       "    </tr>\n",
       "    <tr>\n",
       "      <th>2</th>\n",
       "      <td>job_admin.</td>\n",
       "      <td>0.035484</td>\n",
       "    </tr>\n",
       "    <tr>\n",
       "      <th>3</th>\n",
       "      <td>job_blue-collar</td>\n",
       "      <td>-0.077875</td>\n",
       "    </tr>\n",
       "    <tr>\n",
       "      <th>4</th>\n",
       "      <td>job_entrepreneur</td>\n",
       "      <td>0.000000</td>\n",
       "    </tr>\n",
       "    <tr>\n",
       "      <th>5</th>\n",
       "      <td>job_housemaid</td>\n",
       "      <td>-0.138098</td>\n",
       "    </tr>\n",
       "    <tr>\n",
       "      <th>6</th>\n",
       "      <td>job_management</td>\n",
       "      <td>0.037612</td>\n",
       "    </tr>\n",
       "    <tr>\n",
       "      <th>7</th>\n",
       "      <td>job_retired</td>\n",
       "      <td>0.197510</td>\n",
       "    </tr>\n",
       "    <tr>\n",
       "      <th>8</th>\n",
       "      <td>job_self-employed</td>\n",
       "      <td>-0.026918</td>\n",
       "    </tr>\n",
       "    <tr>\n",
       "      <th>9</th>\n",
       "      <td>job_services</td>\n",
       "      <td>-0.093819</td>\n",
       "    </tr>\n",
       "  </tbody>\n",
       "</table>\n",
       "</div>"
      ],
      "text/plain": [
       "           variables  coefficients\n",
       "0                age     -0.049934\n",
       "1           previous      0.025804\n",
       "2         job_admin.      0.035484\n",
       "3    job_blue-collar     -0.077875\n",
       "4   job_entrepreneur      0.000000\n",
       "5      job_housemaid     -0.138098\n",
       "6     job_management      0.037612\n",
       "7        job_retired      0.197510\n",
       "8  job_self-employed     -0.026918\n",
       "9       job_services     -0.093819"
      ]
     },
     "execution_count": 46,
     "metadata": {},
     "output_type": "execute_result"
    },
    {
     "name": "stdout",
     "output_type": "stream",
     "text": [
      "\n",
      "---- Variables with non-zero coefficients from regularization ----\n"
     ]
    },
    {
     "data": {
      "text/plain": [
       "234"
      ]
     },
     "execution_count": 46,
     "metadata": {},
     "output_type": "execute_result"
    },
    {
     "data": {
      "text/html": [
       "<div>\n",
       "<style scoped>\n",
       "    .dataframe tbody tr th:only-of-type {\n",
       "        vertical-align: middle;\n",
       "    }\n",
       "\n",
       "    .dataframe tbody tr th {\n",
       "        vertical-align: top;\n",
       "    }\n",
       "\n",
       "    .dataframe thead th {\n",
       "        text-align: right;\n",
       "    }\n",
       "</style>\n",
       "<table border=\"1\" class=\"dataframe\">\n",
       "  <thead>\n",
       "    <tr style=\"text-align: right;\">\n",
       "      <th></th>\n",
       "      <th>variables</th>\n",
       "      <th>coefficients</th>\n",
       "    </tr>\n",
       "  </thead>\n",
       "  <tbody>\n",
       "    <tr>\n",
       "      <th>0</th>\n",
       "      <td>age</td>\n",
       "      <td>-0.049934</td>\n",
       "    </tr>\n",
       "    <tr>\n",
       "      <th>1</th>\n",
       "      <td>previous</td>\n",
       "      <td>0.025804</td>\n",
       "    </tr>\n",
       "    <tr>\n",
       "      <th>2</th>\n",
       "      <td>job_admin.</td>\n",
       "      <td>0.035484</td>\n",
       "    </tr>\n",
       "    <tr>\n",
       "      <th>3</th>\n",
       "      <td>job_blue-collar</td>\n",
       "      <td>-0.077875</td>\n",
       "    </tr>\n",
       "    <tr>\n",
       "      <th>4</th>\n",
       "      <td>job_entrepreneur</td>\n",
       "      <td>0.000000</td>\n",
       "    </tr>\n",
       "    <tr>\n",
       "      <th>5</th>\n",
       "      <td>job_housemaid</td>\n",
       "      <td>-0.138098</td>\n",
       "    </tr>\n",
       "    <tr>\n",
       "      <th>6</th>\n",
       "      <td>job_management</td>\n",
       "      <td>0.037612</td>\n",
       "    </tr>\n",
       "    <tr>\n",
       "      <th>7</th>\n",
       "      <td>job_retired</td>\n",
       "      <td>0.197510</td>\n",
       "    </tr>\n",
       "    <tr>\n",
       "      <th>8</th>\n",
       "      <td>job_self-employed</td>\n",
       "      <td>-0.026918</td>\n",
       "    </tr>\n",
       "    <tr>\n",
       "      <th>9</th>\n",
       "      <td>job_services</td>\n",
       "      <td>-0.093819</td>\n",
       "    </tr>\n",
       "  </tbody>\n",
       "</table>\n",
       "</div>"
      ],
      "text/plain": [
       "           variables  coefficients\n",
       "0                age     -0.049934\n",
       "1           previous      0.025804\n",
       "2         job_admin.      0.035484\n",
       "3    job_blue-collar     -0.077875\n",
       "4   job_entrepreneur      0.000000\n",
       "5      job_housemaid     -0.138098\n",
       "6     job_management      0.037612\n",
       "7        job_retired      0.197510\n",
       "8  job_self-employed     -0.026918\n",
       "9       job_services     -0.093819"
      ]
     },
     "execution_count": 46,
     "metadata": {},
     "output_type": "execute_result"
    }
   ],
   "source": [
    "Coeff = pd.DataFrame(classifier.coef_).T\n",
    "Var = pd.DataFrame(X_train.columns)\n",
    "coeff_logreg = pd.concat([Var, Coeff], axis=1)\n",
    "\n",
    "coeff_logreg[\"variables\"] = coeff_logreg.iloc[:,0]\n",
    "coeff_logreg[\"coefficients\"] = coeff_logreg.iloc[:,1]\n",
    "\n",
    "coeff_logreg = coeff_logreg.iloc[:, [2,3]]\n",
    "print(\"\\n---- Total variables in model ----\")\n",
    "coeff_logreg.shape[0]\n",
    "coeff_logreg.head(10)\n",
    "\n",
    "\n",
    "coeff_logreg_filtered = coeff_logreg[coeff_logreg[\"coefficients\"] != 0]\n",
    "print(\"\\n---- Variables with non-zero coefficients from regularization ----\")\n",
    "coeff_logreg_filtered.shape[0]\n",
    "coeff_logreg.head(10)"
   ]
  },
  {
   "cell_type": "markdown",
   "metadata": {},
   "source": [
    "##### Naive bayes classifier model"
   ]
  },
  {
   "cell_type": "code",
   "execution_count": 47,
   "metadata": {},
   "outputs": [
    {
     "data": {
      "text/plain": [
       "GaussianNB(priors=None)"
      ]
     },
     "execution_count": 47,
     "metadata": {},
     "output_type": "execute_result"
    },
    {
     "name": "stdout",
     "output_type": "stream",
     "text": [
      "Accuracy of model\n",
      "             precision    recall  f1-score   support\n",
      "\n",
      "          0       0.94      0.91      0.93      6813\n",
      "          1       0.42      0.51      0.46       836\n",
      "\n",
      "avg / total       0.88      0.87      0.88      7649\n",
      "\n",
      "-- -- -- -- AUC curve on test dataset -- -- -- --\n"
     ]
    },
    {
     "data": {
      "text/plain": [
       "[<matplotlib.lines.Line2D at 0x252af293240>]"
      ]
     },
     "execution_count": 47,
     "metadata": {},
     "output_type": "execute_result"
    },
    {
     "data": {
      "text/plain": [
       "Text(0.5,1,'ROC curve - Naive Bayes')"
      ]
     },
     "execution_count": 47,
     "metadata": {},
     "output_type": "execute_result"
    },
    {
     "data": {
      "text/plain": [
       "[<matplotlib.lines.Line2D at 0x252af27aa90>]"
      ]
     },
     "execution_count": 47,
     "metadata": {},
     "output_type": "execute_result"
    },
    {
     "data": {
      "image/png": "[encoded data removed]",
      "text/plain": [
       "<Figure size 720x432 with 1 Axes>"
      ]
     },
     "metadata": {
      "needs_background": "light"
     },
     "output_type": "display_data"
    },
    {
     "name": "stdout",
     "output_type": "stream",
     "text": [
      "AUC : 76.0  %\n"
     ]
    }
   ],
   "source": [
    "# Naive bayes classifier model\n",
    "\n",
    "from sklearn.naive_bayes import GaussianNB\n",
    "classifier = GaussianNB()\n",
    "\n",
    "classifier.fit(X_train, y_train)\n",
    "\n",
    "# Predicting the test set results\n",
    "\n",
    "y_pred = classifier.predict(X_test)\n",
    "y_pred = pd.DataFrame(y_pred)\n",
    "\n",
    "from sklearn.metrics import classification_report\n",
    "print(\"Accuracy of model\")\n",
    "print(classification_report(y_test, y_pred))\n",
    "\n",
    "print(\"-- -- -- -- AUC curve on test dataset -- -- -- --\")\n",
    "from sklearn.metrics import roc_auc_score\n",
    "probs1 = classifier.predict_proba(X_test)\n",
    "# keep probabilities for the positive outcome only\n",
    "probs = probs1[:, 1]\n",
    "# calculate roc curve\n",
    "fpr, tpr, thresholds = roc_curve(np.array(y_test), probs)\n",
    "f = plt.figure(figsize=(10,6))\n",
    "plt.plot([0, 1], [0, 1], linestyle='--')\n",
    "plt.title('ROC curve - Naive Bayes')\n",
    "\n",
    "# plot the roc curve for the model\n",
    "plt.plot(fpr, tpr)\n",
    "\n",
    "# show the plot\n",
    "plt.show()\n",
    "print(\"AUC :\", round(roc_auc_score(y_test, probs)*100), \" %\")\n",
    "\n",
    "# ---- Summary ----\n",
    "auc_test_bayes = round(roc_auc_score(y_test, probs)*100)"
   ]
  },
  {
   "cell_type": "markdown",
   "metadata": {},
   "source": [
    "##### Decision tree classifier model"
   ]
  },
  {
   "cell_type": "code",
   "execution_count": 48,
   "metadata": {},
   "outputs": [
    {
     "data": {
      "text/plain": [
       "DecisionTreeClassifier(class_weight=None, criterion='entropy', max_depth=None,\n",
       "            max_features=None, max_leaf_nodes=None,\n",
       "            min_impurity_decrease=0.0, min_impurity_split=None,\n",
       "            min_samples_leaf=1, min_samples_split=2,\n",
       "            min_weight_fraction_leaf=0.0, presort=False, random_state=0,\n",
       "            splitter='best')"
      ]
     },
     "execution_count": 48,
     "metadata": {},
     "output_type": "execute_result"
    },
    {
     "name": "stdout",
     "output_type": "stream",
     "text": [
      "Accuracy of model\n",
      "             precision    recall  f1-score   support\n",
      "\n",
      "          0       0.92      0.92      0.92      6813\n",
      "          1       0.32      0.33      0.32       836\n",
      "\n",
      "avg / total       0.85      0.85      0.85      7649\n",
      "\n",
      "-- -- -- -- AUC curve on test dataset -- -- -- --\n"
     ]
    },
    {
     "data": {
      "text/plain": [
       "[<matplotlib.lines.Line2D at 0x252af35b9b0>]"
      ]
     },
     "execution_count": 48,
     "metadata": {},
     "output_type": "execute_result"
    },
    {
     "data": {
      "text/plain": [
       "Text(0.5,1,'ROC curve - Decision tree')"
      ]
     },
     "execution_count": 48,
     "metadata": {},
     "output_type": "execute_result"
    },
    {
     "data": {
      "text/plain": [
       "[<matplotlib.lines.Line2D at 0x252af34a358>]"
      ]
     },
     "execution_count": 48,
     "metadata": {},
     "output_type": "execute_result"
    },
    {
     "data": {
      "image/png": "[encoded data removed]",
      "text/plain": [
       "<Figure size 720x432 with 1 Axes>"
      ]
     },
     "metadata": {
      "needs_background": "light"
     },
     "output_type": "display_data"
    },
    {
     "name": "stdout",
     "output_type": "stream",
     "text": [
      "AUC : 62.0  %\n"
     ]
    }
   ],
   "source": [
    "# Fitting a decision tree classifier to the training set\n",
    "\n",
    "from sklearn.tree import DecisionTreeClassifier \n",
    "classifier = DecisionTreeClassifier(criterion = 'entropy', random_state = 0)\n",
    "classifier.fit(X_train, y_train)\n",
    "\n",
    "# Predicting the test set results\n",
    "\n",
    "y_pred = classifier.predict(X_test)\n",
    "y_pred = pd.DataFrame(y_pred)\n",
    "\n",
    "from sklearn.metrics import classification_report\n",
    "print(\"Accuracy of model\")\n",
    "print(classification_report(y_test, y_pred))\n",
    "\n",
    "print(\"-- -- -- -- AUC curve on test dataset -- -- -- --\")\n",
    "from sklearn.metrics import roc_auc_score\n",
    "probs1 = classifier.predict_proba(X_test)\n",
    "# keep probabilities for the positive outcome only\n",
    "probs = probs1[:, 1]\n",
    "# calculate roc curve\n",
    "fpr, tpr, thresholds = roc_curve(np.array(y_test), probs)\n",
    "f = plt.figure(figsize=(10,6))\n",
    "plt.plot([0, 1], [0, 1], linestyle='--')\n",
    "\n",
    "plt.title('ROC curve - Decision tree')\n",
    "# plot the roc curve for the model\n",
    "plt.plot(fpr, tpr)\n",
    "# show the plot\n",
    "plt.show()\n",
    "print(\"AUC :\", round(roc_auc_score(y_test, probs)*100), \" %\")\n",
    "\n",
    "# ---- Summary ----\n",
    "auc_test_dectree = round(roc_auc_score(y_test, probs)*100)"
   ]
  },
  {
   "cell_type": "markdown",
   "metadata": {},
   "source": [
    "##### Random forest classifier model"
   ]
  },
  {
   "cell_type": "code",
   "execution_count": 49,
   "metadata": {},
   "outputs": [
    {
     "name": "stderr",
     "output_type": "stream",
     "text": [
      "C:\\Users\\Rudrendu\\Anaconda3\\lib\\site-packages\\sklearn\\ensemble\\weight_boosting.py:29: DeprecationWarning: numpy.core.umath_tests is an internal NumPy module and should not be imported. It will be removed in a future NumPy release.\n",
      "  from numpy.core.umath_tests import inner1d\n"
     ]
    },
    {
     "data": {
      "text/plain": [
       "RandomForestClassifier(bootstrap=True, class_weight=None, criterion='gini',\n",
       "            max_depth=None, max_features='auto', max_leaf_nodes=None,\n",
       "            min_impurity_decrease=0.0, min_impurity_split=None,\n",
       "            min_samples_leaf=1, min_samples_split=2,\n",
       "            min_weight_fraction_leaf=0.0, n_estimators=200, n_jobs=1,\n",
       "            oob_score=False, random_state=0, verbose=0, warm_start=False)"
      ]
     },
     "execution_count": 49,
     "metadata": {},
     "output_type": "execute_result"
    },
    {
     "name": "stdout",
     "output_type": "stream",
     "text": [
      "Accuracy of model\n",
      "             precision    recall  f1-score   support\n",
      "\n",
      "          0       0.92      0.95      0.93      6813\n",
      "          1       0.44      0.29      0.35       836\n",
      "\n",
      "avg / total       0.86      0.88      0.87      7649\n",
      "\n",
      "-- -- -- -- AUC curve on test dataset -- -- -- --\n"
     ]
    },
    {
     "data": {
      "text/plain": [
       "[<matplotlib.lines.Line2D at 0x252af46eeb8>]"
      ]
     },
     "execution_count": 49,
     "metadata": {},
     "output_type": "execute_result"
    },
    {
     "data": {
      "text/plain": [
       "[<matplotlib.lines.Line2D at 0x252af432828>]"
      ]
     },
     "execution_count": 49,
     "metadata": {},
     "output_type": "execute_result"
    },
    {
     "data": {
      "text/plain": [
       "Text(0.5,1,'ROC curve - Random Forest')"
      ]
     },
     "execution_count": 49,
     "metadata": {},
     "output_type": "execute_result"
    },
    {
     "data": {
      "image/png": "[encoded data removed]",
      "text/plain": [
       "<Figure size 720x432 with 1 Axes>"
      ]
     },
     "metadata": {
      "needs_background": "light"
     },
     "output_type": "display_data"
    },
    {
     "name": "stdout",
     "output_type": "stream",
     "text": [
      "AUC : 76.0  %\n"
     ]
    }
   ],
   "source": [
    "# Fitting a random forest classifier to the training set\n",
    "\n",
    "from sklearn.ensemble import RandomForestClassifier \n",
    "classifier = RandomForestClassifier(n_estimators = 200, random_state = 0)\n",
    "classifier.fit(X_train, y_train)\n",
    "\n",
    "# Predicting the test set results\n",
    "\n",
    "y_pred = classifier.predict(X_test)\n",
    "y_pred = pd.DataFrame(y_pred)\n",
    "\n",
    "from sklearn.metrics import classification_report\n",
    "print(\"Accuracy of model\")\n",
    "print(classification_report(y_test, y_pred))\n",
    "\n",
    "print(\"-- -- -- -- AUC curve on test dataset -- -- -- --\")\n",
    "from sklearn.metrics import roc_auc_score\n",
    "probs1 = classifier.predict_proba(X_test)\n",
    "# keep probabilities for the positive outcome only\n",
    "probs = probs1[:, 1]\n",
    "# calculate roc curve\n",
    "fpr, tpr, thresholds = roc_curve(np.array(y_test), probs)\n",
    "f = plt.figure(figsize=(10,6))\n",
    "plt.plot([0, 1], [0, 1], linestyle='--')\n",
    "# plot the roc curve for the model\n",
    "plt.plot(fpr, tpr)\n",
    "plt.title('ROC curve - Random Forest')\n",
    "\n",
    "# show the plot\n",
    "plt.show()\n",
    "print(\"AUC :\", round(roc_auc_score(y_test, probs)*100), \" %\")\n",
    "\n",
    "# ---- Summary ----\n",
    "auc_test_randfor = round(roc_auc_score(y_test, probs)*100)"
   ]
  },
  {
   "cell_type": "markdown",
   "metadata": {},
   "source": [
    "#### Variable Importance from Random Forest"
   ]
  },
  {
   "cell_type": "code",
   "execution_count": 50,
   "metadata": {},
   "outputs": [
    {
     "name": "stdout",
     "output_type": "stream",
     "text": [
      "Total variables in model:  432\n"
     ]
    },
    {
     "data": {
      "text/html": [
       "<div>\n",
       "<style scoped>\n",
       "    .dataframe tbody tr th:only-of-type {\n",
       "        vertical-align: middle;\n",
       "    }\n",
       "\n",
       "    .dataframe tbody tr th {\n",
       "        vertical-align: top;\n",
       "    }\n",
       "\n",
       "    .dataframe thead th {\n",
       "        text-align: right;\n",
       "    }\n",
       "</style>\n",
       "<table border=\"1\" class=\"dataframe\">\n",
       "  <thead>\n",
       "    <tr style=\"text-align: right;\">\n",
       "      <th></th>\n",
       "      <th>feature</th>\n",
       "      <th>importance</th>\n",
       "    </tr>\n",
       "  </thead>\n",
       "  <tbody>\n",
       "    <tr>\n",
       "      <th>0</th>\n",
       "      <td>age</td>\n",
       "      <td>0.248123</td>\n",
       "    </tr>\n",
       "    <tr>\n",
       "      <th>44</th>\n",
       "      <td>poutcome_success</td>\n",
       "      <td>0.029379</td>\n",
       "    </tr>\n",
       "    <tr>\n",
       "      <th>24</th>\n",
       "      <td>housing_yes</td>\n",
       "      <td>0.023307</td>\n",
       "    </tr>\n",
       "    <tr>\n",
       "      <th>23</th>\n",
       "      <td>housing_no</td>\n",
       "      <td>0.023251</td>\n",
       "    </tr>\n",
       "    <tr>\n",
       "      <th>1</th>\n",
       "      <td>previous</td>\n",
       "      <td>0.022723</td>\n",
       "    </tr>\n",
       "    <tr>\n",
       "      <th>2</th>\n",
       "      <td>job_admin.</td>\n",
       "      <td>0.020734</td>\n",
       "    </tr>\n",
       "    <tr>\n",
       "      <th>14</th>\n",
       "      <td>marital_married</td>\n",
       "      <td>0.019991</td>\n",
       "    </tr>\n",
       "    <tr>\n",
       "      <th>22</th>\n",
       "      <td>education_university.degree</td>\n",
       "      <td>0.019599</td>\n",
       "    </tr>\n",
       "    <tr>\n",
       "      <th>19</th>\n",
       "      <td>education_high.school</td>\n",
       "      <td>0.019076</td>\n",
       "    </tr>\n",
       "    <tr>\n",
       "      <th>15</th>\n",
       "      <td>marital_single</td>\n",
       "      <td>0.017805</td>\n",
       "    </tr>\n",
       "  </tbody>\n",
       "</table>\n",
       "</div>"
      ],
      "text/plain": [
       "                        feature  importance\n",
       "0                           age    0.248123\n",
       "44             poutcome_success    0.029379\n",
       "24                  housing_yes    0.023307\n",
       "23                   housing_no    0.023251\n",
       "1                      previous    0.022723\n",
       "2                    job_admin.    0.020734\n",
       "14              marital_married    0.019991\n",
       "22  education_university.degree    0.019599\n",
       "19        education_high.school    0.019076\n",
       "15               marital_single    0.017805"
      ]
     },
     "execution_count": 50,
     "metadata": {},
     "output_type": "execute_result"
    },
    {
     "name": "stdout",
     "output_type": "stream",
     "text": [
      "-------- Applying 80-20 rule to identify the Top 20% of variables which explain 80% of variation --------\n",
      "age\n",
      "poutcome_success\n",
      "housing_yes\n",
      "housing_no\n",
      "previous\n",
      "job_admin.\n",
      "marital_married\n",
      "education_university.degree\n",
      "education_high.school\n",
      "marital_single\n",
      "job_technician\n",
      "education_professional.course\n",
      "poutcome_failure\n",
      "day_of_week_mon\n",
      "job_blue-collar\n",
      "education_basic.9y\n",
      "day_of_week_wed\n",
      "day_of_week_tue\n",
      "day_of_week_thu\n",
      "marital_divorced\n",
      "day_of_week_fri\n",
      "poutcome_nonexistent\n",
      "job_management\n",
      "contact_telephone\n",
      "contact_cellular\n",
      "job_services\n",
      "education_basic.4y\n",
      "job_retired\n",
      "nr.employed_5008.7\n",
      "education_basic.6y\n",
      "job_self-employed\n",
      "month_mar\n",
      "emp.var.rate_-1.7\n",
      "nr.employed_4991.6\n",
      "nr.employed_5076.2\n",
      "emp.var.rate_-3.4\n",
      "emp.var.rate_-2.9\n",
      "job_entrepreneur\n",
      "job_unemployed\n",
      "nr.employed_5017.5\n",
      "job_student\n",
      "month_oct\n",
      "job_housemaid\n",
      "nr.employed_4963.6\n",
      "euribor3m_1.365\n",
      "emp.var.rate_-1.1\n",
      "nr.employed_5228.1\n",
      "emp.var.rate_1.4\n",
      "month_may\n",
      "cons.conf.idx_-46.2\n",
      "cons.price.idx_94.215\n",
      "nr.employed_5099.1\n",
      "euribor3m_4.962\n",
      "cons.price.idx_92.963\n",
      "month_sep\n",
      "\n",
      " Total variables that explain 80% of variation:  54\n",
      "\n",
      " 12.5 % of the variables explain 80% of total variation in output\n"
     ]
    }
   ],
   "source": [
    "# Extract feature importances\n",
    "fi = pd.DataFrame({'feature': list(X_train),\n",
    "                   'importance': classifier.feature_importances_}).\\\n",
    "                    sort_values('importance', ascending = False)\n",
    "\n",
    "# Display\n",
    "print(\"Total variables in model: \",fi.shape[0])\n",
    "fi.head(10)\n",
    "\n",
    "a1 = fi[\"importance\"].sum()\n",
    "a3 = 0\n",
    "fi_mod = 0\n",
    "\n",
    "print(\"-------- Applying 80-20 rule to identify the Top 20% of variables which explain 80% of variation --------\") \n",
    "for i in range(fi.shape[0]): \n",
    "    a2 = fi.iloc[i,1]\n",
    "    a3 = a3 + a2\n",
    "    print(fi.iloc[i,0])\n",
    "    if a3 > 0.8*fi[\"importance\"].sum():\n",
    "        b = i\n",
    "        print(\"\\n Total variables that explain 80% of variation: \", b)\n",
    "        break\n",
    "\n",
    "print(\"\\n\", round((b/fi.shape[0])*100, 1), \"% of the variables explain 80% of total variation in output\")"
   ]
  },
  {
   "cell_type": "markdown",
   "metadata": {},
   "source": [
    "## Principal Component Analysis"
   ]
  },
  {
   "cell_type": "code",
   "execution_count": 51,
   "metadata": {},
   "outputs": [
    {
     "name": "stdout",
     "output_type": "stream",
     "text": [
      "Variation explained by each principal component\n"
     ]
    },
    {
     "data": {
      "text/plain": [
       "[0.12865224608378886,\n",
       " 0.1117004190346826,\n",
       " 0.10013626213961732,\n",
       " 0.06266099381580197,\n",
       " 0.05040060249692657,\n",
       " 0.0436201997455702,\n",
       " 0.042634779834765914,\n",
       " 0.04099632845445302,\n",
       " 0.033042479156901755,\n",
       " 0.02589232052896954]"
      ]
     },
     "execution_count": 51,
     "metadata": {},
     "output_type": "execute_result"
    },
    {
     "name": "stdout",
     "output_type": "stream",
     "text": [
      "\n",
      "Applying 80-20 rule to identify the top 20% principal components which explain 80% of variation\n",
      "\n",
      "Variation explained by the top 34 principal components is  90.3  %\n"
     ]
    }
   ],
   "source": [
    "# Checking the variance explained by each principal component\n",
    "\n",
    "from sklearn.decomposition import PCA\n",
    "pca = PCA(n_components = None)\n",
    "X_train_pca = pca.fit_transform(X_train)\n",
    "X_test_pca = pca.transform(X_test)\n",
    "explained_variance = pca.explained_variance_ratio_\n",
    "print(\"Variation explained by each principal component\")\n",
    "list(explained_variance)[0:10]\n",
    "print(\"\\nApplying 80-20 rule to identify the top 20% principal components which explain 80% of variation\\n\")  \n",
    "\n",
    "i = 34\n",
    "pca_var_explained = round(sum(list(explained_variance)[0:i])*100, 1)\n",
    "\n",
    "print(\"Variation explained by the top\", i, \"principal components is \", pca_var_explained, \" %\")"
   ]
  },
  {
   "cell_type": "markdown",
   "metadata": {},
   "source": [
    "#### Analysis: I shall choose the top 34 principal components.\n",
    "\n",
    "The top 34 principal components explain 90 % variance in the dataset. Beyond the top 2, the marginial gain in variance for adding each principal componenet is significantly reduced.\n",
    "\n",
    "Applying principal component analysis, achieves variable reduction as only 34 principal components can explain 90 % of the variation explained by 426 variables in original training dataset."
   ]
  },
  {
   "cell_type": "markdown",
   "metadata": {},
   "source": [
    "### Selecting the top 34 principal components"
   ]
  },
  {
   "cell_type": "code",
   "execution_count": 54,
   "metadata": {},
   "outputs": [],
   "source": [
    "# Principal component analysis to take the 34 top components\n",
    "\n",
    "i = 34\n",
    "from sklearn.decomposition import PCA\n",
    "pca = PCA(n_components = i)\n",
    "X_train_pca = pca.fit_transform(X_train)\n",
    "X_test_pca = pca.transform(X_test)\n",
    "explained_variance = pca.explained_variance_ratio_"
   ]
  },
  {
   "cell_type": "markdown",
   "metadata": {},
   "source": [
    "#### KNN Model (with PCA)"
   ]
  },
  {
   "cell_type": "code",
   "execution_count": 55,
   "metadata": {},
   "outputs": [
    {
     "data": {
      "text/plain": [
       "KNeighborsClassifier(algorithm='auto', leaf_size=30, metric='minkowski',\n",
       "           metric_params=None, n_jobs=1, n_neighbors=50, p=2,\n",
       "           weights='uniform')"
      ]
     },
     "execution_count": 55,
     "metadata": {},
     "output_type": "execute_result"
    },
    {
     "name": "stdout",
     "output_type": "stream",
     "text": [
      "Accuracy of model\n",
      "             precision    recall  f1-score   support\n",
      "\n",
      "          0       0.91      0.99      0.95      6813\n",
      "          1       0.64      0.19      0.29       836\n",
      "\n",
      "avg / total       0.88      0.90      0.87      7649\n",
      "\n",
      "-- -- -- -- AUC curve on test dataset -- -- -- --\n"
     ]
    },
    {
     "data": {
      "text/plain": [
       "[<matplotlib.lines.Line2D at 0x252afa41be0>]"
      ]
     },
     "execution_count": 55,
     "metadata": {},
     "output_type": "execute_result"
    },
    {
     "data": {
      "text/plain": [
       "Text(0.5,1,'ROC curve - KNN')"
      ]
     },
     "execution_count": 55,
     "metadata": {},
     "output_type": "execute_result"
    },
    {
     "data": {
      "text/plain": [
       "[<matplotlib.lines.Line2D at 0x252afa41d30>]"
      ]
     },
     "execution_count": 55,
     "metadata": {},
     "output_type": "execute_result"
    },
    {
     "data": {
      "image/png": "[encoded data removed]",
      "text/plain": [
       "<Figure size 720x432 with 1 Axes>"
      ]
     },
     "metadata": {
      "needs_background": "light"
     },
     "output_type": "display_data"
    },
    {
     "name": "stdout",
     "output_type": "stream",
     "text": [
      "AUC : 77.0  %\n"
     ]
    }
   ],
   "source": [
    "# Fitting a KNN model on training set with PCA transformation\n",
    "\n",
    "from sklearn.neighbors import KNeighborsClassifier\n",
    "classifier = KNeighborsClassifier(n_neighbors=50)\n",
    "classifier.fit(X_train_pca, y_train) # training set with pca transformation\n",
    "\n",
    "# Predicting the test set results\n",
    "\n",
    "y_pred = classifier.predict(X_test_pca) # training set with pca transformation\n",
    "y_pred = pd.DataFrame(y_pred)\n",
    "\n",
    "from sklearn.metrics import classification_report\n",
    "print(\"Accuracy of model\")\n",
    "print(classification_report(y_test, y_pred))\n",
    "\n",
    "print(\"-- -- -- -- AUC curve on test dataset -- -- -- --\")\n",
    "from sklearn.metrics import roc_auc_score\n",
    "probs1 = classifier.predict_proba(X_test_pca)  # training set with pca transformation\n",
    "# keep probabilities for the positive outcome only\n",
    "probs = probs1[:, 1]\n",
    "# calculate roc curve\n",
    "fpr, tpr, thresholds = roc_curve(np.array(y_test), probs)\n",
    "f = plt.figure(figsize=(10,6))\n",
    "plt.plot([0, 1], [0, 1], linestyle='--')\n",
    "\n",
    "plt.title('ROC curve - KNN')\n",
    "# plot the roc curve for the model\n",
    "plt.plot(fpr, tpr)\n",
    "# show the plot\n",
    "plt.show()\n",
    "print(\"AUC :\", round(roc_auc_score(y_test, probs)*100), \" %\")\n",
    "\n",
    "# ---- Summary ----\n",
    "auc_test_knn = round(roc_auc_score(y_test, probs)*100)"
   ]
  },
  {
   "cell_type": "markdown",
   "metadata": {},
   "source": [
    "#### Gradient boosted tree model (with PCA)"
   ]
  },
  {
   "cell_type": "code",
   "execution_count": 56,
   "metadata": {},
   "outputs": [
    {
     "data": {
      "text/plain": [
       "GradientBoostingClassifier(criterion='friedman_mse', init=None,\n",
       "              learning_rate=0.1, loss='deviance', max_depth=3,\n",
       "              max_features=None, max_leaf_nodes=None,\n",
       "              min_impurity_decrease=0.0, min_impurity_split=None,\n",
       "              min_samples_leaf=1, min_samples_split=2,\n",
       "              min_weight_fraction_leaf=0.0, n_estimators=100,\n",
       "              presort='auto', random_state=None, subsample=1.0, verbose=0,\n",
       "              warm_start=False)"
      ]
     },
     "execution_count": 56,
     "metadata": {},
     "output_type": "execute_result"
    },
    {
     "name": "stdout",
     "output_type": "stream",
     "text": [
      "Accuracy of model\n",
      "             precision    recall  f1-score   support\n",
      "\n",
      "          0       0.91      0.98      0.95      6813\n",
      "          1       0.63      0.21      0.32       836\n",
      "\n",
      "avg / total       0.88      0.90      0.88      7649\n",
      "\n",
      "-- -- -- -- AUC curve on test dataset -- -- -- --\n"
     ]
    },
    {
     "data": {
      "text/plain": [
       "[<matplotlib.lines.Line2D at 0x252af7a8c18>]"
      ]
     },
     "execution_count": 56,
     "metadata": {},
     "output_type": "execute_result"
    },
    {
     "data": {
      "text/plain": [
       "Text(0.5,1,'ROC curve - Gradient boosted tree')"
      ]
     },
     "execution_count": 56,
     "metadata": {},
     "output_type": "execute_result"
    },
    {
     "data": {
      "text/plain": [
       "[<matplotlib.lines.Line2D at 0x252af7a8d68>]"
      ]
     },
     "execution_count": 56,
     "metadata": {},
     "output_type": "execute_result"
    },
    {
     "data": {
      "image/png": "[encoded data removed]",
      "text/plain": [
       "<Figure size 720x432 with 1 Axes>"
      ]
     },
     "metadata": {
      "needs_background": "light"
     },
     "output_type": "display_data"
    },
    {
     "name": "stdout",
     "output_type": "stream",
     "text": [
      "AUC : 78.0  %\n"
     ]
    }
   ],
   "source": [
    "# Fitting a Gradient boosted tree model on training set with PCA transformation\n",
    "\n",
    "from sklearn.ensemble import GradientBoostingClassifier\n",
    "classifier = GradientBoostingClassifier(n_estimators = 100)\n",
    "classifier.fit(X_train_pca, y_train) # training set with pca transformation\n",
    "\n",
    "# Predicting the test set results\n",
    "\n",
    "y_pred = classifier.predict(X_test_pca) # training set with pca transformation\n",
    "y_pred = pd.DataFrame(y_pred)\n",
    "\n",
    "from sklearn.metrics import classification_report\n",
    "print(\"Accuracy of model\")\n",
    "print(classification_report(y_test, y_pred))\n",
    "\n",
    "print(\"-- -- -- -- AUC curve on test dataset -- -- -- --\")\n",
    "from sklearn.metrics import roc_auc_score\n",
    "probs1 = classifier.predict_proba(X_test_pca)  # training set with pca transformation\n",
    "# keep probabilities for the positive outcome only\n",
    "probs = probs1[:, 1]\n",
    "# calculate roc curve\n",
    "fpr, tpr, thresholds = roc_curve(np.array(y_test), probs)\n",
    "f = plt.figure(figsize=(10,6))\n",
    "plt.plot([0, 1], [0, 1], linestyle='--')\n",
    "\n",
    "plt.title('ROC curve - Gradient boosted tree')\n",
    "# plot the roc curve for the model\n",
    "plt.plot(fpr, tpr)\n",
    "# show the plot\n",
    "plt.show()\n",
    "print(\"AUC :\", round(roc_auc_score(y_test, probs)*100), \" %\")\n",
    "\n",
    "# ---- Summary ----\n",
    "auc_test_boosted_tree = round(roc_auc_score(y_test, probs)*100)"
   ]
  },
  {
   "cell_type": "markdown",
   "metadata": {},
   "source": [
    "#### SVM Classifier (with PCA)"
   ]
  },
  {
   "cell_type": "code",
   "execution_count": null,
   "metadata": {
    "scrolled": true
   },
   "outputs": [],
   "source": [
    "# Fitting a SVM classifier model on training set with PCA transformation\n",
    "\n",
    "from sklearn.svm import SVC\n",
    "classifier = SVC(kernel = 'rbf', probability = True)\n",
    "classifier.fit(X_train_pca, y_train) # training set with pca transformation\n",
    "\n",
    "# Predicting the test set results\n",
    "\n",
    "y_pred = classifier.predict(X_test_pca) # training set with pca transformation\n",
    "y_pred = pd.DataFrame(y_pred)\n",
    "\n",
    "from sklearn.metrics import classification_report\n",
    "print(\"Accuracy of model\")\n",
    "print(classification_report(y_test, y_pred))\n",
    "\n",
    "print(\"-- -- -- -- AUC curve on test dataset -- -- -- --\")\n",
    "from sklearn.metrics import roc_auc_score\n",
    "probs1 = classifier.predict_proba(X_test_pca)  # training set with pca transformation\n",
    "# keep probabilities for the positive outcome only\n",
    "probs = probs1[:, 1]\n",
    "# calculate roc curve\n",
    "fpr, tpr, thresholds = roc_curve(np.array(y_test), probs)\n",
    "f = plt.figure(figsize=(10,6))\n",
    "plt.plot([0, 1], [0, 1], linestyle='--')\n",
    "\n",
    "plt.title('ROC curve - SVM classifier')\n",
    "# plot the roc curve for the model\n",
    "plt.plot(fpr, tpr)\n",
    "# show the plot\n",
    "plt.show()\n",
    "print(\"AUC :\", round(roc_auc_score(y_test, probs)*100), \" %\")\n",
    "\n",
    "# ---- Summary ----\n",
    "auc_test_svm_classifier = round(roc_auc_score(y_test, probs)*100)"
   ]
  },
  {
   "cell_type": "markdown",
   "metadata": {},
   "source": [
    "#### Summary metrics for all models "
   ]
  },
  {
   "cell_type": "code",
   "execution_count": null,
   "metadata": {},
   "outputs": [],
   "source": [
    "d1 = {'logistic regression': [auc_test_logreg], 'boosted tree (pca)': [auc_test_boosted_tree], 'knn (pca)': [auc_test_knn], 'random forest': [auc_test_randfor], 'bayes': [auc_test_bayes ], 'svm classifier (pca)': [auc_test_svm_classifier], 'decision tree': [auc_test_dectree]}\n",
    "\n",
    "AUC_model_test1 = pd.DataFrame(d1)\n",
    "AUC_test_set = AUC_model_test1\n",
    "AUC_test_set = AUC_test_set.T\n",
    "AUC_test_set.columns = [\"%_AUC_score\"]\n",
    "AUC_test_set\n",
    "\n",
    "AUC_test_set.plot(kind = \"bar\")\n",
    "plt.title('% AUC scores test_set')\n",
    "plt.xlabel('ml models')\n",
    "plt.ylabel('AUC %')\n",
    "plt.ylim(60,80)\n",
    "plt.show()"
   ]
  },
  {
   "cell_type": "markdown",
   "metadata": {},
   "source": [
    "####  Model Selection"
   ]
  },
  {
   "cell_type": "markdown",
   "metadata": {},
   "source": [
    "Linear logistic regression gives the best results, based on the test set AUC score."
   ]
  },
  {
   "cell_type": "markdown",
   "metadata": {},
   "source": [
    "#####  Response predicted by best model"
   ]
  },
  {
   "cell_type": "code",
   "execution_count": null,
   "metadata": {
    "scrolled": true
   },
   "outputs": [],
   "source": [
    "y_pred1 = classifier1.predict_proba(X_test)[:,1]\n",
    "y_pred1 = pd.DataFrame(y_pred1)\n",
    "y_pred1.columns = ['Rank Scored probabilities']\n",
    "y_pred1 = y_pred1.sort_values('Rank Scored probabilities', ascending = False)\n",
    "y_pred1.reset_index(drop=True, inplace=True)\n",
    "\n",
    "y_pred1.plot(kind = \"line\")\n",
    "plt.title('Lift chart - test set')\n",
    "plt.xlabel('people')\n",
    "plt.ylabel('probability')"
   ]
  },
  {
   "cell_type": "code",
   "execution_count": null,
   "metadata": {},
   "outputs": [],
   "source": [
    "top_segment = 1500 # from lift curve shown above\n",
    "new_list = y_pred1.iloc[top_segment]\n",
    "response_top_segment = y_pred1.iloc[0:top_segment].mean()\n",
    "response_top_segment = round(np.array(response_top_segment)[0],3)\n",
    "print(\"Average response rate for customers in the new list:\", response_top_segment)"
   ]
  },
  {
   "cell_type": "markdown",
   "metadata": {},
   "source": [
    "## Business Application"
   ]
  },
  {
   "cell_type": "markdown",
   "metadata": {},
   "source": [
    "### Case I: Campaign by mailing everyone on list\n",
    "\n",
    "#### Baseline performance"
   ]
  },
  {
   "cell_type": "markdown",
   "metadata": {},
   "source": [
    "Mailing to everyone in list without using model\n",
    "\n",
    "Average response rate from customers in test set list is 10.93 %\n",
    "\n",
    "Total customers in test set list  = 7,649\n",
    "\n",
    "Expected rev from customers for every positive response is $ 10\n",
    "\n",
    "Cost of each mailing is $ 2"
   ]
  },
  {
   "cell_type": "code",
   "execution_count": null,
   "metadata": {
    "tags": [
     "Business_Case_Scenario_I"
    ]
   },
   "outputs": [],
   "source": [
    "test_set_list = y_test.shape[0]\n",
    "rev = 10\n",
    "cost = 2\n",
    "print(\"Total size of test set:\", test_set_list)\n",
    "response_rate = round(y_test.mean(), 4)\n",
    "\n",
    "print(\"\\nAverage response rate of people in test set:\", response_rate)\n",
    "total_campaign_profit = round((response_rate * rev - cost)*test_set_list)\n",
    "roi_test_list = round(total_campaign_profit/(cost*test_set_list)*100)\n",
    "\n",
    "print (\"\\n---- Mailing everyone in test set list ----\\n\")\n",
    "print(\"Total campaign profit: $\", round(total_campaign_profit)) \n",
    "print(\"ROI:\", roi_test_list, \"%\")"
   ]
  },
  {
   "cell_type": "markdown",
   "metadata": {},
   "source": [
    "Marketing to every person on the list results in a loss of almost $ 7k and a ROI of negative 45 %"
   ]
  },
  {
   "cell_type": "markdown",
   "metadata": {},
   "source": [
    "### Case II: Campaign based on model\n",
    "\n",
    "#### Model performance "
   ]
  },
  {
   "cell_type": "markdown",
   "metadata": {},
   "source": [
    "#### Mailing only to people in target list:\n",
    "\n",
    "Average response rate in the top customer segment is 35.8 % (Applying elbow method on graph shown above)\n",
    "\n",
    "Total customers in list  = 1500 (Obtained from graph shown above)\n",
    "\n",
    "Expected revenue from customers for every positive response is $ 10\n",
    "\n",
    "Cost of each mailing is $ 3"
   ]
  },
  {
   "cell_type": "code",
   "execution_count": null,
   "metadata": {
    "tags": [
     "Business_Case_Scenario_II"
    ]
   },
   "outputs": [],
   "source": [
    "new_list = top_segment\n",
    "response_rate = response_top_segment\n",
    "\n",
    "total_campaign_profit = round((response_rate * rev - cost)*new_list)\n",
    "roi_target_list = round(total_campaign_profit/(cost*new_list)*100)\n",
    "\n",
    "print (\"\\nMarketing only to targeted list of people suggested by model:\")\n",
    "print(\"\\n Total campaign profit: $\", total_campaign_profit)\n",
    "print(\"\\n ROI %:\", roi_target_list)"
   ]
  },
  {
   "cell_type": "markdown",
   "metadata": {},
   "source": [
    "Marketing to people on targetted list results in a profit of $ 2,374 with a ROI of 79 %.\n",
    "\n",
    "Using the model for campaiging improves the campaign ROI to 79 % from -45 % (baseline).\n",
    "\n",
    "Marketing to new list of people with high probability of conversion identified by the machine learning model, improves response rate to 36 % (best model), 3.5X the overall average response rate of 11 % (baseline) and improves ROI from -45 % (baseline) to 79 % (best model)."
   ]
  }
 ],
 "metadata": {
  "kernelspec": {
   "display_name": "Python 3",
   "language": "python",
   "name": "python3"
  },
  "language_info": {
   "codemirror_mode": {
    "name": "ipython",
    "version": 3
   },
   "file_extension": ".py",
   "mimetype": "text/x-python",
   "name": "python",
   "nbconvert_exporter": "python",
   "pygments_lexer": "ipython3",
   "version": "3.7.0"
  },
  "widgets": {
   "application/vnd.jupyter.widget-state+json": {
    "state": {},
    "version_major": 2,
    "version_minor": 0
   }
  }
 },
 "nbformat": 4,
 "nbformat_minor": 2
}
